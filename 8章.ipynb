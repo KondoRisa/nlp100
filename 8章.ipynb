{
  "nbformat": 4,
  "nbformat_minor": 0,
  "metadata": {
    "colab": {
      "provenance": []
    },
    "kernelspec": {
      "name": "python3",
      "display_name": "Python 3"
    },
    "language_info": {
      "name": "python"
    }
  },
  "cells": [
    {
      "cell_type": "markdown",
      "source": [
        "#第8章\n",
        "第6章で取り組んだニュース記事のカテゴリ分類を題材として，ニューラルネットワークでカテゴリ分類モデルを実装する．なお，この章ではPyTorch, TensorFlow, Chainerなどの機械学習プラットフォームを活用せよ．\n",
        "\n",
        "**PyTorch** を使う"
      ],
      "metadata": {
        "id": "2IAQAjLuZck9"
      }
    },
    {
      "cell_type": "code",
      "execution_count": 1,
      "metadata": {
        "id": "hhJYbpXGWbso",
        "colab": {
          "base_uri": "https://localhost:8080/"
        },
        "outputId": "a630be1f-6709-4bfb-9c64-470fa62fcbfa"
      },
      "outputs": [
        {
          "output_type": "stream",
          "name": "stdout",
          "text": [
            "Mounted at /content/drive\n"
          ]
        }
      ],
      "source": [
        "from google.colab import drive\n",
        "drive.mount('/content/drive')"
      ]
    },
    {
      "cell_type": "code",
      "source": [
        "path = '/content/drive/MyDrive/nlp100/'"
      ],
      "metadata": {
        "id": "YvYJ-a-gWdfa"
      },
      "execution_count": 2,
      "outputs": []
    },
    {
      "cell_type": "markdown",
      "source": [
        "#70. 単語ベクトルの和による特徴量\n",
        "問題50で構築した学習データ，検証データ，評価データを行列・ベクトルに変換したい．例えば，学習データについて，すべての事例xi\n",
        "の特徴ベクトルxi\n",
        "を並べた行列X\n",
        "と，正解ラベルを並べた行列（ベクトル）Y\n",
        "を作成したい．\n",
        "\n",
        "仕様に基づき，以下の行列・ベクトルを作成し，ファイルに保存せよ．\n",
        "\n",
        "* 学習データの特徴量行列: Xtrain\n",
        "* 学習データのラベルベクトル: Ytrain\n",
        "* 検証データの特徴量行列: Xvalid\n",
        "* 検証データのラベルベクトル: Yvalid\n",
        "* 評価データの特徴量行列: Xtest\n",
        "* 評価データのラベルベクトル: Ytest"
      ],
      "metadata": {
        "id": "710ufYrItCvi"
      }
    },
    {
      "cell_type": "code",
      "source": [
        "!unzip /content/drive/MyDrive/nlp100/NewsAggregatorDataset.zip"
      ],
      "metadata": {
        "colab": {
          "base_uri": "https://localhost:8080/"
        },
        "id": "bXj8jNbfwyxo",
        "outputId": "a02aed0f-864a-4137-e80f-a09a77a5acb8"
      },
      "execution_count": 3,
      "outputs": [
        {
          "output_type": "stream",
          "name": "stdout",
          "text": [
            "Archive:  /content/drive/MyDrive/nlp100/NewsAggregatorDataset.zip\n",
            "  inflating: 2pageSessions.csv       \n",
            "   creating: __MACOSX/\n",
            "  inflating: __MACOSX/._2pageSessions.csv  \n",
            "  inflating: newsCorpora.csv         \n",
            "  inflating: __MACOSX/._newsCorpora.csv  \n",
            "  inflating: readme.txt              \n",
            "  inflating: __MACOSX/._readme.txt   \n"
          ]
        }
      ]
    },
    {
      "cell_type": "code",
      "source": [
        "!pip install nltk"
      ],
      "metadata": {
        "colab": {
          "base_uri": "https://localhost:8080/"
        },
        "id": "tZ-9QOSL2Ndq",
        "outputId": "b67f030e-85e3-474b-dec5-cc087e4e23d0"
      },
      "execution_count": 4,
      "outputs": [
        {
          "output_type": "stream",
          "name": "stdout",
          "text": [
            "Looking in indexes: https://pypi.org/simple, https://us-python.pkg.dev/colab-wheels/public/simple/\n",
            "Requirement already satisfied: nltk in /usr/local/lib/python3.10/dist-packages (3.8.1)\n",
            "Requirement already satisfied: click in /usr/local/lib/python3.10/dist-packages (from nltk) (8.1.3)\n",
            "Requirement already satisfied: joblib in /usr/local/lib/python3.10/dist-packages (from nltk) (1.2.0)\n",
            "Requirement already satisfied: regex>=2021.8.3 in /usr/local/lib/python3.10/dist-packages (from nltk) (2022.10.31)\n",
            "Requirement already satisfied: tqdm in /usr/local/lib/python3.10/dist-packages (from nltk) (4.65.0)\n"
          ]
        }
      ]
    },
    {
      "cell_type": "code",
      "source": [
        "import pandas as pd\n",
        "from sklearn.model_selection import train_test_split\n",
        "import nltk\n",
        "\n",
        "nltk.download('punkt')\n",
        "data_path = '/content/newsCorpora.csv'\n",
        "\n",
        "publisheres = [\"Reuters\", \"Huffington Post\", \"Businessweek\", \"Contactmusic.com\", \"Daily Mail\"]\n",
        "names = [\"ID\", \"TITLE\", \"URL\", \"PUBLISHER\", \"CATEGORY\", \"STORY\", \"HOSTNAME\", \"TIMESTAMP\"]\n",
        "csv_input = pd.read_csv(data_path, sep=\"\\t\", header=None, names=names)\n",
        "\n",
        "df = csv_input[csv_input[\"PUBLISHER\"].isin(publisheres)]\n",
        "\n",
        "df = df.sample(frac=1)\n",
        "\n",
        "# 訓練：検証：評価=8:1:1に分割\n",
        "x_train, x_valtest = train_test_split(df.values, test_size=0.2, random_state=0)\n",
        "x_valid, x_test = train_test_split(x_valtest, test_size=0.5, random_state=0)\n",
        "# option:strtify  ラベルの偏りをなくす\n",
        "\n",
        "# FORMAT: ID \\t TITLE \\t URL \\t PUBLISHER \\t CATEGORY \\t STORY \\t HOSTNAME \\t TIMESTAMP\n",
        "def write_file(fname, x_data):\n",
        "    with open(fname, \"w\")as fout:\n",
        "        for fact in x_data:\n",
        "            # fact[1] : 見出し\n",
        "            # fact[4] : カテゴリ\n",
        "            # b = business, t = science and technology, e = entertainment, m = health\n",
        "            if fact[4] == 'b':\n",
        "                label = '0'\n",
        "            elif fact[4] == 't':\n",
        "                label = '1'\n",
        "            elif fact[4] == 'e':\n",
        "                label = '2'\n",
        "            elif fact[4] == 'm':\n",
        "                label = '3'\n",
        "            text = \" \".join(nltk.word_tokenize(fact[1]))\n",
        "            fout.write(label + '\\t' + text + '\\n')\n",
        "\n",
        "write_file(\"train.txt\", x_train)\n",
        "write_file(\"valid.txt\", x_valid)\n",
        "write_file(\"test.txt\", x_test)"
      ],
      "metadata": {
        "id": "H-hgneiZZjQ1",
        "colab": {
          "base_uri": "https://localhost:8080/"
        },
        "outputId": "477424fa-f6fb-4a66-cf54-91fc98f798dc"
      },
      "execution_count": 10,
      "outputs": [
        {
          "output_type": "stream",
          "name": "stderr",
          "text": [
            "[nltk_data] Downloading package punkt to /root/nltk_data...\n",
            "[nltk_data]   Package punkt is already up-to-date!\n"
          ]
        }
      ]
    },
    {
      "cell_type": "code",
      "source": [
        "!gzip -d /content/drive/MyDrive/nlp100/GoogleNews-vectors-negative300.bin.gz"
      ],
      "metadata": {
        "id": "PWXdtaQ8-WBr"
      },
      "execution_count": 11,
      "outputs": []
    },
    {
      "cell_type": "code",
      "source": [
        "import gensim\n",
        "\n",
        "model_path = '/content/drive/MyDrive/nlp100/GoogleNews-vectors-negative300.bin'\n",
        "w2v = gensim.models.KeyedVectors.load_word2vec_format(model_path, binary=True)"
      ],
      "metadata": {
        "id": "9bMHl9ANyEpw"
      },
      "execution_count": 12,
      "outputs": []
    },
    {
      "cell_type": "code",
      "source": [
        "# import numpy as np\n",
        "# # 学習データの特徴量行列: Xtrain\n",
        "# # 学習データのラベルベクトル: Ytrain\n",
        "# # 検証データの特徴量行列: Xvalid\n",
        "# # 検証データのラベルベクトル: Yvalid\n",
        "# # 評価データの特徴量行列: Xtest\n",
        "# # 評価データのラベルベクトル: Ytest\n",
        "\n",
        "def save_file(infname):\n",
        "    with open(infname, \"r\") as fin:\n",
        "        with open(\"X\" + infname, \"w\") as fvec, open(\"Y\" + infname, \"w\") as flabel:\n",
        "            for line in fin:\n",
        "                label, text = line.strip().split('\\t')\n",
        "                try:\n",
        "                    mean = np.mean([w2v[word] for word in text.split(' ')], axis=1)\n",
        "                    fvec.write(str(mean) + '\\n')\n",
        "                    flabel.write(label + '\\n')\n",
        "                except:\n",
        "                    continue\n",
        "\n",
        "save_file(\"train.txt\")\n",
        "save_file(\"valid.txt\")\n",
        "save_file(\"test.txt\")"
      ],
      "metadata": {
        "id": "M-Hnhgkby3kU"
      },
      "execution_count": 13,
      "outputs": []
    },
    {
      "cell_type": "code",
      "source": [
        "import numpy as np\n",
        "import torch\n",
        "# 学習データの特徴量行列: Xtrain\n",
        "# 学習データのラベルベクトル: Ytrain\n",
        "# 検証データの特徴量行列: Xvalid\n",
        "# 検証データのラベルベクトル: Yvalid\n",
        "# 評価データの特徴量行列: Xtest\n",
        "# 評価データのラベルベクトル: Ytest\n",
        "\n",
        "def create_data(infname):\n",
        "    with open(infname, \"r\") as fin:\n",
        "        vec = []\n",
        "        y_label = []\n",
        "        for line in fin:\n",
        "            label, text = line.strip().split('\\t')\n",
        "            try:\n",
        "                # mean = np.mean([w2v[word] for word in text.split(' ')], axis=1)\n",
        "                tmp_vec = [w2v[word] for word in text.split(' ')]\n",
        "                mean = sum(tmp_vec) / len(tmp_vec)\n",
        "\n",
        "                # print(mean)\n",
        "                vec.append(mean)\n",
        "                y_label.append(int(label))\n",
        "            except:\n",
        "                continue\n",
        "        return vec, y_label\n",
        "\n",
        "x_train, y_train = create_data(\"train.txt\")\n",
        "x_valid, y_valid = create_data(\"valid.txt\")\n",
        "x_test, y_test = create_data(\"test.txt\")"
      ],
      "metadata": {
        "id": "znaCWWeGL-v1"
      },
      "execution_count": 14,
      "outputs": []
    },
    {
      "cell_type": "code",
      "source": [
        "x_train[1]"
      ],
      "metadata": {
        "colab": {
          "base_uri": "https://localhost:8080/"
        },
        "id": "otClv58oQp4w",
        "outputId": "672fdaa4-2a71-4b5a-a6d7-aa94f148c198"
      },
      "execution_count": 15,
      "outputs": [
        {
          "output_type": "execute_result",
          "data": {
            "text/plain": [
              "array([-3.49426270e-02,  7.76443481e-02, -1.06109619e-01, -6.73103333e-03,\n",
              "       -7.42797852e-02, -1.74560547e-02, -7.79266357e-02,  1.44271851e-02,\n",
              "        1.27777100e-01,  1.64657593e-01, -1.80969238e-01,  1.21810913e-01,\n",
              "        8.26339722e-02, -4.32128906e-02, -1.43234253e-01, -4.01210785e-02,\n",
              "        1.52557373e-01, -8.52584839e-02,  1.49261475e-01, -8.38546753e-02,\n",
              "        5.43646812e-02,  1.61239624e-01,  2.23510742e-01,  9.96398926e-02,\n",
              "        8.88061523e-02,  5.37757874e-02,  2.61688232e-02,  7.83920288e-03,\n",
              "        6.03637695e-02,  4.75540161e-02, -4.05578613e-02,  8.90197754e-02,\n",
              "       -4.82444763e-02, -2.09442139e-01,  2.07834244e-02,  2.50244141e-02,\n",
              "        1.40930176e-01, -1.24305725e-01, -1.51062012e-01,  2.16911316e-01,\n",
              "        7.27005005e-02, -1.27293736e-01,  2.22290039e-01,  3.04718018e-02,\n",
              "       -3.82080078e-02, -1.38122559e-01, -5.51528931e-02,  6.70299530e-02,\n",
              "        2.63061523e-02,  1.53167725e-01, -4.95300293e-02,  2.96936035e-02,\n",
              "        2.49938965e-02,  1.83532715e-01,  4.56390381e-02,  1.08474731e-01,\n",
              "       -1.20391846e-01,  1.40747070e-01,  1.38488770e-01, -1.33010864e-01,\n",
              "       -6.89697266e-02,  6.88018799e-02, -1.20253086e-01, -7.93457031e-03,\n",
              "       -3.35464478e-02, -4.06417847e-02,  2.29339600e-02,  3.73535156e-02,\n",
              "        1.84356689e-01, -2.65960693e-02, -1.98364258e-04, -1.83166504e-01,\n",
              "        2.23327637e-01,  1.28280640e-01, -3.01666260e-02, -7.34863281e-02,\n",
              "        7.01141357e-02,  8.52661133e-02,  2.98461914e-02,  8.31451416e-02,\n",
              "       -2.60772705e-02, -1.87225342e-01, -1.37039185e-01, -3.75747681e-02,\n",
              "        1.70478821e-02, -1.13357544e-01, -5.04455566e-02,  5.65490723e-02,\n",
              "        3.52554321e-02, -6.97479248e-02,  2.80761719e-03, -8.25500488e-03,\n",
              "       -9.11865234e-02,  5.92002869e-02,  1.24877930e-01, -6.79168701e-02,\n",
              "        1.71722412e-01, -4.32622433e-02,  1.28429413e-01,  1.42059326e-02,\n",
              "        6.51702881e-02, -1.57913208e-01,  8.75577927e-02, -8.28933716e-03,\n",
              "       -3.73058319e-02,  1.19018555e-01, -2.50015259e-01,  8.31604004e-03,\n",
              "       -5.59768677e-02,  4.84619141e-02,  7.39059448e-02,  9.55505371e-02,\n",
              "        1.19812012e-01, -1.71981812e-01, -2.72521973e-02, -1.30157471e-01,\n",
              "       -6.35871887e-02,  1.33895874e-02,  1.60667419e-01,  8.84552002e-02,\n",
              "        1.25122070e-02,  4.30793762e-02, -1.98486328e-01, -1.86796188e-02,\n",
              "        7.70263672e-02,  3.88488770e-02, -2.17079163e-01, -2.68225670e-02,\n",
              "       -1.45130157e-01,  1.72683716e-01, -5.98907471e-02, -1.18103027e-01,\n",
              "        1.59774780e-01, -1.20025635e-01, -7.12890625e-02, -5.41496277e-02,\n",
              "       -7.95440674e-02, -1.60522461e-01, -1.62216187e-01,  4.98504639e-02,\n",
              "        4.92248535e-02, -5.05752563e-02, -7.19375610e-02, -1.43218994e-01,\n",
              "        5.71022034e-02, -2.22640991e-01,  2.03704834e-01,  1.35955811e-01,\n",
              "        6.92558289e-02, -8.39233398e-02,  1.20635986e-01, -1.35284424e-01,\n",
              "       -9.38415527e-03, -4.24022675e-02,  2.05535889e-02,  9.81140137e-02,\n",
              "       -8.27941895e-02, -1.58248901e-01, -3.96804810e-02, -1.50817871e-01,\n",
              "        3.59916687e-02, -5.93948364e-02,  2.17262268e-01, -2.85644531e-02,\n",
              "        1.25976562e-01,  7.95288086e-02,  1.45233154e-01, -1.42669678e-02,\n",
              "        4.71801758e-02,  5.01403809e-02, -2.01782227e-01, -1.15539551e-01,\n",
              "        1.43232346e-01, -1.91786766e-01,  1.06246948e-01, -7.24139214e-02,\n",
              "        1.34094238e-01, -3.32374573e-02, -3.29742432e-02, -2.29537964e-01,\n",
              "       -2.51785278e-01, -1.78009033e-01,  7.12051392e-02, -3.72161865e-02,\n",
              "        3.55682373e-02,  1.00975037e-01,  9.25445557e-02, -4.94232178e-02,\n",
              "        1.46667480e-01,  1.62551880e-01, -4.08630371e-02,  4.57763672e-03,\n",
              "       -1.75827026e-01, -1.78649902e-01, -1.64230347e-01,  1.27506256e-01,\n",
              "       -6.63299561e-02, -1.54632568e-01,  3.03161621e-01, -1.42730713e-01,\n",
              "       -7.08312988e-02,  3.59649658e-02, -7.40051270e-03, -3.03192139e-02,\n",
              "        7.47680664e-04,  7.09533691e-02, -1.36657715e-01, -1.06506348e-02,\n",
              "       -1.45248413e-01, -7.75299072e-02, -1.42944336e-01, -4.54177856e-02,\n",
              "        1.62811279e-02,  3.09875488e-01, -1.49177551e-01,  1.49658203e-01,\n",
              "        5.26809692e-02,  9.03701782e-02, -7.01904297e-03, -1.12045288e-01,\n",
              "       -1.59973145e-01,  2.18973160e-01, -3.00819397e-01,  8.77380371e-03,\n",
              "       -1.47186279e-01, -7.16705322e-02,  9.84497070e-02, -8.89434814e-02,\n",
              "        6.16455078e-03,  3.05175781e-05, -4.51049805e-02,  2.21130371e-01,\n",
              "        1.93561554e-01,  9.64355469e-02,  6.95695877e-02, -2.78320312e-02,\n",
              "       -1.22070312e-04, -7.23953247e-02,  7.61718750e-02, -1.14700317e-01,\n",
              "        8.55407715e-02,  1.32308960e-01, -6.45141602e-02,  2.40325928e-02,\n",
              "        1.42059326e-01, -6.25915527e-02, -1.44401550e-01,  3.34587097e-02,\n",
              "        2.03399658e-02, -1.48620605e-02, -1.06384277e-01, -1.25198364e-02,\n",
              "       -1.80038452e-01, -1.21709824e-01, -3.37524414e-02,  3.53088379e-02,\n",
              "       -4.79431152e-02, -5.56907654e-02,  8.09257030e-02, -1.87103271e-01,\n",
              "        2.38655090e-01,  6.82067871e-02,  1.39511108e-01, -7.03430176e-03,\n",
              "       -5.47599792e-03,  1.29714966e-01, -1.88490868e-01, -9.67102051e-02,\n",
              "       -2.22091675e-02,  1.52770996e-01,  5.37872314e-03,  9.53674316e-02,\n",
              "       -3.57818604e-03, -8.13751221e-02,  1.41510010e-01,  6.43997192e-02,\n",
              "       -4.93011475e-02,  3.06091309e-02,  8.85887146e-02,  1.01844788e-01,\n",
              "       -8.16192627e-02,  9.67712402e-02, -4.05426025e-02,  1.05712891e-01,\n",
              "        2.02529907e-01,  4.42695618e-03, -4.53643799e-02,  9.85717773e-02,\n",
              "        2.25448608e-02,  1.84731603e-01, -4.25720215e-02, -4.82406616e-02,\n",
              "       -1.44784927e-01,  9.28497314e-02,  3.79638672e-02, -6.73789978e-02,\n",
              "       -6.92358017e-02,  4.36401367e-02,  2.47406006e-01, -7.32421875e-02],\n",
              "      dtype=float32)"
            ]
          },
          "metadata": {},
          "execution_count": 15
        }
      ]
    },
    {
      "cell_type": "code",
      "source": [
        "#ファイルへの出力\n",
        "import pickle\n",
        "\n",
        "# ラベルもtensorに変換\n",
        "train_t = torch.tensor(y_train).long()\n",
        "valid_t = torch.tensor(y_valid).long()\n",
        "test_t = torch.tensor(y_test).long()\n",
        "\n",
        "with open('train.text.pickle', 'wb') as f:\n",
        "    pickle.dump(x_train, f)\n",
        "with open('train.label.pickle', 'wb') as f:\n",
        "    pickle.dump(y_train, f)\n",
        "\n",
        "with open('valid.text.pickle', 'wb') as f:\n",
        "    pickle.dump(x_valid, f)\n",
        "with open('valid.label.pickle', 'wb') as f:\n",
        "    pickle.dump(y_valid, f)\n",
        "\n",
        "with open('test.text.pickle', 'wb') as f:\n",
        "    pickle.dump(x_test, f)\n",
        "with open('test.label.pickle', 'wb') as f:\n",
        "    pickle.dump(y_test, f)\n"
      ],
      "metadata": {
        "id": "tXVNNhJIT1sh"
      },
      "execution_count": 16,
      "outputs": []
    },
    {
      "cell_type": "markdown",
      "source": [
        "#71. 単層ニューラルネットワークによる予測\n",
        "問題70で保存した行列を読み込み，学習データについて以下の計算を実行せよ．"
      ],
      "metadata": {
        "id": "Sa8iGcuDtitW"
      }
    },
    {
      "cell_type": "code",
      "source": [
        "#ネットワークの定義\n",
        "import torch.nn as nn\n",
        "import torch.nn.functional as F\n",
        "\n",
        "class Net(nn.Module):\n",
        "  def __init__(self, input_size, output_size):\n",
        "    super().__init__()\n",
        "    self.fc = nn.Linear(input_size, output_size, bias=False)\n",
        "    nn.init.normal_(self.fc.weight, 0.0, 1.0)  # 正規乱数で重みを初期化\n",
        "\n",
        "  def forward(self, x):\n",
        "    x = self.fc(x)\n",
        "    return x\n",
        "\n",
        "# ネットワークのインスタンスを作成\n",
        "net = Net(300, 4)\n",
        "net"
      ],
      "metadata": {
        "id": "IGG5bpnpDJRs",
        "colab": {
          "base_uri": "https://localhost:8080/"
        },
        "outputId": "b12258aa-7ce8-417a-fd5d-96f9b7095e7d"
      },
      "execution_count": 17,
      "outputs": [
        {
          "output_type": "execute_result",
          "data": {
            "text/plain": [
              "Net(\n",
              "  (fc): Linear(in_features=300, out_features=4, bias=False)\n",
              ")"
            ]
          },
          "metadata": {},
          "execution_count": 17
        }
      ]
    },
    {
      "cell_type": "code",
      "source": [
        "x_train = torch.from_numpy(np.array(x_train))\n",
        "y_train = torch.from_numpy(np.array(y_train))"
      ],
      "metadata": {
        "id": "x6Di7332WzG6"
      },
      "execution_count": 18,
      "outputs": []
    },
    {
      "cell_type": "code",
      "source": [
        "x = net(x_train[0])\n",
        "x = torch.softmax(x, dim=-1)\n",
        "x"
      ],
      "metadata": {
        "colab": {
          "base_uri": "https://localhost:8080/"
        },
        "id": "oxXc6UllVaQm",
        "outputId": "8a218c5e-9906-4b89-b8ce-9c9c01f44f1d"
      },
      "execution_count": 19,
      "outputs": [
        {
          "output_type": "execute_result",
          "data": {
            "text/plain": [
              "tensor([0.6099, 0.1137, 0.0224, 0.2540], grad_fn=<SoftmaxBackward0>)"
            ]
          },
          "metadata": {},
          "execution_count": 19
        }
      ]
    },
    {
      "cell_type": "code",
      "source": [
        "x = net(x_train[:4])\n",
        "x = torch.softmax(x, dim=-1)\n",
        "x"
      ],
      "metadata": {
        "id": "16MKfN9OAw3v",
        "colab": {
          "base_uri": "https://localhost:8080/"
        },
        "outputId": "4ff84f21-3e3d-4fad-9a8d-ac5c8a6dc760"
      },
      "execution_count": 20,
      "outputs": [
        {
          "output_type": "execute_result",
          "data": {
            "text/plain": [
              "tensor([[0.6099, 0.1137, 0.0224, 0.2540],\n",
              "        [0.1740, 0.3652, 0.0060, 0.4548],\n",
              "        [0.7579, 0.1784, 0.0135, 0.0501],\n",
              "        [0.0572, 0.8446, 0.0286, 0.0696]], grad_fn=<SoftmaxBackward0>)"
            ]
          },
          "metadata": {},
          "execution_count": 20
        }
      ]
    },
    {
      "cell_type": "code",
      "source": [
        "# 乱数の初期化：いろんな初期化がある．初期値で性能が変わることもある．"
      ],
      "metadata": {
        "id": "mscRXDbpDYT1"
      },
      "execution_count": 21,
      "outputs": []
    },
    {
      "cell_type": "markdown",
      "source": [
        "#72. 損失と勾配の計算\n",
        "学習データの事例x1\n",
        "と事例集合x1,x2,x3,x4\n",
        "に対して，クロスエントロピー損失と，行列W\n",
        "に対する勾配を計算せよ．なお，ある事例xi\n",
        "に対して損失は次式で計算される．\n",
        "\n",
        "li=−log[事例xiがyiに分類される確率]\n",
        "ただし，事例集合に対するクロスエントロピー損失は，その集合に含まれる各事例の損失の平均とする．"
      ],
      "metadata": {
        "id": "TQb2cNxwtnrP"
      }
    },
    {
      "cell_type": "code",
      "source": [
        "import torch.nn as nn\n",
        "\n",
        "# 損失の計算\n",
        "criterion = nn.CrossEntropyLoss() # クロスエントロピーの中でsoftmaxの計算を計算を行っている．softmaxをかける前に入力する．\n",
        "y = net(x_train[:1])\n",
        "t = y_train[:1]\n",
        "loss = criterion(y, t)\n",
        "\n",
        "# 勾配の計算\n",
        "net.zero_grad()\n",
        "loss.backward()\n",
        "\n",
        "print('損失 :', loss.item())\n",
        "print('勾配 :')\n",
        "print(net.fc.weight.grad)"
      ],
      "metadata": {
        "colab": {
          "base_uri": "https://localhost:8080/"
        },
        "id": "B0CtgSuHYV-Z",
        "outputId": "57e2fe3a-2f6f-4d2a-ef07-3ad085d8182c"
      },
      "execution_count": 22,
      "outputs": [
        {
          "output_type": "stream",
          "name": "stdout",
          "text": [
            "損失 : 2.174081802368164\n",
            "勾配 :\n",
            "tensor([[-5.7567e-02,  9.8651e-04, -2.3088e-02,  ..., -1.0818e-02,\n",
            "          6.0307e-03,  5.4699e-02],\n",
            "        [ 8.3652e-02, -1.4335e-03,  3.3550e-02,  ...,  1.5720e-02,\n",
            "         -8.7633e-03, -7.9483e-02],\n",
            "        [-2.1141e-03,  3.6228e-05, -8.4787e-04,  ..., -3.9728e-04,\n",
            "          2.2147e-04,  2.0087e-03],\n",
            "        [-2.3971e-02,  4.1077e-04, -9.6136e-03,  ..., -4.5045e-03,\n",
            "          2.5111e-03,  2.2776e-02]])\n"
          ]
        }
      ]
    },
    {
      "cell_type": "code",
      "source": [
        "# 損失の計算\n",
        "criterion = nn.CrossEntropyLoss()\n",
        "y = net(x_train[:4])\n",
        "t = y_train[:4]\n",
        "loss = criterion(y, t)\n",
        "\n",
        "# 勾配の計算\n",
        "net.zero_grad()\n",
        "loss.backward()\n",
        "\n",
        "print('損失 :', loss.item())\n",
        "print('勾配 :')\n",
        "print(net.fc.weight.grad)"
      ],
      "metadata": {
        "colab": {
          "base_uri": "https://localhost:8080/"
        },
        "id": "r5I3FyUTYyhT",
        "outputId": "5d261d00-7123-460c-9248-86b30e8148c0"
      },
      "execution_count": 23,
      "outputs": [
        {
          "output_type": "stream",
          "name": "stdout",
          "text": [
            "損失 : 1.765460729598999\n",
            "勾配 :\n",
            "tensor([[ 6.6994e-03, -1.5068e-02,  4.7925e-02,  ...,  2.4079e-03,\n",
            "         -7.7614e-02,  3.7891e-02],\n",
            "        [ 5.2649e-03,  6.2023e-03, -2.7448e-02,  ..., -5.6410e-03,\n",
            "          4.5572e-02, -3.4224e-02],\n",
            "        [-9.9748e-04,  8.4781e-05, -1.7079e-03,  ..., -3.1827e-04,\n",
            "          1.2663e-03,  4.0103e-05],\n",
            "        [-1.0967e-02,  8.7806e-03, -1.8770e-02,  ...,  3.5514e-03,\n",
            "          3.0776e-02, -3.7070e-03]])\n"
          ]
        }
      ]
    },
    {
      "cell_type": "markdown",
      "source": [
        "#73. 確率的勾配降下法による学習\n",
        "確率的勾配降下法（SGD: Stochastic Gradient Descent）を用いて，行列W\n",
        "を学習せよ．なお，学習は適当な基準で終了させればよい（例えば「100エポックで終了」など）．"
      ],
      "metadata": {
        "id": "JdNC4QXitsNB"
      }
    },
    {
      "cell_type": "code",
      "source": [
        "x_valid = torch.from_numpy(np.array(x_valid))\n",
        "y_valid = torch.from_numpy(np.array(y_valid))\n",
        "x_test = torch.from_numpy(np.array(x_test))\n",
        "y_test = torch.from_numpy(np.array(y_test))"
      ],
      "metadata": {
        "id": "-gZYSz2CX3Zc"
      },
      "execution_count": 24,
      "outputs": []
    },
    {
      "cell_type": "code",
      "source": [
        "# ネットワークのインスタンスを作成\n",
        "net = Net(300, 4)\n",
        "\n",
        "#損失関数の選択\n",
        "criterion = nn.CrossEntropyLoss()\n",
        "\n",
        "#最適化手法の選択\n",
        "optimizer = torch.optim.Adam(net.parameters(), lr=0.01)\n",
        "\n",
        "# モデルをGPUに転送\n",
        "device = torch.device(\"cuda:0\" if torch.cuda.is_available() else \"cpu\")\n",
        "net = net.to(device)\n",
        "device"
      ],
      "metadata": {
        "colab": {
          "base_uri": "https://localhost:8080/"
        },
        "id": "llERmUYWZt3a",
        "outputId": "2010cd56-0312-4744-b1f6-6b9ddb80b0d6"
      },
      "execution_count": 25,
      "outputs": [
        {
          "output_type": "execute_result",
          "data": {
            "text/plain": [
              "device(type='cpu')"
            ]
          },
          "metadata": {},
          "execution_count": 25
        }
      ]
    },
    {
      "cell_type": "code",
      "source": [
        "#DataLoaderに格納\n",
        "\n",
        "from torch.utils.data import TensorDataset\n",
        "from torch.utils.data import DataLoader\n",
        "\n",
        "train = TensorDataset(x_train, y_train)\n",
        "val = TensorDataset(x_valid, y_valid)\n",
        "test = TensorDataset(x_test, y_test)\n",
        "\n",
        "batch_size = 10\n",
        "\n",
        "train_loader = DataLoader(train, batch_size, shuffle=True)\n",
        "val_loader = DataLoader(val, batch_size, shuffle=False)\n",
        "test_loader = DataLoader(test, batch_size, shuffle=False)\n",
        "eval_loader = DataLoader(eval, batch_size, shuffle=False)"
      ],
      "metadata": {
        "id": "eufXqHBJaEBG"
      },
      "execution_count": 26,
      "outputs": []
    },
    {
      "cell_type": "code",
      "source": [
        "#学習ループ\n",
        "max_epoch = 20\n",
        "\n",
        "for epoch in range(max_epoch):\n",
        "\n",
        "    # ミニバッチ学習\n",
        "    for batch in train_loader:\n",
        "\n",
        "        # バッチサイズ分のサンプルを抽出\n",
        "        x, t = batch\n",
        "\n",
        "        # データをGPUへ転送\n",
        "        x = x.to(device)\n",
        "        t = t.to(device)\n",
        "\n",
        "        # 勾配を初期化\n",
        "        optimizer.zero_grad()\n",
        "\n",
        "        # 順伝播\n",
        "        y = net(x)\n",
        "        loss = criterion(y, t)\n",
        "\n",
        "        # 誤差逆伝播\n",
        "        loss.backward()\n",
        "        optimizer.step()\n",
        "\n",
        "    # 更新と切り離し、検証データの性能を確認\n",
        "    with torch.no_grad():\n",
        "        losses = list()\n",
        "        for batch in val_loader:\n",
        "            x, t = batch\n",
        "            x = x.to(device)\n",
        "            t = t.to(device)\n",
        "            y = net(x)\n",
        "            loss = criterion(y, t)\n",
        "            losses.append(loss)\n",
        "    val_loss = torch.tensor(losses).mean()\n",
        "    print(\"Epoch: %02d  val_loss: %.3f\" % (epoch+1, val_loss))"
      ],
      "metadata": {
        "id": "LizvKovAtrAQ",
        "colab": {
          "base_uri": "https://localhost:8080/"
        },
        "outputId": "736a6fbf-9590-45c9-f59e-44ef75196ad0"
      },
      "execution_count": 27,
      "outputs": [
        {
          "output_type": "stream",
          "name": "stdout",
          "text": [
            "Epoch: 01  val_loss: 0.624\n",
            "Epoch: 02  val_loss: 0.502\n",
            "Epoch: 03  val_loss: 0.466\n",
            "Epoch: 04  val_loss: 0.431\n",
            "Epoch: 05  val_loss: 0.412\n",
            "Epoch: 06  val_loss: 0.404\n",
            "Epoch: 07  val_loss: 0.409\n",
            "Epoch: 08  val_loss: 0.392\n",
            "Epoch: 09  val_loss: 0.395\n",
            "Epoch: 10  val_loss: 0.409\n",
            "Epoch: 11  val_loss: 0.411\n",
            "Epoch: 12  val_loss: 0.425\n",
            "Epoch: 13  val_loss: 0.420\n",
            "Epoch: 14  val_loss: 0.423\n",
            "Epoch: 15  val_loss: 0.411\n",
            "Epoch: 16  val_loss: 0.425\n",
            "Epoch: 17  val_loss: 0.430\n",
            "Epoch: 18  val_loss: 0.426\n",
            "Epoch: 19  val_loss: 0.444\n",
            "Epoch: 20  val_loss: 0.432\n"
          ]
        }
      ]
    },
    {
      "cell_type": "markdown",
      "source": [
        "#74. 正解率の計測\n",
        "問題73で求めた行列を用いて学習データおよび評価データの事例を分類したとき，その正解率をそれぞれ求めよ．"
      ],
      "metadata": {
        "id": "7auDdGr1t0eI"
      }
    },
    {
      "cell_type": "code",
      "source": [
        "from sklearn.metrics import accuracy_score\n",
        "\n",
        "net.eval()\n",
        "with torch.no_grad():\n",
        "    losses = list()\n",
        "    total = 0\n",
        "    correct = 0\n",
        "\n",
        "    for batch in val_loader:\n",
        "        x, t = batch\n",
        "\n",
        "        x = x.to(device)\n",
        "        t = t.to(device)\n",
        "        y = net(x)\n",
        "        pred = torch.argmax(y, dim=-1)\n",
        "\n",
        "        total += len(x)\n",
        "        correct += (pred == t).sum().item()\n",
        "\n",
        "print(\"valid 正解率: \", correct / total)"
      ],
      "metadata": {
        "id": "4asqmjNGtkoe",
        "colab": {
          "base_uri": "https://localhost:8080/"
        },
        "outputId": "edf1079c-0fb3-4318-a6a8-2eb3e2b60521"
      },
      "execution_count": 28,
      "outputs": [
        {
          "output_type": "stream",
          "name": "stdout",
          "text": [
            "valid 正解率:  0.8402777777777778\n"
          ]
        }
      ]
    },
    {
      "cell_type": "code",
      "source": [
        "net.eval()\n",
        "with torch.no_grad():\n",
        "    losses = list()\n",
        "    total = 0\n",
        "    correct = 0\n",
        "\n",
        "    for batch in test_loader:\n",
        "        x, t = batch\n",
        "\n",
        "        x = x.to(device)\n",
        "        t = t.to(device)\n",
        "        y = net(x)\n",
        "        pred = torch.argmax(y, dim=-1)\n",
        "\n",
        "        total += len(x)\n",
        "        correct += (pred == t).sum().item()\n",
        "\n",
        "print(\"test 正解率: \", correct / total)"
      ],
      "metadata": {
        "colab": {
          "base_uri": "https://localhost:8080/"
        },
        "id": "WIwYWenpdbO-",
        "outputId": "bf3b7ba2-8169-42d3-c3e0-f747b2b3e1a3"
      },
      "execution_count": 29,
      "outputs": [
        {
          "output_type": "stream",
          "name": "stdout",
          "text": [
            "test 正解率:  0.8698224852071006\n"
          ]
        }
      ]
    },
    {
      "cell_type": "markdown",
      "source": [
        "#75. 損失と正解率のプロット\n",
        "問題73のコードを改変し，各エポックのパラメータ更新が完了するたびに，訓練データでの損失，正解率，検証データでの損失，正解率をグラフにプロットし，学習の進捗状況を確認できるようにせよ．"
      ],
      "metadata": {
        "id": "qz_I5-ijt38Y"
      }
    },
    {
      "cell_type": "code",
      "source": [
        "def calc_acc(loader):\n",
        "    net.eval()\n",
        "    with torch.no_grad():\n",
        "        losses = list()\n",
        "        total = 0\n",
        "        correct = 0\n",
        "\n",
        "        for batch in loader:\n",
        "            x, t = batch\n",
        "\n",
        "            x = x.to(device)\n",
        "            t = t.to(device)\n",
        "            y = net(x)\n",
        "            pred = torch.argmax(y, dim=-1)\n",
        "\n",
        "            total += len(x)\n",
        "            correct += (pred == t).sum().item()\n",
        "    return correct / total"
      ],
      "metadata": {
        "id": "el4wShMqWvXM"
      },
      "execution_count": 30,
      "outputs": []
    },
    {
      "cell_type": "code",
      "source": [
        "# ネットワークのインスタンスを作成\n",
        "net = Net(300, 4)\n",
        "\n",
        "#損失関数の選択\n",
        "criterion = nn.CrossEntropyLoss()\n",
        "\n",
        "#最適化手法の選択\n",
        "optimizer = torch.optim.Adam(net.parameters(), lr=0.01)\n",
        "\n",
        "# モデルをGPUに転送\n",
        "device = torch.device(\"cuda:0\" if torch.cuda.is_available() else \"cpu\")\n",
        "net = net.to(device)\n",
        "device"
      ],
      "metadata": {
        "colab": {
          "base_uri": "https://localhost:8080/"
        },
        "id": "7CRRig_IYT7s",
        "outputId": "2c6e8f46-ccd3-4387-c794-24afa54b3673"
      },
      "execution_count": 31,
      "outputs": [
        {
          "output_type": "execute_result",
          "data": {
            "text/plain": [
              "device(type='cpu')"
            ]
          },
          "metadata": {},
          "execution_count": 31
        }
      ]
    },
    {
      "cell_type": "code",
      "source": [
        "#学習ループ\n",
        "max_epoch = 20\n",
        "\n",
        "train_loss = []\n",
        "train_acc = []\n",
        "valid_loss = []\n",
        "valid_acc = []\n",
        "\n",
        "for epoch in range(max_epoch):\n",
        "    train_losses = list()\n",
        "    # ミニバッチ学習\n",
        "    for batch in train_loader:\n",
        "\n",
        "        # バッチサイズ分のサンプルを抽出\n",
        "        x, t = batch\n",
        "\n",
        "        # データをGPUへ転送\n",
        "        x = x.to(device)\n",
        "        t = t.to(device)\n",
        "\n",
        "        # 勾配を初期化\n",
        "        optimizer.zero_grad()\n",
        "\n",
        "        # 順伝播\n",
        "        y = net(x)\n",
        "        loss = criterion(y, t)\n",
        "\n",
        "\n",
        "        # 誤差逆伝播\n",
        "        loss.backward()\n",
        "        optimizer.step()\n",
        "        train_losses.append(loss)\n",
        "\n",
        "    train_acc.append(calc_acc(train_loader))\n",
        "    train_loss.append(torch.tensor(losses).mean())\n",
        "\n",
        "    # 更新と切り離し、検証データの性能を確認\n",
        "    with torch.no_grad():\n",
        "        losses = list()\n",
        "        for batch in val_loader:\n",
        "            x, t = batch\n",
        "            x = x.to(device)\n",
        "            t = t.to(device)\n",
        "            y = net(x)\n",
        "            loss = criterion(y, t)\n",
        "            losses.append(loss)\n",
        "    val_loss = torch.tensor(losses).mean()\n",
        "    valid_loss.append(val_loss)\n",
        "    valid_acc.append(calc_acc(val_loader))\n",
        "    print(\"Epoch: %02d  val_loss: %.3f\" % (epoch+1, val_loss))"
      ],
      "metadata": {
        "id": "AVQxcsSJt156",
        "colab": {
          "base_uri": "https://localhost:8080/"
        },
        "outputId": "05e7b45a-7e26-4bb2-be87-9d5db3a99394"
      },
      "execution_count": 32,
      "outputs": [
        {
          "output_type": "stream",
          "name": "stdout",
          "text": [
            "Epoch: 01  val_loss: 0.655\n",
            "Epoch: 02  val_loss: 0.520\n",
            "Epoch: 03  val_loss: 0.450\n",
            "Epoch: 04  val_loss: 0.418\n",
            "Epoch: 05  val_loss: 0.419\n",
            "Epoch: 06  val_loss: 0.406\n",
            "Epoch: 07  val_loss: 0.386\n",
            "Epoch: 08  val_loss: 0.383\n",
            "Epoch: 09  val_loss: 0.368\n",
            "Epoch: 10  val_loss: 0.369\n",
            "Epoch: 11  val_loss: 0.366\n",
            "Epoch: 12  val_loss: 0.360\n",
            "Epoch: 13  val_loss: 0.371\n",
            "Epoch: 14  val_loss: 0.364\n",
            "Epoch: 15  val_loss: 0.384\n",
            "Epoch: 16  val_loss: 0.378\n",
            "Epoch: 17  val_loss: 0.376\n",
            "Epoch: 18  val_loss: 0.384\n",
            "Epoch: 19  val_loss: 0.394\n",
            "Epoch: 20  val_loss: 0.380\n"
          ]
        }
      ]
    },
    {
      "cell_type": "code",
      "source": [
        "print(len(train_loss))\n",
        "print(len(train_acc))\n",
        "print(len(valid_loss))\n",
        "print(len(valid_acc))"
      ],
      "metadata": {
        "colab": {
          "base_uri": "https://localhost:8080/"
        },
        "id": "4Vhf3ZCHYL6F",
        "outputId": "35cd176f-9b14-4f5b-b1a5-72f6fe68cba6"
      },
      "execution_count": 33,
      "outputs": [
        {
          "output_type": "stream",
          "name": "stdout",
          "text": [
            "20\n",
            "20\n",
            "20\n",
            "20\n"
          ]
        }
      ]
    },
    {
      "cell_type": "code",
      "source": [
        "!pip install japanize-matplotlib"
      ],
      "metadata": {
        "colab": {
          "base_uri": "https://localhost:8080/"
        },
        "id": "7pSQENAoadCI",
        "outputId": "c03dc022-5558-4570-ef69-c3e2737058b4"
      },
      "execution_count": 34,
      "outputs": [
        {
          "output_type": "stream",
          "name": "stdout",
          "text": [
            "Looking in indexes: https://pypi.org/simple, https://us-python.pkg.dev/colab-wheels/public/simple/\n",
            "Collecting japanize-matplotlib\n",
            "  Downloading japanize-matplotlib-1.1.3.tar.gz (4.1 MB)\n",
            "\u001b[2K     \u001b[90m━━━━━━━━━━━━━━━━━━━━━━━━━━━━━━━━━━━━━━━━\u001b[0m \u001b[32m4.1/4.1 MB\u001b[0m \u001b[31m33.2 MB/s\u001b[0m eta \u001b[36m0:00:00\u001b[0m\n",
            "\u001b[?25h  Preparing metadata (setup.py) ... \u001b[?25l\u001b[?25hdone\n",
            "Requirement already satisfied: matplotlib in /usr/local/lib/python3.10/dist-packages (from japanize-matplotlib) (3.7.1)\n",
            "Requirement already satisfied: contourpy>=1.0.1 in /usr/local/lib/python3.10/dist-packages (from matplotlib->japanize-matplotlib) (1.0.7)\n",
            "Requirement already satisfied: cycler>=0.10 in /usr/local/lib/python3.10/dist-packages (from matplotlib->japanize-matplotlib) (0.11.0)\n",
            "Requirement already satisfied: fonttools>=4.22.0 in /usr/local/lib/python3.10/dist-packages (from matplotlib->japanize-matplotlib) (4.39.3)\n",
            "Requirement already satisfied: kiwisolver>=1.0.1 in /usr/local/lib/python3.10/dist-packages (from matplotlib->japanize-matplotlib) (1.4.4)\n",
            "Requirement already satisfied: numpy>=1.20 in /usr/local/lib/python3.10/dist-packages (from matplotlib->japanize-matplotlib) (1.22.4)\n",
            "Requirement already satisfied: packaging>=20.0 in /usr/local/lib/python3.10/dist-packages (from matplotlib->japanize-matplotlib) (23.1)\n",
            "Requirement already satisfied: pillow>=6.2.0 in /usr/local/lib/python3.10/dist-packages (from matplotlib->japanize-matplotlib) (8.4.0)\n",
            "Requirement already satisfied: pyparsing>=2.3.1 in /usr/local/lib/python3.10/dist-packages (from matplotlib->japanize-matplotlib) (3.0.9)\n",
            "Requirement already satisfied: python-dateutil>=2.7 in /usr/local/lib/python3.10/dist-packages (from matplotlib->japanize-matplotlib) (2.8.2)\n",
            "Requirement already satisfied: six>=1.5 in /usr/local/lib/python3.10/dist-packages (from python-dateutil>=2.7->matplotlib->japanize-matplotlib) (1.16.0)\n",
            "Building wheels for collected packages: japanize-matplotlib\n",
            "  Building wheel for japanize-matplotlib (setup.py) ... \u001b[?25l\u001b[?25hdone\n",
            "  Created wheel for japanize-matplotlib: filename=japanize_matplotlib-1.1.3-py3-none-any.whl size=4120257 sha256=5f662b18c91dc81bbb61748829a4e408a68030332d3d1b8c8e81171bd4d3d3f8\n",
            "  Stored in directory: /root/.cache/pip/wheels/61/7a/6b/df1f79be9c59862525070e157e62b08eab8ece27c1b68fbb94\n",
            "Successfully built japanize-matplotlib\n",
            "Installing collected packages: japanize-matplotlib\n",
            "Successfully installed japanize-matplotlib-1.1.3\n"
          ]
        }
      ]
    },
    {
      "cell_type": "code",
      "source": [
        "import matplotlib.pyplot as plt\n",
        "import japanize_matplotlib\n",
        "\n",
        "fig, ax = plt.subplots()\n",
        "x = range(1, max_epoch+1)\n",
        "ax.plot(x, train_loss,'r')\n",
        "ax.plot(x, valid_loss, 'b')\n",
        "\n",
        "plt.title('trainとdevにおけるlossの推移')\n",
        "plt.xlabel(\"epoch\")\n",
        "plt.ylabel(\"lossとacc\")\n",
        "\n",
        "plt.show()"
      ],
      "metadata": {
        "colab": {
          "base_uri": "https://localhost:8080/",
          "height": 469
        },
        "id": "q8rHImoQYHuW",
        "outputId": "ebcd75bf-5f39-4a35-e2c7-a3b5690a6400"
      },
      "execution_count": 35,
      "outputs": [
        {
          "output_type": "display_data",
          "data": {
            "text/plain": [
              "<Figure size 640x480 with 1 Axes>"
            ],
            "image/png": "[encoded data removed]"
          },
          "metadata": {}
        }
      ]
    },
    {
      "cell_type": "code",
      "source": [
        "import matplotlib.pyplot as plt\n",
        "import japanize_matplotlib\n",
        "\n",
        "fig, ax = plt.subplots()\n",
        "x = range(1, max_epoch+1)\n",
        "ax.plot(x, train_acc, 'r')\n",
        "ax.plot(x, valid_acc, 'b')\n",
        "\n",
        "plt.title('trainとdevにおけるaccの推移')\n",
        "plt.xlabel(\"epoch\")\n",
        "plt.ylabel(\"lossとacc\")\n",
        "\n",
        "plt.show()"
      ],
      "metadata": {
        "colab": {
          "base_uri": "https://localhost:8080/",
          "height": 469
        },
        "id": "4fBdb2lrGJ37",
        "outputId": "b52220bb-899c-480e-de43-f922bb148ccd"
      },
      "execution_count": 46,
      "outputs": [
        {
          "output_type": "display_data",
          "data": {
            "text/plain": [
              "<Figure size 640x480 with 1 Axes>"
            ],
            "image/png": "[encoded data removed]"
          },
          "metadata": {}
        }
      ]
    },
    {
      "cell_type": "markdown",
      "source": [
        "#76. チェックポイント\n",
        "問題75のコードを改変し，各エポックのパラメータ更新が完了するたびに，チェックポイント（学習途中のパラメータ（重み行列など）の値や最適化アルゴリズムの内部状態）をファイルに書き出せ．"
      ],
      "metadata": {
        "id": "Mv9a11xGt65W"
      }
    },
    {
      "cell_type": "code",
      "source": [
        "# ネットワークのインスタンスを作成\n",
        "net = Net(300, 4)\n",
        "\n",
        "#損失関数の選択\n",
        "criterion = nn.CrossEntropyLoss()\n",
        "\n",
        "#最適化手法の選択\n",
        "optimizer = torch.optim.Adam(net.parameters(), lr=0.01)\n",
        "\n",
        "# モデルをGPUに転送\n",
        "device = torch.device(\"cuda:0\" if torch.cuda.is_available() else \"cpu\")\n",
        "net = net.to(device)\n",
        "device"
      ],
      "metadata": {
        "id": "NRDk6EnSbw2K",
        "colab": {
          "base_uri": "https://localhost:8080/"
        },
        "outputId": "241f0fb3-8713-4df7-fc3e-e862734ff7fd"
      },
      "execution_count": 37,
      "outputs": [
        {
          "output_type": "execute_result",
          "data": {
            "text/plain": [
              "device(type='cpu')"
            ]
          },
          "metadata": {},
          "execution_count": 37
        }
      ]
    },
    {
      "cell_type": "code",
      "source": [
        "#学習ループ\n",
        "max_epoch = 20\n",
        "\n",
        "train_loss = []\n",
        "train_acc = []\n",
        "valid_loss = []\n",
        "valid_acc = []\n",
        "\n",
        "for epoch in range(max_epoch):\n",
        "    train_losses = list()\n",
        "    # ミニバッチ学習\n",
        "    for batch in train_loader:\n",
        "\n",
        "        # バッチサイズ分のサンプルを抽出\n",
        "        x, t = batch\n",
        "\n",
        "        # データをGPUへ転送\n",
        "        x = x.to(device)\n",
        "        t = t.to(device)\n",
        "\n",
        "        # 勾配を初期化\n",
        "        optimizer.zero_grad()\n",
        "\n",
        "        # 順伝播\n",
        "        y = net(x)\n",
        "        loss = criterion(y, t)\n",
        "\n",
        "\n",
        "        # 誤差逆伝播\n",
        "        loss.backward()\n",
        "        optimizer.step()\n",
        "        train_losses.append(loss)\n",
        "\n",
        "    train_acc.append(calc_acc(train_loader))\n",
        "    train_loss.append(torch.tensor(losses).mean())\n",
        "\n",
        "    # 更新と切り離し、検証データの性能を確認\n",
        "    with torch.no_grad():\n",
        "        losses = list()\n",
        "        for batch in val_loader:\n",
        "            x, t = batch\n",
        "            x = x.to(device)\n",
        "            t = t.to(device)\n",
        "            y = net(x)\n",
        "            loss = criterion(y, t)\n",
        "            losses.append(loss)\n",
        "    val_loss = torch.tensor(losses).mean()\n",
        "    valid_loss.append(val_loss)\n",
        "    valid_acc.append(calc_acc(val_loader))\n",
        "    print(\"Epoch: %02d  val_loss: %.3f\" % (epoch+1, val_loss))\n",
        "    # torch.save(net, 'model_checkpoint'+ str(epoch) + '.pt')\n",
        "    torch.save({\"epoch\": epoch, \"model_state_dict\": net.state_dict(), \"optimizer_state_dict\": optimizer.state_dict(),},  'model_checkpoint'+ str(epoch) + '.pt')"
      ],
      "metadata": {
        "id": "Dd1TIwlCt5ax",
        "colab": {
          "base_uri": "https://localhost:8080/"
        },
        "outputId": "6faeaec8-ac67-4c29-8252-27d09d0aab98"
      },
      "execution_count": 38,
      "outputs": [
        {
          "output_type": "stream",
          "name": "stdout",
          "text": [
            "Epoch: 01  val_loss: 0.680\n",
            "Epoch: 02  val_loss: 0.517\n",
            "Epoch: 03  val_loss: 0.457\n",
            "Epoch: 04  val_loss: 0.441\n",
            "Epoch: 05  val_loss: 0.411\n",
            "Epoch: 06  val_loss: 0.388\n",
            "Epoch: 07  val_loss: 0.387\n",
            "Epoch: 08  val_loss: 0.366\n",
            "Epoch: 09  val_loss: 0.381\n",
            "Epoch: 10  val_loss: 0.393\n",
            "Epoch: 11  val_loss: 0.367\n",
            "Epoch: 12  val_loss: 0.379\n",
            "Epoch: 13  val_loss: 0.368\n",
            "Epoch: 14  val_loss: 0.363\n",
            "Epoch: 15  val_loss: 0.378\n",
            "Epoch: 16  val_loss: 0.400\n",
            "Epoch: 17  val_loss: 0.391\n",
            "Epoch: 18  val_loss: 0.407\n",
            "Epoch: 19  val_loss: 0.408\n",
            "Epoch: 20  val_loss: 0.402\n"
          ]
        }
      ]
    },
    {
      "cell_type": "markdown",
      "source": [
        "#77. ミニバッチ化\n",
        "問題76のコードを改変し，B\n",
        "事例ごとに損失・勾配を計算し，行列W\n",
        "の値を更新せよ（ミニバッチ化）．B\n",
        "の値を1,2,4,8,…\n",
        "と変化させながら，1エポックの学習に要する時間を比較せよ．"
      ],
      "metadata": {
        "id": "JtR1ZTI7t-BA"
      }
    },
    {
      "cell_type": "code",
      "source": [
        "# ネットワークのインスタンスを作成\n",
        "net = Net(300, 4)\n",
        "\n",
        "#損失関数の選択\n",
        "criterion = nn.CrossEntropyLoss()\n",
        "\n",
        "#最適化手法の選択\n",
        "optimizer = torch.optim.Adam(net.parameters(), lr=0.01)\n",
        "\n",
        "# モデルをGPUに転送\n",
        "device = torch.device(\"cuda:0\" if torch.cuda.is_available() else \"cpu\")\n",
        "net = net.to(device)\n",
        "device"
      ],
      "metadata": {
        "id": "KgIE2GDZbwD1",
        "colab": {
          "base_uri": "https://localhost:8080/"
        },
        "outputId": "78448c76-4700-4a3b-bf7a-0960753795fd"
      },
      "execution_count": 39,
      "outputs": [
        {
          "output_type": "execute_result",
          "data": {
            "text/plain": [
              "device(type='cpu')"
            ]
          },
          "metadata": {},
          "execution_count": 39
        }
      ]
    },
    {
      "cell_type": "code",
      "source": [
        "#学習ループ\n",
        "import time\n",
        "\n",
        "max_epoch = 1\n",
        "\n",
        "batch_size_list = [1, 2, 4, 8, 16, 32, 64, 256]\n",
        "\n",
        "for batch_size in batch_size_list:\n",
        "    train_loader = DataLoader(train, batch_size, shuffle=True)\n",
        "    val_loader = DataLoader(val, batch_size, shuffle=False)\n",
        "    test_loader = DataLoader(test, batch_size, shuffle=False)\n",
        "\n",
        "    start = time.time()\n",
        "\n",
        "    for epoch in range(max_epoch):\n",
        "\n",
        "        # ミニバッチ学習\n",
        "        for batch in train_loader:\n",
        "\n",
        "            # バッチサイズ分のサンプルを抽出\n",
        "            x, t = batch\n",
        "\n",
        "            # 勾配を初期化\n",
        "            optimizer.zero_grad()\n",
        "\n",
        "            # 順伝播\n",
        "            y = net(x)\n",
        "            loss = criterion(y, t)\n",
        "            train_loss.append(loss)\n",
        "\n",
        "            # 誤差逆伝播\n",
        "            loss.backward()\n",
        "            optimizer.step()\n",
        "\n",
        "        # 更新と切り離し、検証データの性能を確認\n",
        "        with torch.no_grad():\n",
        "            losses = list()\n",
        "            for batch in val_loader:\n",
        "                x, t = batch\n",
        "                x = x.to(device)\n",
        "                t = t.to(device)\n",
        "                y = net(x)\n",
        "                loss = criterion(y, t)\n",
        "                losses.append(loss)\n",
        "        val_loss = torch.tensor(losses).mean()\n",
        "        # print(\"Epoch: %02d  val_loss: %.3f\" % (epoch+1, val_loss))\n",
        "\n",
        "\n",
        "        end = time.time()\n",
        "        print(\"Epoch: %02d  time: %.3f\" % (epoch+1, end-start))\n",
        "\n",
        ""
      ],
      "metadata": {
        "id": "bjyoACC1t8Zq",
        "colab": {
          "base_uri": "https://localhost:8080/"
        },
        "outputId": "f9e3990d-46d3-4ebe-a0a7-15bfa2ab249e"
      },
      "execution_count": 40,
      "outputs": [
        {
          "output_type": "stream",
          "name": "stdout",
          "text": [
            "Epoch: 01  time: 2.079\n",
            "Epoch: 01  time: 1.370\n",
            "Epoch: 01  time: 0.193\n",
            "Epoch: 01  time: 0.115\n",
            "Epoch: 01  time: 0.056\n",
            "Epoch: 01  time: 0.037\n",
            "Epoch: 01  time: 0.023\n",
            "Epoch: 01  time: 0.017\n"
          ]
        }
      ]
    },
    {
      "cell_type": "markdown",
      "source": [
        "#78. GPU上での学習\n",
        "問題77のコードを改変し，GPU上で学習を実行せよ．"
      ],
      "metadata": {
        "id": "oMSx_-WFuBSl"
      }
    },
    {
      "cell_type": "code",
      "source": [
        "# ネットワークのインスタンスを作成\n",
        "net = Net(300, 4)\n",
        "\n",
        "#損失関数の選択\n",
        "criterion = nn.CrossEntropyLoss()\n",
        "\n",
        "#最適化手法の選択\n",
        "optimizer = torch.optim.Adam(net.parameters(), lr=0.01)\n",
        "\n",
        "# モデルをGPUに転送\n",
        "device = torch.device(\"cuda:0\" if torch.cuda.is_available() else \"cpu\")\n",
        "net = net.to(device)\n",
        "device"
      ],
      "metadata": {
        "colab": {
          "base_uri": "https://localhost:8080/"
        },
        "id": "Au4cUg5WbvjO",
        "outputId": "64cdc806-d15a-4168-cb91-ff9666055938"
      },
      "execution_count": 41,
      "outputs": [
        {
          "output_type": "execute_result",
          "data": {
            "text/plain": [
              "device(type='cpu')"
            ]
          },
          "metadata": {},
          "execution_count": 41
        }
      ]
    },
    {
      "cell_type": "code",
      "source": [
        "#学習ループ\n",
        "max_epoch = 20\n",
        "\n",
        "\n",
        "for epoch in range(max_epoch):\n",
        "\n",
        "    # ミニバッチ学習\n",
        "    for batch in train_loader:\n",
        "\n",
        "        # バッチサイズ分のサンプルを抽出\n",
        "        x, t = batch\n",
        "\n",
        "        # データをGPUへ転送\n",
        "        x = x.to(device)\n",
        "        t = t.to(device)\n",
        "\n",
        "        # 勾配を初期化\n",
        "        optimizer.zero_grad()\n",
        "\n",
        "        # 順伝播\n",
        "        y = net(x)\n",
        "        loss = criterion(y, t)\n",
        "        train_loss.append(loss)\n",
        "\n",
        "        # 誤差逆伝播\n",
        "        loss.backward()\n",
        "        optimizer.step()\n",
        "\n",
        "    # 更新と切り離し、検証データの性能を確認\n",
        "    with torch.no_grad():\n",
        "        losses = list()\n",
        "        for batch in val_loader:\n",
        "            x, t = batch\n",
        "            x = x.to(device)\n",
        "            t = t.to(device)\n",
        "            y = net(x)\n",
        "            loss = criterion(y, t)\n",
        "            losses.append(loss)\n",
        "    val_loss = torch.tensor(losses).mean()\n",
        "    print(\"Epoch: %02d  val_loss: %.3f\" % (epoch+1, val_loss))"
      ],
      "metadata": {
        "id": "mnUErfYduDGZ",
        "colab": {
          "base_uri": "https://localhost:8080/"
        },
        "outputId": "64bf1424-4d45-41ea-b774-28de28d7f5b7"
      },
      "execution_count": 42,
      "outputs": [
        {
          "output_type": "stream",
          "name": "stdout",
          "text": [
            "Epoch: 01  val_loss: 1.922\n",
            "Epoch: 02  val_loss: 1.599\n",
            "Epoch: 03  val_loss: 1.440\n",
            "Epoch: 04  val_loss: 1.335\n",
            "Epoch: 05  val_loss: 1.223\n",
            "Epoch: 06  val_loss: 1.105\n",
            "Epoch: 07  val_loss: 1.003\n",
            "Epoch: 08  val_loss: 0.928\n",
            "Epoch: 09  val_loss: 0.872\n",
            "Epoch: 10  val_loss: 0.825\n",
            "Epoch: 11  val_loss: 0.785\n",
            "Epoch: 12  val_loss: 0.751\n",
            "Epoch: 13  val_loss: 0.721\n",
            "Epoch: 14  val_loss: 0.695\n",
            "Epoch: 15  val_loss: 0.672\n",
            "Epoch: 16  val_loss: 0.651\n",
            "Epoch: 17  val_loss: 0.632\n",
            "Epoch: 18  val_loss: 0.616\n",
            "Epoch: 19  val_loss: 0.602\n",
            "Epoch: 20  val_loss: 0.589\n"
          ]
        }
      ]
    },
    {
      "cell_type": "markdown",
      "source": [
        "#79. 多層ニューラルネットワーク\n",
        "問題78のコードを改変し，バイアス項の導入や多層化など，ニューラルネットワークの形状を変更しながら，高性能なカテゴリ分類器を構築せよ．"
      ],
      "metadata": {
        "id": "tx--VruTuFDN"
      }
    },
    {
      "cell_type": "code",
      "source": [
        "#ネットワークの定義\n",
        "import torch.nn as nn\n",
        "import torch.nn.functional as F\n",
        "\n",
        "class Net(nn.Module):\n",
        "  def __init__(self, input_size, output_size):\n",
        "    super().__init__()\n",
        "    self.fc = nn.Linear(input_size, input_size//2, bias=False)\n",
        "    self.fc2 = nn.Linear(input_size//2, input_size//3, bias=True)\n",
        "    self.fc3 = nn.Linear(input_size//3, output_size, bias=False)\n",
        "    nn.init.normal_(self.fc.weight, 0.0, 1.0)  # 正規乱数で重みを初期化\n",
        "\n",
        "  def forward(self, x):\n",
        "    x = self.fc(x)\n",
        "    return x\n",
        "\n",
        "# ネットワークのインスタンスを作成\n",
        "net = Net(300, 4)\n",
        "net"
      ],
      "metadata": {
        "colab": {
          "base_uri": "https://localhost:8080/"
        },
        "id": "7rf6vZXVdMZh",
        "outputId": "f3cb85b7-e36d-4f35-c852-0c567d8d768f"
      },
      "execution_count": 43,
      "outputs": [
        {
          "output_type": "execute_result",
          "data": {
            "text/plain": [
              "Net(\n",
              "  (fc): Linear(in_features=300, out_features=150, bias=False)\n",
              "  (fc2): Linear(in_features=150, out_features=100, bias=True)\n",
              "  (fc3): Linear(in_features=100, out_features=4, bias=False)\n",
              ")"
            ]
          },
          "metadata": {},
          "execution_count": 43
        }
      ]
    },
    {
      "cell_type": "code",
      "source": [
        "# ネットワークのインスタンスを作成\n",
        "net = Net(300, 4)\n",
        "\n",
        "#損失関数の選択\n",
        "criterion = nn.CrossEntropyLoss()\n",
        "\n",
        "#最適化手法の選択\n",
        "optimizer = torch.optim.Adam(net.parameters(), lr=0.01)\n",
        "\n",
        "# モデルをGPUに転送\n",
        "device = torch.device(\"cuda:0\" if torch.cuda.is_available() else \"cpu\")\n",
        "net = net.to(device)\n",
        "device"
      ],
      "metadata": {
        "colab": {
          "base_uri": "https://localhost:8080/"
        },
        "id": "q7AMVEYCbvIY",
        "outputId": "7c896030-00d1-459c-cd33-37c989920e6b"
      },
      "execution_count": 44,
      "outputs": [
        {
          "output_type": "execute_result",
          "data": {
            "text/plain": [
              "device(type='cpu')"
            ]
          },
          "metadata": {},
          "execution_count": 44
        }
      ]
    },
    {
      "cell_type": "code",
      "source": [
        "#学習ループ\n",
        "max_epoch = 20\n",
        "\n",
        "\n",
        "for epoch in range(max_epoch):\n",
        "\n",
        "    # ミニバッチ学習\n",
        "    for batch in train_loader:\n",
        "\n",
        "        # バッチサイズ分のサンプルを抽出\n",
        "        x, t = batch\n",
        "\n",
        "        # データをGPUへ転送\n",
        "        x = x.to(device)\n",
        "        t = t.to(device)\n",
        "\n",
        "        # 勾配を初期化\n",
        "        optimizer.zero_grad()\n",
        "\n",
        "        # 順伝播\n",
        "        y = net(x)\n",
        "        loss = criterion(y, t)\n",
        "        train_loss.append(loss)\n",
        "\n",
        "        # 誤差逆伝播\n",
        "        loss.backward()\n",
        "        optimizer.step()\n",
        "\n",
        "    # 更新と切り離し、検証データの性能を確認\n",
        "    with torch.no_grad():\n",
        "        losses = list()\n",
        "        for batch in val_loader:\n",
        "            x, t = batch\n",
        "            x = x.to(device)\n",
        "            t = t.to(device)\n",
        "            y = net(x)\n",
        "            loss = criterion(y, t)\n",
        "            losses.append(loss)\n",
        "    val_loss = torch.tensor(losses).mean()\n",
        "    print(\"Epoch: %02d  val_loss: %.3f\" % (epoch+1, val_loss))"
      ],
      "metadata": {
        "id": "nqKQImx0uGb0",
        "colab": {
          "base_uri": "https://localhost:8080/"
        },
        "outputId": "323e78fd-14c9-4c60-80d4-7e7c8a8bc173"
      },
      "execution_count": 45,
      "outputs": [
        {
          "output_type": "stream",
          "name": "stdout",
          "text": [
            "Epoch: 01  val_loss: 5.291\n",
            "Epoch: 02  val_loss: 4.289\n",
            "Epoch: 03  val_loss: 3.460\n",
            "Epoch: 04  val_loss: 2.789\n",
            "Epoch: 05  val_loss: 2.247\n",
            "Epoch: 06  val_loss: 1.799\n",
            "Epoch: 07  val_loss: 1.433\n",
            "Epoch: 08  val_loss: 1.173\n",
            "Epoch: 09  val_loss: 1.017\n",
            "Epoch: 10  val_loss: 0.933\n",
            "Epoch: 11  val_loss: 0.881\n",
            "Epoch: 12  val_loss: 0.837\n",
            "Epoch: 13  val_loss: 0.792\n",
            "Epoch: 14  val_loss: 0.749\n",
            "Epoch: 15  val_loss: 0.711\n",
            "Epoch: 16  val_loss: 0.680\n",
            "Epoch: 17  val_loss: 0.655\n",
            "Epoch: 18  val_loss: 0.634\n",
            "Epoch: 19  val_loss: 0.618\n",
            "Epoch: 20  val_loss: 0.604\n"
          ]
        }
      ]
    }
  ]
}