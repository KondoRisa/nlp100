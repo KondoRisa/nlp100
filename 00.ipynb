{
  "nbformat": 4,
  "nbformat_minor": 0,
  "metadata": {
    "colab": {
      "provenance": []
    },
    "kernelspec": {
      "name": "python3",
      "display_name": "Python 3"
    },
    "language_info": {
      "name": "python"
    }
  },
  "cells": [
    {
      "cell_type": "markdown",
      "source": [
        "#00. 文字列の逆順\n",
        "文字列”stressed”の文字を逆に（末尾から先頭に向かって）並べた文字列を得よ．"
      ],
      "metadata": {
        "id": "0uyyowkaduKd"
      }
    },
    {
      "cell_type": "code",
      "execution_count": null,
      "metadata": {
        "colab": {
          "base_uri": "https://localhost:8080/"
        },
        "id": "_s1BWW2RZHGX",
        "outputId": "7c8ca513-9707-452b-e164-7ed5a9f24139"
      },
      "outputs": [
        {
          "output_type": "stream",
          "name": "stdout",
          "text": [
            "desserts\n"
          ]
        }
      ],
      "source": [
        "text = 'stressed'\n",
        "revtext = reversed(text)\n",
        "revlist = ''.join(list(revtext))\n",
        "print(revlist)"
      ]
    },
    {
      "cell_type": "markdown",
      "source": [
        "https://note.nkmk.me/python-reverse-reversed/\n",
        "\n",
        "\n",
        "reverseメソッドは使えない text.reversed()\n",
        "\n",
        "イテレータを文字列に直接変換することはできない→1文字ずつリストに"
      ],
      "metadata": {
        "id": "Dz5wO7ebbsJH"
      }
    },
    {
      "cell_type": "code",
      "source": [
        "text[::-1] #開始位置：終了位置：ステップ数　ステップ数を省略すると1\n",
        "#ステップ数が負だとstartから逆に切り取りが行われる"
      ],
      "metadata": {
        "colab": {
          "base_uri": "https://localhost:8080/",
          "height": 35
        },
        "id": "RzDylBamy5fm",
        "outputId": "d0f9f8fe-7f04-46a6-f965-e1b37931f184"
      },
      "execution_count": null,
      "outputs": [
        {
          "output_type": "execute_result",
          "data": {
            "text/plain": [
              "'desserts'"
            ],
            "application/vnd.google.colaboratory.intrinsic+json": {
              "type": "string"
            }
          },
          "metadata": {},
          "execution_count": 2
        }
      ]
    },
    {
      "cell_type": "code",
      "source": [
        "#予約語・組み込み関数に注意\n",
        "#strは× 組み込み関数が使えなくなる"
      ],
      "metadata": {
        "id": "mLqmyv-J0Gl5"
      },
      "execution_count": null,
      "outputs": []
    }
  ]
}