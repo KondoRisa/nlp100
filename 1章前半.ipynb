{
  "nbformat": 4,
  "nbformat_minor": 0,
  "metadata": {
    "colab": {
      "provenance": []
    },
    "kernelspec": {
      "name": "python3",
      "display_name": "Python 3"
    },
    "language_info": {
      "name": "python"
    }
  },
  "cells": [
    {
      "cell_type": "markdown",
      "source": [
        "#00. 文字列の逆順\n",
        "文字列”stressed”の文字を逆に（末尾から先頭に向かって）並べた文字列を得よ．"
      ],
      "metadata": {
        "id": "0uyyowkaduKd"
      }
    },
    {
      "cell_type": "code",
      "execution_count": null,
      "metadata": {
        "colab": {
          "base_uri": "https://localhost:8080/"
        },
        "id": "_s1BWW2RZHGX",
        "outputId": "339fee1d-c757-4d9e-b195-cd766aa44408"
      },
      "outputs": [
        {
          "output_type": "stream",
          "name": "stdout",
          "text": [
            "desserts\n"
          ]
        }
      ],
      "source": [
        "text = 'stressed'\n",
        "revtext = reversed(text)\n",
        "revlist = ''.join(list(revtext))\n",
        "print(revlist)"
      ]
    },
    {
      "cell_type": "markdown",
      "source": [
        "https://note.nkmk.me/python-reverse-reversed/\n",
        "\n",
        "\n",
        "reverseメソッドは使えない text.reversed()\n",
        "\n",
        "イテレータを文字列に直接変換することはできない→1文字ずつリストに"
      ],
      "metadata": {
        "id": "Dz5wO7ebbsJH"
      }
    },
    {
      "cell_type": "code",
      "source": [
        "text[::-1] #開始位置：終了位置：ステップ数　ステップ数を省略すると1\n",
        "#ステップ数が負だとstartから逆に切り取りが行われる"
      ],
      "metadata": {
        "colab": {
          "base_uri": "https://localhost:8080/",
          "height": 35
        },
        "id": "RzDylBamy5fm",
        "outputId": "f688ece8-45cb-451f-a954-b9486e8ad1ac"
      },
      "execution_count": null,
      "outputs": [
        {
          "output_type": "execute_result",
          "data": {
            "text/plain": [
              "'desserts'"
            ],
            "application/vnd.google.colaboratory.intrinsic+json": {
              "type": "string"
            }
          },
          "metadata": {},
          "execution_count": 2
        }
      ]
    },
    {
      "cell_type": "code",
      "source": [
        "#予約語・組み込み関数に注意\n",
        "#strは× 組み込み関数が使えなくなる"
      ],
      "metadata": {
        "id": "mLqmyv-J0Gl5"
      },
      "execution_count": null,
      "outputs": []
    },
    {
      "cell_type": "markdown",
      "source": [
        "#01. 「パタトクカシーー」\n",
        "「パタトクカシーー」という文字列の1,3,5,7文字目を取り出して連結した文字列を得よ．"
      ],
      "metadata": {
        "id": "WK0r5xz96dNe"
      }
    },
    {
      "cell_type": "code",
      "source": [
        "text = 'パタトクカシーー'\n",
        "newtext = text[0]+text[2]+text[4]+text[6]\n",
        "newtext"
      ],
      "metadata": {
        "id": "G5vskNZi6f6H",
        "outputId": "d37fd9cb-6723-4a42-ced3-9a7584593afb",
        "colab": {
          "base_uri": "https://localhost:8080/",
          "height": 35
        }
      },
      "execution_count": null,
      "outputs": [
        {
          "output_type": "execute_result",
          "data": {
            "text/plain": [
              "'パトカー'"
            ],
            "application/vnd.google.colaboratory.intrinsic+json": {
              "type": "string"
            }
          },
          "metadata": {},
          "execution_count": 4
        }
      ]
    },
    {
      "cell_type": "code",
      "source": [
        "text = 'パタトクカシーー'\n",
        "newtext = ''\n",
        "for i in range(0, 8, 2):\n",
        "    newtext += text[i]\n",
        "newtext"
      ],
      "metadata": {
        "id": "fSYGoySe6i1-",
        "outputId": "5c4119f5-ea9e-4edf-fc81-1eda4d363fbf",
        "colab": {
          "base_uri": "https://localhost:8080/",
          "height": 35
        }
      },
      "execution_count": null,
      "outputs": [
        {
          "output_type": "execute_result",
          "data": {
            "text/plain": [
              "'パトカー'"
            ],
            "application/vnd.google.colaboratory.intrinsic+json": {
              "type": "string"
            }
          },
          "metadata": {},
          "execution_count": 5
        }
      ]
    },
    {
      "cell_type": "code",
      "source": [
        "text[::2]"
      ],
      "metadata": {
        "id": "ssyLNcti6jAh",
        "outputId": "ca4254fe-acfc-4238-8b3b-618a498c51ff",
        "colab": {
          "base_uri": "https://localhost:8080/",
          "height": 35
        }
      },
      "execution_count": null,
      "outputs": [
        {
          "output_type": "execute_result",
          "data": {
            "text/plain": [
              "'パトカー'"
            ],
            "application/vnd.google.colaboratory.intrinsic+json": {
              "type": "string"
            }
          },
          "metadata": {},
          "execution_count": 6
        }
      ]
    },
    {
      "cell_type": "markdown",
      "source": [
        "#02. 「パトカー」＋「タクシー」＝「パタトクカシーー」\n",
        "「パトカー」＋「タクシー」の文字を先頭から交互に連結して文字列「パタトクカシーー」を得よ．"
      ],
      "metadata": {
        "id": "45Btzwke6nnT"
      }
    },
    {
      "cell_type": "code",
      "source": [
        "text1 = 'パトカー'\n",
        "text2 = 'タクシー'\n",
        "newtext = ''\n",
        "\n",
        "for i in range(0,4):\n",
        "    newtext += text1[i]\n",
        "    newtext += text2[i]\n",
        "newtext"
      ],
      "metadata": {
        "id": "EzqgGUXM6pOW",
        "outputId": "22889817-6c0c-4ad1-ec1d-e4366dd03c25",
        "colab": {
          "base_uri": "https://localhost:8080/",
          "height": 35
        }
      },
      "execution_count": null,
      "outputs": [
        {
          "output_type": "execute_result",
          "data": {
            "text/plain": [
              "'パタトクカシーー'"
            ],
            "application/vnd.google.colaboratory.intrinsic+json": {
              "type": "string"
            }
          },
          "metadata": {},
          "execution_count": 7
        }
      ]
    },
    {
      "cell_type": "code",
      "source": [
        "#https://024minion.hatenablog.jp/entry/2017/05/04/164332\n",
        "text1 = 'パトカー'\n",
        "text2 = 'タクシー'\n",
        "newtext = ''\n",
        "\n",
        "for i in range(0,4):\n",
        "    newtext += (text1 + text2)[i::4]\n",
        "newtext"
      ],
      "metadata": {
        "id": "Jds3D3I86qp-",
        "outputId": "093f63fe-5246-4013-c41f-0891721a2535",
        "colab": {
          "base_uri": "https://localhost:8080/",
          "height": 35
        }
      },
      "execution_count": null,
      "outputs": [
        {
          "output_type": "execute_result",
          "data": {
            "text/plain": [
              "'パタトクカシーー'"
            ],
            "application/vnd.google.colaboratory.intrinsic+json": {
              "type": "string"
            }
          },
          "metadata": {},
          "execution_count": 8
        }
      ]
    },
    {
      "cell_type": "markdown",
      "source": [
        "ハードコーディングは避ける\n",
        "\n",
        "zip 複数の文字列を取り出す\n",
        "\n",
        "長さが異なるときは短い方に揃えられる\n",
        "\n",
        "```\n",
        "for name, age in zip(s1,s2):\n",
        "print(f'name: {name} age:{age}')\n",
        "```\n",
        "\n",
        "長い方に合わせるときは zip_longest\n",
        "\n",
        "内包表記"
      ],
      "metadata": {
        "id": "kWOGlXFO6tAa"
      }
    },
    {
      "cell_type": "markdown",
      "source": [
        "#03. 円周率\n",
        "“Now I need a drink, alcoholic of course, after the heavy lectures involving quantum mechanics.”という文を単語に分解し，各単語の（アルファベットの）文字数を先頭から出現順に並べたリストを作成せよ．"
      ],
      "metadata": {
        "id": "MfADChlV6x5f"
      }
    },
    {
      "cell_type": "code",
      "source": [
        "import re\n",
        "\n",
        "text = 'Now I need a drink, alcoholic of course, after the heavy lectures involving quantum mechanics.'\n",
        "alphatext = re.sub(\",|\\.\", \"\", text) #,と.を除去　正規表現[\\.,]\n",
        "words = alphatext.split(' ') #単語のリスト\n",
        "cnt = []\n",
        "for str in words:\n",
        "    cnt.append(len(str))\n",
        "cnt\n",
        "#https://niwakomablog.com/python-alphabet-extract/"
      ],
      "metadata": {
        "id": "eB-7W_RY6z4x",
        "outputId": "aa555c39-c22e-4619-8c38-b0077d2d610c",
        "colab": {
          "base_uri": "https://localhost:8080/"
        }
      },
      "execution_count": null,
      "outputs": [
        {
          "output_type": "execute_result",
          "data": {
            "text/plain": [
              "[3, 1, 4, 1, 5, 9, 2, 6, 5, 3, 5, 8, 9, 7, 9]"
            ]
          },
          "metadata": {},
          "execution_count": 9
        }
      ]
    },
    {
      "cell_type": "code",
      "source": [
        "result = [len(word) for word in words]"
      ],
      "metadata": {
        "id": "z_YU-3nN61qH"
      },
      "execution_count": null,
      "outputs": []
    },
    {
      "cell_type": "markdown",
      "source": [
        "replace\n",
        "\n",
        "残念なところ：条件を1つしか指定できない\n",
        "\n",
        "src.replace( \"b\", \"B\", 1) 回数を指定することもできる"
      ],
      "metadata": {
        "id": "kviu71Pf669P"
      }
    },
    {
      "cell_type": "markdown",
      "source": [
        "#04. 元素記号\n",
        "“Hi He Lied Because Boron Could Not Oxidize Fluorine. New Nations Might Also Sign Peace Security Clause. Arthur King Can.”という文を単語に分解し，\n",
        "\n",
        "1, 5, 6, 7, 8, 9, 15, 16, 19番目の単語は先頭の1文字，それ以外の単語は先頭の2文字を取り出し，\n",
        "\n",
        "取り出した文字列から単語の位置（先頭から何番目の単語か）への連想配列（辞書型もしくはマップ型）を作成せよ．\n"
      ],
      "metadata": {
        "id": "z1EUZbcy6-3y"
      }
    },
    {
      "cell_type": "code",
      "source": [
        "text = 'Hi He Lied Because Boron Could Not Oxidize Fluorine. New Nations Might Also Sign Peace Security Clause. Arthur King Can.'\n",
        "word = text.split(' ') #単語に分解\n",
        "num = [1, 5, 6, 7, 8, 9, 15, 16, 19]\n",
        "num = [x-1 for x in num]\n",
        "dic = {}\n",
        "for i in range(len(word)):\n",
        "    dic[i+1] = word[i][0]\n",
        "    if i not in num:\n",
        "        dic[i+1] += word[i][1]\n",
        "dic"
      ],
      "metadata": {
        "id": "8uVBbxpl7Cah",
        "outputId": "7591999f-ba0c-4436-f3e4-21a9862acc3b",
        "colab": {
          "base_uri": "https://localhost:8080/"
        }
      },
      "execution_count": null,
      "outputs": [
        {
          "output_type": "execute_result",
          "data": {
            "text/plain": [
              "{1: 'H',\n",
              " 2: 'He',\n",
              " 3: 'Li',\n",
              " 4: 'Be',\n",
              " 5: 'B',\n",
              " 6: 'C',\n",
              " 7: 'N',\n",
              " 8: 'O',\n",
              " 9: 'F',\n",
              " 10: 'Ne',\n",
              " 11: 'Na',\n",
              " 12: 'Mi',\n",
              " 13: 'Al',\n",
              " 14: 'Si',\n",
              " 15: 'P',\n",
              " 16: 'S',\n",
              " 17: 'Cl',\n",
              " 18: 'Ar',\n",
              " 19: 'K',\n",
              " 20: 'Ca'}"
            ]
          },
          "metadata": {},
          "execution_count": 11
        }
      ]
    },
    {
      "cell_type": "markdown",
      "source": [
        "https://techacademy.jp/magazine/21164\n",
        "\n",
        "enumerate"
      ],
      "metadata": {
        "id": "BYw4abTB7E3S"
      }
    }
  ]
}
