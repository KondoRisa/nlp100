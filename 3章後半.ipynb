{
  "nbformat": 4,
  "nbformat_minor": 0,
  "metadata": {
    "colab": {
      "provenance": []
    },
    "kernelspec": {
      "name": "python3",
      "display_name": "Python 3"
    },
    "language_info": {
      "name": "python"
    }
  },
  "cells": [
    {
      "cell_type": "markdown",
      "source": [
        "#25. テンプレートの抽出\n",
        "記事中に含まれる「基礎情報」テンプレートのフィールド名と値を抽出し，辞書オブジェクトとして格納せよ．"
      ],
      "metadata": {
        "id": "mmmXViEtlikc"
      }
    },
    {
      "cell_type": "code",
      "execution_count": 2,
      "metadata": {
        "colab": {
          "base_uri": "https://localhost:8080/"
        },
        "id": "68GgNYUElNh0",
        "outputId": "0108f739-fd9d-4da7-d810-0e0f899e6c5b"
      },
      "outputs": [
        {
          "output_type": "stream",
          "name": "stdout",
          "text": [
            "Mounted at /content/drive\n"
          ]
        }
      ],
      "source": [
        "from google.colab import drive \n",
        "drive.mount('/content/drive')"
      ]
    },
    {
      "cell_type": "code",
      "source": [
        "import pandas as pd\n",
        "import json\n",
        "\n",
        "path = '/content/drive/MyDrive/nlp100/jawiki-country.json'\n",
        "\n",
        "with open(path, 'r') as f:\n",
        "    df = [json.loads(line) for line in f] # 一行ずつ読み込んでリストに\n",
        "\n",
        "for line in df:\n",
        "    if line[\"title\"] == \"イギリス\":\n",
        "        article = line[\"text\"]"
      ],
      "metadata": {
        "id": "gGifEXnllk-Y"
      },
      "execution_count": 21,
      "outputs": []
    },
    {
      "cell_type": "code",
      "source": [
        "import re\n",
        "kiso = re.findall(r'^{{基礎情報.*?$(.*?)^}}', article, re.MULTILINE + re.DOTALL)\n",
        "#マークダウンテキストの中から順序無しリストのグループを全件抽出したい場合は re.MULTILINE と re.DOTALL を指定\n",
        "print(kiso)\n",
        "\n",
        "template = re.findall('\\|(.*) *= *(.*)\\n', kiso[0])\n",
        "print(template)\n",
        "\n",
        "#パターンのセットを抽出してdictに\n",
        "#https://atmarkit.itmedia.co.jp/ait/articles/2103/05/news028.html\n",
        "dic = dict(template)\n",
        "dic"
      ],
      "metadata": {
        "colab": {
          "base_uri": "https://localhost:8080/"
        },
        "id": "Cx9I3TSVlnx_",
        "outputId": "6539ce7c-0eff-4291-d358-168ba256428b"
      },
      "execution_count": 22,
      "outputs": [
        {
          "output_type": "stream",
          "name": "stdout",
          "text": [
            "['\\n|略名  =イギリス\\n|日本語国名 = グレートブリテン及び北アイルランド連合王国\\n|公式国名 = {{lang|en|United Kingdom of Great Britain and Northern Ireland}}<ref>英語以外での正式国名:<br />\\n*{{lang|gd|An Rìoghachd Aonaichte na Breatainn Mhòr agus Eirinn mu Thuath}}（[[スコットランド・ゲール語]]）\\n*{{lang|cy|Teyrnas Gyfunol Prydain Fawr a Gogledd Iwerddon}}（[[ウェールズ語]]）\\n*{{lang|ga|Ríocht Aontaithe na Breataine Móire agus Tuaisceart na hÉireann}}（[[アイルランド語]]）\\n*{{lang|kw|An Rywvaneth Unys a Vreten Veur hag Iwerdhon Glédh}}（[[コーンウォール語]]）\\n*{{lang|sco|Unitit Kinrick o Great Breetain an Northren Ireland}}（[[スコットランド語]]）\\n**{{lang|sco|Claught Kängrick o Docht Brätain an Norlin Airlann}}、{{lang|sco|Unitet Kängdom o Great Brittain an Norlin Airlann}}（アルスター・スコットランド語）</ref>\\n|国旗画像 = Flag of the United Kingdom.svg\\n|国章画像 = [[ファイル:Royal Coat of Arms of the United Kingdom.svg|85px|イギリスの国章]]\\n|国章リンク =（[[イギリスの国章|国章]]）\\n|標語 = {{lang|fr|[[Dieu et mon droit]]}}<br />（[[フランス語]]:[[Dieu et mon droit|神と我が権利]]）\\n|国歌 = [[女王陛下万歳|{{lang|en|God Save the Queen}}]]{{en icon}}<br />\\'\\'神よ女王を護り賜え\\'\\'<br />{{center|[[ファイル:United States Navy Band - God Save the Queen.ogg]]}}\\n|地図画像 = Europe-UK.svg\\n|位置画像 = United Kingdom (+overseas territories) in the World (+Antarctica claims).svg\\n|公用語 = [[英語]]\\n|首都 = [[ロンドン]]（事実上）\\n|最大都市 = ロンドン\\n|元首等肩書 = [[イギリスの君主|女王]]\\n|元首等氏名 = [[エリザベス2世]]\\n|首相等肩書 = [[イギリスの首相|首相]]\\n|首相等氏名 = [[ボリス・ジョンソン]]\\n|他元首等肩書1 = [[貴族院 (イギリス)|貴族院議長]]\\n|他元首等氏名1 = [[:en:Norman Fowler, Baron Fowler|ノーマン・ファウラー]]\\n|他元首等肩書2 = [[庶民院 (イギリス)|庶民院議長]]\\n|他元首等氏名2 = {{仮リンク|リンゼイ・ホイル|en|Lindsay Hoyle}}\\n|他元首等肩書3 = [[連合王国最高裁判所|最高裁判所長官]]\\n|他元首等氏名3 = [[:en:Brenda Hale, Baroness Hale of Richmond|ブレンダ・ヘイル]]\\n|面積順位 = 76\\n|面積大きさ = 1 E11\\n|面積値 = 244,820\\n|水面積率 = 1.3%\\n|人口統計年 = 2018\\n|人口順位 = 22\\n|人口大きさ = 1 E7\\n|人口値 = 6643万5600<ref>{{Cite web|url=https://www.ons.gov.uk/peoplepopulationandcommunity/populationandmigration/populationestimates|title=Population estimates - Office for National Statistics|accessdate=2019-06-26|date=2019-06-26}}</ref>\\n|人口密度値 = 271\\n|GDP統計年元 = 2012\\n|GDP値元 = 1兆5478億<ref name=\"imf-statistics-gdp\">[http://www.imf.org/external/pubs/ft/weo/2012/02/weodata/weorept.aspx?pr.x=70&pr.y=13&sy=2010&ey=2012&scsm=1&ssd=1&sort=country&ds=.&br=1&c=112&s=NGDP%2CNGDPD%2CPPPGDP%2CPPPPC&grp=0&a=IMF>Data and Statistics>World Economic Outlook Databases>By Countrise>United Kingdom]</ref>\\n|GDP統計年MER = 2012\\n|GDP順位MER = 6\\n|GDP値MER = 2兆4337億<ref name=\"imf-statistics-gdp\" />\\n|GDP統計年 = 2012\\n|GDP順位 = 6\\n|GDP値 = 2兆3162億<ref name=\"imf-statistics-gdp\" />\\n|GDP/人 = 36,727<ref name=\"imf-statistics-gdp\" />\\n|建国形態 = 建国\\n|確立形態1 = [[イングランド王国]]／[[スコットランド王国]]<br />（両国とも[[合同法 (1707年)|1707年合同法]]まで）\\n|確立年月日1 = 927年／843年\\n|確立形態2 = [[グレートブリテン王国]]成立<br />（1707年合同法）\\n|確立年月日2 = 1707年{{0}}5月{{0}}1日\\n|確立形態3 = [[グレートブリテン及びアイルランド連合王国]]成立<br />（[[合同法 (1800年)|1800年合同法]]）\\n|確立年月日3 = 1801年{{0}}1月{{0}}1日\\n|確立形態4 = 現在の国号「\\'\\'\\'グレートブリテン及び北アイルランド連合王国\\'\\'\\'」に変更\\n|確立年月日4 = 1927年{{0}}4月12日\\n|通貨 = [[スターリング・ポンド|UKポンド]] (£)\\n|通貨コード = GBP\\n|時間帯 = ±0\\n|夏時間 = +1\\n|ISO 3166-1 = GB / GBR\\n|ccTLD = [[.uk]] / [[.gb]]<ref>使用は.ukに比べ圧倒的少数。</ref>\\n|国際電話番号 = 44\\n|注記 = <references/>\\n']\n",
            "[('略名  ', 'イギリス'), ('日本語国名 ', 'グレートブリテン及び北アイルランド連合王国'), ('公式国名 ', '{{lang|en|United Kingdom of Great Britain and Northern Ireland}}<ref>英語以外での正式国名:<br />'), ('国旗画像 ', 'Flag of the United Kingdom.svg'), ('国章画像 ', '[[ファイル:Royal Coat of Arms of the United Kingdom.svg|85px|イギリスの国章]]'), ('国章リンク ', '（[[イギリスの国章|国章]]）'), ('標語 ', '{{lang|fr|[[Dieu et mon droit]]}}<br />（[[フランス語]]:[[Dieu et mon droit|神と我が権利]]）'), ('国歌 ', \"[[女王陛下万歳|{{lang|en|God Save the Queen}}]]{{en icon}}<br />''神よ女王を護り賜え''<br />{{center|[[ファイル:United States Navy Band - God Save the Queen.ogg]]}}\"), ('地図画像 ', 'Europe-UK.svg'), ('位置画像 ', 'United Kingdom (+overseas territories) in the World (+Antarctica claims).svg'), ('公用語 ', '[[英語]]'), ('首都 ', '[[ロンドン]]（事実上）'), ('最大都市 ', 'ロンドン'), ('元首等肩書 ', '[[イギリスの君主|女王]]'), ('元首等氏名 ', '[[エリザベス2世]]'), ('首相等肩書 ', '[[イギリスの首相|首相]]'), ('首相等氏名 ', '[[ボリス・ジョンソン]]'), ('他元首等肩書1 ', '[[貴族院 (イギリス)|貴族院議長]]'), ('他元首等氏名1 ', '[[:en:Norman Fowler, Baron Fowler|ノーマン・ファウラー]]'), ('他元首等肩書2 ', '[[庶民院 (イギリス)|庶民院議長]]'), ('他元首等氏名2 ', '{{仮リンク|リンゼイ・ホイル|en|Lindsay Hoyle}}'), ('他元首等肩書3 ', '[[連合王国最高裁判所|最高裁判所長官]]'), ('他元首等氏名3 ', '[[:en:Brenda Hale, Baroness Hale of Richmond|ブレンダ・ヘイル]]'), ('面積順位 ', '76'), ('面積大きさ ', '1 E11'), ('面積値 ', '244,820'), ('水面積率 ', '1.3%'), ('人口統計年 ', '2018'), ('人口順位 ', '22'), ('人口大きさ ', '1 E7'), ('人口値 = 6643万5600<ref>{{Cite web|url=https://www.ons.gov.uk/peoplepopulationandcommunity/populationandmigration/populationestimates|title=Population estimates - Office for National Statistics|accessdate=2019-06-26|date', '2019-06-26}}</ref>'), ('人口密度値 ', '271'), ('GDP統計年元 ', '2012'), ('GDP値元 = 1兆5478億<ref name=\"imf-statistics-gdp\">[http://www.imf.org/external/pubs/ft/weo/2012/02/weodata/weorept.aspx?pr.x=70&pr.y=13&sy=2010&ey=2012&scsm=1&ssd=1&sort=country&ds=.&br=1&c=112&s=NGDP%2CNGDPD%2CPPPGDP%2CPPPPC&grp=0&a', 'IMF>Data and Statistics>World Economic Outlook Databases>By Countrise>United Kingdom]</ref>'), ('GDP統計年MER ', '2012'), ('GDP順位MER ', '6'), ('GDP値MER = 2兆4337億<ref name', '\"imf-statistics-gdp\" />'), ('GDP統計年 ', '2012'), ('GDP順位 ', '6'), ('GDP値 = 2兆3162億<ref name', '\"imf-statistics-gdp\" />'), ('GDP/人 = 36,727<ref name', '\"imf-statistics-gdp\" />'), ('建国形態 ', '建国'), ('確立形態1 ', '[[イングランド王国]]／[[スコットランド王国]]<br />（両国とも[[合同法 (1707年)|1707年合同法]]まで）'), ('確立年月日1 ', '927年／843年'), ('確立形態2 ', '[[グレートブリテン王国]]成立<br />（1707年合同法）'), ('確立年月日2 ', '1707年{{0}}5月{{0}}1日'), ('確立形態3 ', '[[グレートブリテン及びアイルランド連合王国]]成立<br />（[[合同法 (1800年)|1800年合同法]]）'), ('確立年月日3 ', '1801年{{0}}1月{{0}}1日'), ('確立形態4 ', \"現在の国号「'''グレートブリテン及び北アイルランド連合王国'''」に変更\"), ('確立年月日4 ', '1927年{{0}}4月12日'), ('通貨 ', '[[スターリング・ポンド|UKポンド]] (£)'), ('通貨コード ', 'GBP'), ('時間帯 ', '±0'), ('夏時間 ', '+1'), ('ISO 3166-1 ', 'GB / GBR'), ('ccTLD ', '[[.uk]] / [[.gb]]<ref>使用は.ukに比べ圧倒的少数。</ref>'), ('国際電話番号 ', '44'), ('注記 ', '<references/>')]\n"
          ]
        },
        {
          "output_type": "execute_result",
          "data": {
            "text/plain": [
              "{'略名  ': 'イギリス',\n",
              " '日本語国名 ': 'グレートブリテン及び北アイルランド連合王国',\n",
              " '公式国名 ': '{{lang|en|United Kingdom of Great Britain and Northern Ireland}}<ref>英語以外での正式国名:<br />',\n",
              " '国旗画像 ': 'Flag of the United Kingdom.svg',\n",
              " '国章画像 ': '[[ファイル:Royal Coat of Arms of the United Kingdom.svg|85px|イギリスの国章]]',\n",
              " '国章リンク ': '（[[イギリスの国章|国章]]）',\n",
              " '標語 ': '{{lang|fr|[[Dieu et mon droit]]}}<br />（[[フランス語]]:[[Dieu et mon droit|神と我が権利]]）',\n",
              " '国歌 ': \"[[女王陛下万歳|{{lang|en|God Save the Queen}}]]{{en icon}}<br />''神よ女王を護り賜え''<br />{{center|[[ファイル:United States Navy Band - God Save the Queen.ogg]]}}\",\n",
              " '地図画像 ': 'Europe-UK.svg',\n",
              " '位置画像 ': 'United Kingdom (+overseas territories) in the World (+Antarctica claims).svg',\n",
              " '公用語 ': '[[英語]]',\n",
              " '首都 ': '[[ロンドン]]（事実上）',\n",
              " '最大都市 ': 'ロンドン',\n",
              " '元首等肩書 ': '[[イギリスの君主|女王]]',\n",
              " '元首等氏名 ': '[[エリザベス2世]]',\n",
              " '首相等肩書 ': '[[イギリスの首相|首相]]',\n",
              " '首相等氏名 ': '[[ボリス・ジョンソン]]',\n",
              " '他元首等肩書1 ': '[[貴族院 (イギリス)|貴族院議長]]',\n",
              " '他元首等氏名1 ': '[[:en:Norman Fowler, Baron Fowler|ノーマン・ファウラー]]',\n",
              " '他元首等肩書2 ': '[[庶民院 (イギリス)|庶民院議長]]',\n",
              " '他元首等氏名2 ': '{{仮リンク|リンゼイ・ホイル|en|Lindsay Hoyle}}',\n",
              " '他元首等肩書3 ': '[[連合王国最高裁判所|最高裁判所長官]]',\n",
              " '他元首等氏名3 ': '[[:en:Brenda Hale, Baroness Hale of Richmond|ブレンダ・ヘイル]]',\n",
              " '面積順位 ': '76',\n",
              " '面積大きさ ': '1 E11',\n",
              " '面積値 ': '244,820',\n",
              " '水面積率 ': '1.3%',\n",
              " '人口統計年 ': '2018',\n",
              " '人口順位 ': '22',\n",
              " '人口大きさ ': '1 E7',\n",
              " '人口値 = 6643万5600<ref>{{Cite web|url=https://www.ons.gov.uk/peoplepopulationandcommunity/populationandmigration/populationestimates|title=Population estimates - Office for National Statistics|accessdate=2019-06-26|date': '2019-06-26}}</ref>',\n",
              " '人口密度値 ': '271',\n",
              " 'GDP統計年元 ': '2012',\n",
              " 'GDP値元 = 1兆5478億<ref name=\"imf-statistics-gdp\">[http://www.imf.org/external/pubs/ft/weo/2012/02/weodata/weorept.aspx?pr.x=70&pr.y=13&sy=2010&ey=2012&scsm=1&ssd=1&sort=country&ds=.&br=1&c=112&s=NGDP%2CNGDPD%2CPPPGDP%2CPPPPC&grp=0&a': 'IMF>Data and Statistics>World Economic Outlook Databases>By Countrise>United Kingdom]</ref>',\n",
              " 'GDP統計年MER ': '2012',\n",
              " 'GDP順位MER ': '6',\n",
              " 'GDP値MER = 2兆4337億<ref name': '\"imf-statistics-gdp\" />',\n",
              " 'GDP統計年 ': '2012',\n",
              " 'GDP順位 ': '6',\n",
              " 'GDP値 = 2兆3162億<ref name': '\"imf-statistics-gdp\" />',\n",
              " 'GDP/人 = 36,727<ref name': '\"imf-statistics-gdp\" />',\n",
              " '建国形態 ': '建国',\n",
              " '確立形態1 ': '[[イングランド王国]]／[[スコットランド王国]]<br />（両国とも[[合同法 (1707年)|1707年合同法]]まで）',\n",
              " '確立年月日1 ': '927年／843年',\n",
              " '確立形態2 ': '[[グレートブリテン王国]]成立<br />（1707年合同法）',\n",
              " '確立年月日2 ': '1707年{{0}}5月{{0}}1日',\n",
              " '確立形態3 ': '[[グレートブリテン及びアイルランド連合王国]]成立<br />（[[合同法 (1800年)|1800年合同法]]）',\n",
              " '確立年月日3 ': '1801年{{0}}1月{{0}}1日',\n",
              " '確立形態4 ': \"現在の国号「'''グレートブリテン及び北アイルランド連合王国'''」に変更\",\n",
              " '確立年月日4 ': '1927年{{0}}4月12日',\n",
              " '通貨 ': '[[スターリング・ポンド|UKポンド]] (£)',\n",
              " '通貨コード ': 'GBP',\n",
              " '時間帯 ': '±0',\n",
              " '夏時間 ': '+1',\n",
              " 'ISO 3166-1 ': 'GB / GBR',\n",
              " 'ccTLD ': '[[.uk]] / [[.gb]]<ref>使用は.ukに比べ圧倒的少数。</ref>',\n",
              " '国際電話番号 ': '44',\n",
              " '注記 ': '<references/>'}"
            ]
          },
          "metadata": {},
          "execution_count": 22
        }
      ]
    },
    {
      "cell_type": "markdown",
      "source": [
        "#26. 強調マークアップの除去\n",
        "25の処理時に，テンプレートの値からMediaWikiの強調マークアップ（弱い強調，強調，強い強調のすべて）を除去してテキストに変換せよ（参考: マークアップ早見表）．\n",
        "https://ja.wikipedia.org/wiki/Help:%E6%97%A9%E8%A6%8B%E8%A1%A8"
      ],
      "metadata": {
        "id": "aActxhhNnkA2"
      }
    },
    {
      "cell_type": "code",
      "source": [
        "import re\n",
        "kiso = re.findall(r'^{{基礎情報.*?$(.*?)^}}', article, re.MULTILINE + re.DOTALL)\n",
        "\n",
        "# subの引数 : 正規表現による検索パターン,置換する文字列,置換する文字列全体\n",
        "template = re.findall(r'\\n\\|(.*) = (.*)', re.sub('\\'\\'+', '', kiso[0]))\n",
        "\n",
        "#パターンのセットを抽出してdictに\n",
        "dic = dict(template)\n",
        "dic"
      ],
      "metadata": {
        "colab": {
          "base_uri": "https://localhost:8080/"
        },
        "id": "QY2N1Y6FnjGd",
        "outputId": "0bdc1162-ab64-4492-bff8-1b245a25c8fb"
      },
      "execution_count": 23,
      "outputs": [
        {
          "output_type": "execute_result",
          "data": {
            "text/plain": [
              "{'日本語国名': 'グレートブリテン及び北アイルランド連合王国',\n",
              " '公式国名': '{{lang|en|United Kingdom of Great Britain and Northern Ireland}}<ref>英語以外での正式国名:<br />',\n",
              " '国旗画像': 'Flag of the United Kingdom.svg',\n",
              " '国章画像': '[[ファイル:Royal Coat of Arms of the United Kingdom.svg|85px|イギリスの国章]]',\n",
              " '標語': '{{lang|fr|[[Dieu et mon droit]]}}<br />（[[フランス語]]:[[Dieu et mon droit|神と我が権利]]）',\n",
              " '国歌': '[[女王陛下万歳|{{lang|en|God Save the Queen}}]]{{en icon}}<br />神よ女王を護り賜え<br />{{center|[[ファイル:United States Navy Band - God Save the Queen.ogg]]}}',\n",
              " '地図画像': 'Europe-UK.svg',\n",
              " '位置画像': 'United Kingdom (+overseas territories) in the World (+Antarctica claims).svg',\n",
              " '公用語': '[[英語]]',\n",
              " '首都': '[[ロンドン]]（事実上）',\n",
              " '最大都市': 'ロンドン',\n",
              " '元首等肩書': '[[イギリスの君主|女王]]',\n",
              " '元首等氏名': '[[エリザベス2世]]',\n",
              " '首相等肩書': '[[イギリスの首相|首相]]',\n",
              " '首相等氏名': '[[ボリス・ジョンソン]]',\n",
              " '他元首等肩書1': '[[貴族院 (イギリス)|貴族院議長]]',\n",
              " '他元首等氏名1': '[[:en:Norman Fowler, Baron Fowler|ノーマン・ファウラー]]',\n",
              " '他元首等肩書2': '[[庶民院 (イギリス)|庶民院議長]]',\n",
              " '他元首等氏名2': '{{仮リンク|リンゼイ・ホイル|en|Lindsay Hoyle}}',\n",
              " '他元首等肩書3': '[[連合王国最高裁判所|最高裁判所長官]]',\n",
              " '他元首等氏名3': '[[:en:Brenda Hale, Baroness Hale of Richmond|ブレンダ・ヘイル]]',\n",
              " '面積順位': '76',\n",
              " '面積大きさ': '1 E11',\n",
              " '面積値': '244,820',\n",
              " '水面積率': '1.3%',\n",
              " '人口統計年': '2018',\n",
              " '人口順位': '22',\n",
              " '人口大きさ': '1 E7',\n",
              " '人口値': '6643万5600<ref>{{Cite web|url=https://www.ons.gov.uk/peoplepopulationandcommunity/populationandmigration/populationestimates|title=Population estimates - Office for National Statistics|accessdate=2019-06-26|date=2019-06-26}}</ref>',\n",
              " '人口密度値': '271',\n",
              " 'GDP統計年元': '2012',\n",
              " 'GDP値元': '1兆5478億<ref name=\"imf-statistics-gdp\">[http://www.imf.org/external/pubs/ft/weo/2012/02/weodata/weorept.aspx?pr.x=70&pr.y=13&sy=2010&ey=2012&scsm=1&ssd=1&sort=country&ds=.&br=1&c=112&s=NGDP%2CNGDPD%2CPPPGDP%2CPPPPC&grp=0&a=IMF>Data and Statistics>World Economic Outlook Databases>By Countrise>United Kingdom]</ref>',\n",
              " 'GDP統計年MER': '2012',\n",
              " 'GDP順位MER': '6',\n",
              " 'GDP値MER': '2兆4337億<ref name=\"imf-statistics-gdp\" />',\n",
              " 'GDP統計年': '2012',\n",
              " 'GDP順位': '6',\n",
              " 'GDP値': '2兆3162億<ref name=\"imf-statistics-gdp\" />',\n",
              " 'GDP/人': '36,727<ref name=\"imf-statistics-gdp\" />',\n",
              " '建国形態': '建国',\n",
              " '確立形態1': '[[イングランド王国]]／[[スコットランド王国]]<br />（両国とも[[合同法 (1707年)|1707年合同法]]まで）',\n",
              " '確立年月日1': '927年／843年',\n",
              " '確立形態2': '[[グレートブリテン王国]]成立<br />（1707年合同法）',\n",
              " '確立年月日2': '1707年{{0}}5月{{0}}1日',\n",
              " '確立形態3': '[[グレートブリテン及びアイルランド連合王国]]成立<br />（[[合同法 (1800年)|1800年合同法]]）',\n",
              " '確立年月日3': '1801年{{0}}1月{{0}}1日',\n",
              " '確立形態4': '現在の国号「グレートブリテン及び北アイルランド連合王国」に変更',\n",
              " '確立年月日4': '1927年{{0}}4月12日',\n",
              " '通貨': '[[スターリング・ポンド|UKポンド]] (£)',\n",
              " '通貨コード': 'GBP',\n",
              " '時間帯': '±0',\n",
              " '夏時間': '+1',\n",
              " 'ISO 3166-1': 'GB / GBR',\n",
              " 'ccTLD': '[[.uk]] / [[.gb]]<ref>使用は.ukに比べ圧倒的少数。</ref>',\n",
              " '国際電話番号': '44',\n",
              " '注記': '<references/>'}"
            ]
          },
          "metadata": {},
          "execution_count": 23
        }
      ]
    },
    {
      "cell_type": "markdown",
      "source": [
        "#27. 内部リンクの除去\n",
        "26の処理に加えて，テンプレートの値からMediaWikiの内部リンクマークアップを除去し，テキストに変換せよ（参考: マークアップ早見表）．\n",
        "https://ja.wikipedia.org/wiki/Help:%E6%97%A9%E8%A6%8B%E8%A1%A8"
      ],
      "metadata": {
        "id": "SijwUUIIopQY"
      }
    },
    {
      "cell_type": "code",
      "source": [
        "import re\n",
        "kiso = re.findall(r'^{{基礎情報.*?$(.*?)^}}', article, re.MULTILINE + re.DOTALL)\n",
        "\n",
        "subst = re.sub('\\'\\'+', '', kiso[0]) # 強調マークアップを削除\n",
        "sublink = re.sub('\\[\\[(.+?)\\]\\]', '', subst) #内部リンクを削除\n",
        "template = re.findall(r'\\n\\|(.*) = (.*)', sublink)\n",
        "\n",
        "#パターンのセットを抽出してdictに\n",
        "dic = dict(template)\n",
        "dic"
      ],
      "metadata": {
        "colab": {
          "base_uri": "https://localhost:8080/"
        },
        "id": "owpFByYYpiQN",
        "outputId": "0788db57-9ff9-47c5-d65a-4c72c1283199"
      },
      "execution_count": 24,
      "outputs": [
        {
          "output_type": "execute_result",
          "data": {
            "text/plain": [
              "{'日本語国名': 'グレートブリテン及び北アイルランド連合王国',\n",
              " '公式国名': '{{lang|en|United Kingdom of Great Britain and Northern Ireland}}<ref>英語以外での正式国名:<br />',\n",
              " '国旗画像': 'Flag of the United Kingdom.svg',\n",
              " '国章画像': '',\n",
              " '標語': '{{lang|fr|}}<br />（:）',\n",
              " '国歌': '{{en icon}}<br />神よ女王を護り賜え<br />{{center|}}',\n",
              " '地図画像': 'Europe-UK.svg',\n",
              " '位置画像': 'United Kingdom (+overseas territories) in the World (+Antarctica claims).svg',\n",
              " '公用語': '',\n",
              " '首都': '（事実上）',\n",
              " '最大都市': 'ロンドン',\n",
              " '元首等肩書': '',\n",
              " '元首等氏名': '',\n",
              " '首相等肩書': '',\n",
              " '首相等氏名': '',\n",
              " '他元首等肩書1': '',\n",
              " '他元首等氏名1': '',\n",
              " '他元首等肩書2': '',\n",
              " '他元首等氏名2': '{{仮リンク|リンゼイ・ホイル|en|Lindsay Hoyle}}',\n",
              " '他元首等肩書3': '',\n",
              " '他元首等氏名3': '',\n",
              " '面積順位': '76',\n",
              " '面積大きさ': '1 E11',\n",
              " '面積値': '244,820',\n",
              " '水面積率': '1.3%',\n",
              " '人口統計年': '2018',\n",
              " '人口順位': '22',\n",
              " '人口大きさ': '1 E7',\n",
              " '人口値': '6643万5600<ref>{{Cite web|url=https://www.ons.gov.uk/peoplepopulationandcommunity/populationandmigration/populationestimates|title=Population estimates - Office for National Statistics|accessdate=2019-06-26|date=2019-06-26}}</ref>',\n",
              " '人口密度値': '271',\n",
              " 'GDP統計年元': '2012',\n",
              " 'GDP値元': '1兆5478億<ref name=\"imf-statistics-gdp\">[http://www.imf.org/external/pubs/ft/weo/2012/02/weodata/weorept.aspx?pr.x=70&pr.y=13&sy=2010&ey=2012&scsm=1&ssd=1&sort=country&ds=.&br=1&c=112&s=NGDP%2CNGDPD%2CPPPGDP%2CPPPPC&grp=0&a=IMF>Data and Statistics>World Economic Outlook Databases>By Countrise>United Kingdom]</ref>',\n",
              " 'GDP統計年MER': '2012',\n",
              " 'GDP順位MER': '6',\n",
              " 'GDP値MER': '2兆4337億<ref name=\"imf-statistics-gdp\" />',\n",
              " 'GDP統計年': '2012',\n",
              " 'GDP順位': '6',\n",
              " 'GDP値': '2兆3162億<ref name=\"imf-statistics-gdp\" />',\n",
              " 'GDP/人': '36,727<ref name=\"imf-statistics-gdp\" />',\n",
              " '建国形態': '建国',\n",
              " '確立形態1': '／<br />（両国ともまで）',\n",
              " '確立年月日1': '927年／843年',\n",
              " '確立形態2': '成立<br />（1707年合同法）',\n",
              " '確立年月日2': '1707年{{0}}5月{{0}}1日',\n",
              " '確立形態3': '成立<br />（）',\n",
              " '確立年月日3': '1801年{{0}}1月{{0}}1日',\n",
              " '確立形態4': '現在の国号「グレートブリテン及び北アイルランド連合王国」に変更',\n",
              " '確立年月日4': '1927年{{0}}4月12日',\n",
              " '通貨': ' (£)',\n",
              " '通貨コード': 'GBP',\n",
              " '時間帯': '±0',\n",
              " '夏時間': '+1',\n",
              " 'ISO 3166-1': 'GB / GBR',\n",
              " 'ccTLD': ' / <ref>使用は.ukに比べ圧倒的少数。</ref>',\n",
              " '国際電話番号': '44',\n",
              " '注記': '<references/>'}"
            ]
          },
          "metadata": {},
          "execution_count": 24
        }
      ]
    },
    {
      "cell_type": "markdown",
      "source": [
        "#28. MediaWikiマークアップの除去\n",
        "27の処理に加えて，テンプレートの値からMediaWikiマークアップを可能な限り除去し，国の基本情報を整形せよ．\n",
        "https://ja.wikipedia.org/wiki/Help:%E6%97%A9%E8%A6%8B%E8%A1%A8"
      ],
      "metadata": {
        "id": "hcd5i1top_G9"
      }
    },
    {
      "cell_type": "code",
      "source": [
        "import re\n",
        "kiso = re.findall(r'^{{基礎情報.*?$(.*?)^}}', article, re.MULTILINE + re.DOTALL)\n",
        "\n",
        "subst = re.sub('\\'\\'+', '', kiso[0])\n",
        "sublink = re.sub('\\[\\[(.+?)\\]\\]', '', subst) #内部リンクを削除\n",
        "suboutlink = re.sub('\\[(.+?)\\]', '', sublink) #外部リンクを削除\n",
        "subredi = re.sub('#REDIRECT\\s*\\[\\[(.+?)\\]\\]', '', suboutlink) #リダイレクトを削除\n",
        "subtemp = re.sub('{{(.+?)}}', '', suboutlink) #テンプレートを削除\n",
        "subitem = re.sub('\\*+', '', subtemp) #箇条書きの記号を削除\n",
        "\n",
        "template = re.findall(r'\\n\\|(.*) = (.*)', subitem) \n",
        "\n",
        "#パターンのセットを抽出してdictに\n",
        "dic = dict(template)\n",
        "dic"
      ],
      "metadata": {
        "colab": {
          "base_uri": "https://localhost:8080/"
        },
        "id": "tKvXL--wqDsP",
        "outputId": "436dc302-c295-47da-a335-de606b2073ac"
      },
      "execution_count": 25,
      "outputs": [
        {
          "output_type": "execute_result",
          "data": {
            "text/plain": [
              "{'日本語国名': 'グレートブリテン及び北アイルランド連合王国',\n",
              " '公式国名': '<ref>英語以外での正式国名:<br />',\n",
              " '国旗画像': 'Flag of the United Kingdom.svg',\n",
              " '国章画像': '',\n",
              " '標語': '<br />（:）',\n",
              " '国歌': '<br />神よ女王を護り賜え<br />',\n",
              " '地図画像': 'Europe-UK.svg',\n",
              " '位置画像': 'United Kingdom (+overseas territories) in the World (+Antarctica claims).svg',\n",
              " '公用語': '',\n",
              " '首都': '（事実上）',\n",
              " '最大都市': 'ロンドン',\n",
              " '元首等肩書': '',\n",
              " '元首等氏名': '',\n",
              " '首相等肩書': '',\n",
              " '首相等氏名': '',\n",
              " '他元首等肩書1': '',\n",
              " '他元首等氏名1': '',\n",
              " '他元首等肩書2': '',\n",
              " '他元首等氏名2': '',\n",
              " '他元首等肩書3': '',\n",
              " '他元首等氏名3': '',\n",
              " '面積順位': '76',\n",
              " '面積大きさ': '1 E11',\n",
              " '面積値': '244,820',\n",
              " '水面積率': '1.3%',\n",
              " '人口統計年': '2018',\n",
              " '人口順位': '22',\n",
              " '人口大きさ': '1 E7',\n",
              " '人口値': '6643万5600<ref></ref>',\n",
              " '人口密度値': '271',\n",
              " 'GDP統計年元': '2012',\n",
              " 'GDP値元': '1兆5478億<ref name=\"imf-statistics-gdp\"></ref>',\n",
              " 'GDP統計年MER': '2012',\n",
              " 'GDP順位MER': '6',\n",
              " 'GDP値MER': '2兆4337億<ref name=\"imf-statistics-gdp\" />',\n",
              " 'GDP統計年': '2012',\n",
              " 'GDP順位': '6',\n",
              " 'GDP値': '2兆3162億<ref name=\"imf-statistics-gdp\" />',\n",
              " 'GDP/人': '36,727<ref name=\"imf-statistics-gdp\" />',\n",
              " '建国形態': '建国',\n",
              " '確立形態1': '／<br />（両国ともまで）',\n",
              " '確立年月日1': '927年／843年',\n",
              " '確立形態2': '成立<br />（1707年合同法）',\n",
              " '確立年月日2': '1707年5月1日',\n",
              " '確立形態3': '成立<br />（）',\n",
              " '確立年月日3': '1801年1月1日',\n",
              " '確立形態4': '現在の国号「グレートブリテン及び北アイルランド連合王国」に変更',\n",
              " '確立年月日4': '1927年4月12日',\n",
              " '通貨': ' (£)',\n",
              " '通貨コード': 'GBP',\n",
              " '時間帯': '±0',\n",
              " '夏時間': '+1',\n",
              " 'ISO 3166-1': 'GB / GBR',\n",
              " 'ccTLD': ' / <ref>使用は.ukに比べ圧倒的少数。</ref>',\n",
              " '国際電話番号': '44',\n",
              " '注記': '<references/>'}"
            ]
          },
          "metadata": {},
          "execution_count": 25
        }
      ]
    },
    {
      "cell_type": "markdown",
      "source": [
        "#29. 国旗画像のURLを取得する\n",
        "テンプレートの内容を利用し，国旗画像のURLを取得せよ．（ヒント: MediaWiki APIのimageinfoを呼び出して，ファイル参照をURLに変換すればよい）"
      ],
      "metadata": {
        "id": "C3QwQeOmqQjV"
      }
    },
    {
      "cell_type": "code",
      "source": [
        "import re\n",
        "kiso = re.findall(r'^{{基礎情報.*?$(.*?)^}}', article, re.MULTILINE + re.DOTALL)\n",
        "\n",
        "subst = re.sub('\\'\\'+', '', kiso[0])\n",
        "sublink = re.sub('\\[\\[(.+?)\\]\\]', '', subst)\n",
        "template = re.findall(r'\\n\\|(.*) = (.*)', sublink)\n",
        "\n",
        "dic = dict(template)"
      ],
      "metadata": {
        "id": "jLI98N9MqVI1"
      },
      "execution_count": 26,
      "outputs": []
    },
    {
      "cell_type": "code",
      "source": [
        "import requests\n",
        "\n",
        "S = requests.Session()\n",
        "\n",
        "URL = \"https://en.wikipedia.org/w/api.php\"\n",
        "\n",
        "PARAMS = {\n",
        "    \"action\": \"query\",\n",
        "    \"format\": \"json\",\n",
        "    \"prop\": \"imageinfo\",\n",
        "    \"titles\": \"File:\" + dic['国旗画像'],\n",
        "    \"iiprop\":\"url\"\n",
        "}\n",
        "\n",
        "R = S.get(url=URL, params=PARAMS)\n",
        "DATA = R.json()\n",
        "\n",
        "PAGES = DATA[\"query\"][\"pages\"]\n",
        "\n",
        "for k, v in PAGES.items():\n",
        "    print(v[\"imageinfo\"][0][\"url\"])"
      ],
      "metadata": {
        "colab": {
          "base_uri": "https://localhost:8080/"
        },
        "id": "6DdEzSV8qYwN",
        "outputId": "1b58aa8b-ae75-4a45-bc45-a06534d4f01c"
      },
      "execution_count": 27,
      "outputs": [
        {
          "output_type": "stream",
          "name": "stdout",
          "text": [
            "https://upload.wikimedia.org/wikipedia/en/a/ae/Flag_of_the_United_Kingdom.svg\n"
          ]
        }
      ]
    }
  ]
}