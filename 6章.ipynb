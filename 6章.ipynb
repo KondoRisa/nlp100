{
  "nbformat": 4,
  "nbformat_minor": 0,
  "metadata": {
    "colab": {
      "provenance": []
    },
    "kernelspec": {
      "name": "python3",
      "display_name": "Python 3"
    },
    "language_info": {
      "name": "python"
    }
  },
  "cells": [
    {
      "cell_type": "markdown",
      "source": [
        "# 第6章\n",
        "本章では，Fabio Gasparetti氏が公開しているNews Aggregator Data Setを用い，ニュース記事の見出しを「ビジネス」「科学技術」「エンターテイメント」「健康」のカテゴリに分類するタスク（カテゴリ分類）に取り組む．"
      ],
      "metadata": {
        "id": "oJcmcJc-Vj15"
      }
    },
    {
      "cell_type": "code",
      "execution_count": null,
      "metadata": {
        "colab": {
          "base_uri": "https://localhost:8080/"
        },
        "id": "76Mz-FnSVA9O",
        "outputId": "41693778-4946-48fd-cda7-0b027f310c9f"
      },
      "outputs": [
        {
          "output_type": "stream",
          "name": "stdout",
          "text": [
            "Mounted at /content/drive\n"
          ]
        }
      ],
      "source": [
        "from google.colab import drive \n",
        "drive.mount('/content/drive')"
      ]
    },
    {
      "cell_type": "code",
      "source": [
        "path = '/content/drive/MyDrive/nlp100/'"
      ],
      "metadata": {
        "id": "Ger4YW3dVCpQ"
      },
      "execution_count": null,
      "outputs": []
    },
    {
      "cell_type": "code",
      "source": [
        "import warnings\n",
        "\n",
        "warnings.simplefilter('ignore')"
      ],
      "metadata": {
        "id": "CbcP-H6bJpvN"
      },
      "execution_count": null,
      "outputs": []
    },
    {
      "cell_type": "markdown",
      "source": [
        "#50. データの入手・整形\n",
        "News Aggregator Data Setをダウンロードし、以下の要領で学習データ（train.txt），検証データ（valid.txt），評価データ（test.txt）を作成せよ．\n",
        "\n",
        "\n",
        "\n",
        "1.   ダウンロードしたzipファイルを解凍し，readme.txtの説明を読む．\n",
        "2.   情報源（publisher）が\"Reuters\", “Huffington Post\", “Businessweek\", “Contactmusic.com\", “Daily Mail\"の事例（記事）のみを抽出する．\n",
        "3.   抽出された事例をランダムに並び替える．\n",
        "4.   抽出された事例の80%を学習データ，残りの10%ずつを検証データと評価データに分割し，それぞれtrain.txt，valid.txt，test.txtというファイル名で保存する．\n",
        "ファイルには，１行に１事例を書き出すこととし，カテゴリ名と記事見出しのタブ区切り形式とせよ（このファイルは後に問題70で再利用する）．\n",
        "\n",
        "学習データと評価データを作成したら，各カテゴリの事例数を確認せよ．"
      ],
      "metadata": {
        "id": "UCm-pfruV7T3"
      }
    },
    {
      "cell_type": "code",
      "source": [
        "!unzip /content/drive/MyDrive/nlp100/NewsAggregatorDataset.zip"
      ],
      "metadata": {
        "colab": {
          "base_uri": "https://localhost:8080/"
        },
        "id": "Tt8qd_RhaEum",
        "outputId": "0894b9d7-b4f9-4974-d7dc-73169da96f6f"
      },
      "execution_count": null,
      "outputs": [
        {
          "output_type": "stream",
          "name": "stdout",
          "text": [
            "Archive:  /content/drive/MyDrive/nlp100/NewsAggregatorDataset.zip\n",
            "  inflating: 2pageSessions.csv       \n",
            "   creating: __MACOSX/\n",
            "  inflating: __MACOSX/._2pageSessions.csv  \n",
            "  inflating: newsCorpora.csv         \n",
            "  inflating: __MACOSX/._newsCorpora.csv  \n",
            "  inflating: readme.txt              \n",
            "  inflating: __MACOSX/._readme.txt   \n"
          ]
        }
      ]
    },
    {
      "cell_type": "markdown",
      "source": [
        "\n",
        "readmeより\n",
        "```\n",
        "CONTENT\n",
        "=======\n",
        "\n",
        "FILENAME #1: newsCorpora.csv (102.297.000 bytes)\n",
        "DESCRIPTION: News pages\n",
        "FORMAT: ID \\t TITLE \\t URL \\t PUBLISHER \\t CATEGORY \\t STORY \\t HOSTNAME \\t TIMESTAMP\n",
        "```\n",
        "\n",
        "\n",
        "実際の中身\n",
        "\n",
        "```\n",
        "['31287\\tSamsung Galaxy S5', 'Gear 2', 'Gear Fit Get Global Preview\\thttp://en.kioskea.net/news/24714-samsung-galaxy-s5-gear-2-gear-fit-get-global-preview\\tKioskea\\tt\\tdA9GogTJlGEGB9MwV-RlsGpaqj7SM\\ten.kioskea.net\\t1395512976425']\n",
        "['31288\\tPre-order the Samsung Galaxy S 5 at RadioShack Starting March 21\\thttp://www.eleditor.com/hispanicprwirenews/26199/pre-order-the-samsung-galaxy-s-5-at-radioshack-starting-march-21\\tEleditor\\tt\\tdA9GogTJlGEGB9MwV-RlsGpaqj7SM\\twww.eleditor.com\\t1395512976667']\n",
        "['31289\\tGalaxy S5 Sprint', 'T-Mobile and US Cellular Pre-Order Availability Announced\\thttp://global.christianpost.com/news/galaxy-s5-sprint-t-mobile-and-us-cellular-pre-order-availability-announced-116601/\\tChristian Post\\tt\\tdA9GogTJlGEGB9MwV-RlsGpaqj7SM\\tglobal.christianpost.com\\t1395512976927']\n",
        "\n",
        "```\n",
        "\n",
        "\n",
        "\n"
      ],
      "metadata": {
        "id": "HlkgeID8bada"
      }
    },
    {
      "cell_type": "code",
      "source": [
        "# import csv\n",
        "import pandas as pd\n",
        "\n",
        "data = '/content/newsCorpora.csv'\n",
        "\n",
        "publisheres = [\"Reuters\", \"Huffington Post\", \"Businessweek\", \"Contactmusic.com\", \"Daily Mail\"]\n",
        "names = [\"ID\", \"TITLE\", \"URL\", \"PUBLISHER\", \"CATEGORY\", \"STORY\", \"HOSTNAME\", \"TIMESTAMP\"]\n",
        "csv_input = pd.read_csv(data, sep=\"\\t\", header=None, names=names)\n",
        "\n",
        "# https://qiita.com/motoki1990/items/0274d8bcf1a97fe4a869"
      ],
      "metadata": {
        "id": "S2ZvPe6pb-q8"
      },
      "execution_count": null,
      "outputs": []
    },
    {
      "cell_type": "code",
      "source": [
        "csv_input[\"PUBLISHER\"].isin(publisheres)\n",
        "# https://toeming.hatenablog.com/entry/2021/01/31/pandas_list_isin"
      ],
      "metadata": {
        "colab": {
          "base_uri": "https://localhost:8080/"
        },
        "id": "XuNWnXtifeI7",
        "outputId": "35d2a3ea-7669-459b-a9e6-b39cd90ad7fe"
      },
      "execution_count": null,
      "outputs": [
        {
          "output_type": "execute_result",
          "data": {
            "text/plain": [
              "0         False\n",
              "1         False\n",
              "2         False\n",
              "3         False\n",
              "4         False\n",
              "          ...  \n",
              "422414    False\n",
              "422415    False\n",
              "422416    False\n",
              "422417    False\n",
              "422418    False\n",
              "Name: PUBLISHER, Length: 422419, dtype: bool"
            ]
          },
          "metadata": {},
          "execution_count": 22
        }
      ]
    },
    {
      "cell_type": "code",
      "source": [
        "df = csv_input[csv_input[\"PUBLISHER\"].isin(publisheres)]\n",
        "df\n",
        "# ID 210713 がおかしい"
      ],
      "metadata": {
        "colab": {
          "base_uri": "https://localhost:8080/",
          "height": 5426
        },
        "id": "RH4lxhLyeQLv",
        "outputId": "1007de86-2ed1-4682-8a94-6f3957de39a8"
      },
      "execution_count": null,
      "outputs": [
        {
          "output_type": "execute_result",
          "data": {
            "text/plain": [
              "            ID                                              TITLE  \\\n",
              "12          13       Europe reaches crunch point on banking union   \n",
              "13          14  ECB FOCUS-Stronger euro drowns out ECB's messa...   \n",
              "19          20  Euro Anxieties Wane as Bunds Top Treasuries, S...   \n",
              "20          21  Noyer Says Strong Euro Creates Unwarranted Eco...   \n",
              "29          30  REFILE-Bad loan triggers key feature in ECB ba...   \n",
              "...        ...                                                ...   \n",
              "422300  422819     UN: Ebola Could Eventually Infect 20000 People   \n",
              "422301  422820  Ebola toll tops 1550, continues to accelerate ...   \n",
              "422302  422821  UPDATE 1-Ebola toll tops 1550, outbreak accele...   \n",
              "422309  422828  Ebola Cases May Surpass 20000, WHO Says in Upd...   \n",
              "422319  422838  Air France suspends flights to Ebola-hit Sierr...   \n",
              "\n",
              "                                                      URL        PUBLISHER  \\\n",
              "12      http://in.reuters.com/article/2014/03/10/eu-ba...          Reuters   \n",
              "13      http://in.reuters.com/article/2014/03/10/ecb-p...          Reuters   \n",
              "19      http://www.businessweek.com/news/2014-03-10/ge...     Businessweek   \n",
              "20      http://www.businessweek.com/news/2014-03-10/no...     Businessweek   \n",
              "29      http://in.reuters.com/article/2014/03/10/euroz...          Reuters   \n",
              "...                                                   ...              ...   \n",
              "422300  http://www.huffingtonpost.com/2014/08/28/ebola...  Huffington Post   \n",
              "422301  http://in.reuters.com/article/2014/08/28/healt...          Reuters   \n",
              "422302  http://in.reuters.com/article/2014/08/28/healt...          Reuters   \n",
              "422309  http://www.businessweek.com/news/2014-08-28/eb...     Businessweek   \n",
              "422319  http://www.dailymail.co.uk/travel/travel_news/...       Daily Mail   \n",
              "\n",
              "       CATEGORY                          STORY                HOSTNAME  \\\n",
              "12            b  dPhGU51DcrolUIMxbRm0InaHGA2XM          in.reuters.com   \n",
              "13            b  dPhGU51DcrolUIMxbRm0InaHGA2XM          in.reuters.com   \n",
              "19            b  dPhGU51DcrolUIMxbRm0InaHGA2XM    www.businessweek.com   \n",
              "20            b  dPhGU51DcrolUIMxbRm0InaHGA2XM    www.businessweek.com   \n",
              "29            b  dPhGU51DcrolUIMxbRm0InaHGA2XM          in.reuters.com   \n",
              "...         ...                            ...                     ...   \n",
              "422300        m  dhhnSHVoyA7ENBM3boDX_D_-3PV6M  www.huffingtonpost.com   \n",
              "422301        m  dhhnSHVoyA7ENBM3boDX_D_-3PV6M          in.reuters.com   \n",
              "422302        m  dhhnSHVoyA7ENBM3boDX_D_-3PV6M          in.reuters.com   \n",
              "422309        m  dhhnSHVoyA7ENBM3boDX_D_-3PV6M    www.businessweek.com   \n",
              "422319        m  dhhnSHVoyA7ENBM3boDX_D_-3PV6M     www.dailymail.co.uk   \n",
              "\n",
              "            TIMESTAMP  \n",
              "12      1394470501755  \n",
              "13      1394470501948  \n",
              "19      1394470503148  \n",
              "20      1394470503366  \n",
              "29      1394470505070  \n",
              "...               ...  \n",
              "422300  1409228423333  \n",
              "422301  1409228423827  \n",
              "422302  1409228424525  \n",
              "422309  1409228426943  \n",
              "422319  1409228430383  \n",
              "\n",
              "[13340 rows x 8 columns]"
            ],
            "text/html": [
              "\n",
              "  <div id=\"df-edab4235-3775-467e-ad70-45d8c0ef0ff3\">\n",
              "    <div class=\"colab-df-container\">\n",
              "      <div>\n",
              "<style scoped>\n",
              "    .dataframe tbody tr th:only-of-type {\n",
              "        vertical-align: middle;\n",
              "    }\n",
              "\n",
              "    .dataframe tbody tr th {\n",
              "        vertical-align: top;\n",
              "    }\n",
              "\n",
              "    .dataframe thead th {\n",
              "        text-align: right;\n",
              "    }\n",
              "</style>\n",
              "<table border=\"1\" class=\"dataframe\">\n",
              "  <thead>\n",
              "    <tr style=\"text-align: right;\">\n",
              "      <th></th>\n",
              "      <th>ID</th>\n",
              "      <th>TITLE</th>\n",
              "      <th>URL</th>\n",
              "      <th>PUBLISHER</th>\n",
              "      <th>CATEGORY</th>\n",
              "      <th>STORY</th>\n",
              "      <th>HOSTNAME</th>\n",
              "      <th>TIMESTAMP</th>\n",
              "    </tr>\n",
              "  </thead>\n",
              "  <tbody>\n",
              "    <tr>\n",
              "      <th>12</th>\n",
              "      <td>13</td>\n",
              "      <td>Europe reaches crunch point on banking union</td>\n",
              "      <td>http://in.reuters.com/article/2014/03/10/eu-ba...</td>\n",
              "      <td>Reuters</td>\n",
              "      <td>b</td>\n",
              "      <td>dPhGU51DcrolUIMxbRm0InaHGA2XM</td>\n",
              "      <td>in.reuters.com</td>\n",
              "      <td>1394470501755</td>\n",
              "    </tr>\n",
              "    <tr>\n",
              "      <th>13</th>\n",
              "      <td>14</td>\n",
              "      <td>ECB FOCUS-Stronger euro drowns out ECB's messa...</td>\n",
              "      <td>http://in.reuters.com/article/2014/03/10/ecb-p...</td>\n",
              "      <td>Reuters</td>\n",
              "      <td>b</td>\n",
              "      <td>dPhGU51DcrolUIMxbRm0InaHGA2XM</td>\n",
              "      <td>in.reuters.com</td>\n",
              "      <td>1394470501948</td>\n",
              "    </tr>\n",
              "    <tr>\n",
              "      <th>19</th>\n",
              "      <td>20</td>\n",
              "      <td>Euro Anxieties Wane as Bunds Top Treasuries, S...</td>\n",
              "      <td>http://www.businessweek.com/news/2014-03-10/ge...</td>\n",
              "      <td>Businessweek</td>\n",
              "      <td>b</td>\n",
              "      <td>dPhGU51DcrolUIMxbRm0InaHGA2XM</td>\n",
              "      <td>www.businessweek.com</td>\n",
              "      <td>1394470503148</td>\n",
              "    </tr>\n",
              "    <tr>\n",
              "      <th>20</th>\n",
              "      <td>21</td>\n",
              "      <td>Noyer Says Strong Euro Creates Unwarranted Eco...</td>\n",
              "      <td>http://www.businessweek.com/news/2014-03-10/no...</td>\n",
              "      <td>Businessweek</td>\n",
              "      <td>b</td>\n",
              "      <td>dPhGU51DcrolUIMxbRm0InaHGA2XM</td>\n",
              "      <td>www.businessweek.com</td>\n",
              "      <td>1394470503366</td>\n",
              "    </tr>\n",
              "    <tr>\n",
              "      <th>29</th>\n",
              "      <td>30</td>\n",
              "      <td>REFILE-Bad loan triggers key feature in ECB ba...</td>\n",
              "      <td>http://in.reuters.com/article/2014/03/10/euroz...</td>\n",
              "      <td>Reuters</td>\n",
              "      <td>b</td>\n",
              "      <td>dPhGU51DcrolUIMxbRm0InaHGA2XM</td>\n",
              "      <td>in.reuters.com</td>\n",
              "      <td>1394470505070</td>\n",
              "    </tr>\n",
              "    <tr>\n",
              "      <th>...</th>\n",
              "      <td>...</td>\n",
              "      <td>...</td>\n",
              "      <td>...</td>\n",
              "      <td>...</td>\n",
              "      <td>...</td>\n",
              "      <td>...</td>\n",
              "      <td>...</td>\n",
              "      <td>...</td>\n",
              "    </tr>\n",
              "    <tr>\n",
              "      <th>422300</th>\n",
              "      <td>422819</td>\n",
              "      <td>UN: Ebola Could Eventually Infect 20000 People</td>\n",
              "      <td>http://www.huffingtonpost.com/2014/08/28/ebola...</td>\n",
              "      <td>Huffington Post</td>\n",
              "      <td>m</td>\n",
              "      <td>dhhnSHVoyA7ENBM3boDX_D_-3PV6M</td>\n",
              "      <td>www.huffingtonpost.com</td>\n",
              "      <td>1409228423333</td>\n",
              "    </tr>\n",
              "    <tr>\n",
              "      <th>422301</th>\n",
              "      <td>422820</td>\n",
              "      <td>Ebola toll tops 1550, continues to accelerate ...</td>\n",
              "      <td>http://in.reuters.com/article/2014/08/28/healt...</td>\n",
              "      <td>Reuters</td>\n",
              "      <td>m</td>\n",
              "      <td>dhhnSHVoyA7ENBM3boDX_D_-3PV6M</td>\n",
              "      <td>in.reuters.com</td>\n",
              "      <td>1409228423827</td>\n",
              "    </tr>\n",
              "    <tr>\n",
              "      <th>422302</th>\n",
              "      <td>422821</td>\n",
              "      <td>UPDATE 1-Ebola toll tops 1550, outbreak accele...</td>\n",
              "      <td>http://in.reuters.com/article/2014/08/28/healt...</td>\n",
              "      <td>Reuters</td>\n",
              "      <td>m</td>\n",
              "      <td>dhhnSHVoyA7ENBM3boDX_D_-3PV6M</td>\n",
              "      <td>in.reuters.com</td>\n",
              "      <td>1409228424525</td>\n",
              "    </tr>\n",
              "    <tr>\n",
              "      <th>422309</th>\n",
              "      <td>422828</td>\n",
              "      <td>Ebola Cases May Surpass 20000, WHO Says in Upd...</td>\n",
              "      <td>http://www.businessweek.com/news/2014-08-28/eb...</td>\n",
              "      <td>Businessweek</td>\n",
              "      <td>m</td>\n",
              "      <td>dhhnSHVoyA7ENBM3boDX_D_-3PV6M</td>\n",
              "      <td>www.businessweek.com</td>\n",
              "      <td>1409228426943</td>\n",
              "    </tr>\n",
              "    <tr>\n",
              "      <th>422319</th>\n",
              "      <td>422838</td>\n",
              "      <td>Air France suspends flights to Ebola-hit Sierr...</td>\n",
              "      <td>http://www.dailymail.co.uk/travel/travel_news/...</td>\n",
              "      <td>Daily Mail</td>\n",
              "      <td>m</td>\n",
              "      <td>dhhnSHVoyA7ENBM3boDX_D_-3PV6M</td>\n",
              "      <td>www.dailymail.co.uk</td>\n",
              "      <td>1409228430383</td>\n",
              "    </tr>\n",
              "  </tbody>\n",
              "</table>\n",
              "<p>13340 rows × 8 columns</p>\n",
              "</div>\n",
              "      <button class=\"colab-df-convert\" onclick=\"convertToInteractive('df-edab4235-3775-467e-ad70-45d8c0ef0ff3')\"\n",
              "              title=\"Convert this dataframe to an interactive table.\"\n",
              "              style=\"display:none;\">\n",
              "        \n",
              "  <svg xmlns=\"http://www.w3.org/2000/svg\" height=\"24px\"viewBox=\"0 0 24 24\"\n",
              "       width=\"24px\">\n",
              "    <path d=\"M0 0h24v24H0V0z\" fill=\"none\"/>\n",
              "    <path d=\"M18.56 5.44l.94 2.06.94-2.06 2.06-.94-2.06-.94-.94-2.06-.94 2.06-2.06.94zm-11 1L8.5 8.5l.94-2.06 2.06-.94-2.06-.94L8.5 2.5l-.94 2.06-2.06.94zm10 10l.94 2.06.94-2.06 2.06-.94-2.06-.94-.94-2.06-.94 2.06-2.06.94z\"/><path d=\"M17.41 7.96l-1.37-1.37c-.4-.4-.92-.59-1.43-.59-.52 0-1.04.2-1.43.59L10.3 9.45l-7.72 7.72c-.78.78-.78 2.05 0 2.83L4 21.41c.39.39.9.59 1.41.59.51 0 1.02-.2 1.41-.59l7.78-7.78 2.81-2.81c.8-.78.8-2.07 0-2.86zM5.41 20L4 18.59l7.72-7.72 1.47 1.35L5.41 20z\"/>\n",
              "  </svg>\n",
              "      </button>\n",
              "      \n",
              "  <style>\n",
              "    .colab-df-container {\n",
              "      display:flex;\n",
              "      flex-wrap:wrap;\n",
              "      gap: 12px;\n",
              "    }\n",
              "\n",
              "    .colab-df-convert {\n",
              "      background-color: #E8F0FE;\n",
              "      border: none;\n",
              "      border-radius: 50%;\n",
              "      cursor: pointer;\n",
              "      display: none;\n",
              "      fill: #1967D2;\n",
              "      height: 32px;\n",
              "      padding: 0 0 0 0;\n",
              "      width: 32px;\n",
              "    }\n",
              "\n",
              "    .colab-df-convert:hover {\n",
              "      background-color: #E2EBFA;\n",
              "      box-shadow: 0px 1px 2px rgba(60, 64, 67, 0.3), 0px 1px 3px 1px rgba(60, 64, 67, 0.15);\n",
              "      fill: #174EA6;\n",
              "    }\n",
              "\n",
              "    [theme=dark] .colab-df-convert {\n",
              "      background-color: #3B4455;\n",
              "      fill: #D2E3FC;\n",
              "    }\n",
              "\n",
              "    [theme=dark] .colab-df-convert:hover {\n",
              "      background-color: #434B5C;\n",
              "      box-shadow: 0px 1px 3px 1px rgba(0, 0, 0, 0.15);\n",
              "      filter: drop-shadow(0px 1px 2px rgba(0, 0, 0, 0.3));\n",
              "      fill: #FFFFFF;\n",
              "    }\n",
              "  </style>\n",
              "\n",
              "      <script>\n",
              "        const buttonEl =\n",
              "          document.querySelector('#df-edab4235-3775-467e-ad70-45d8c0ef0ff3 button.colab-df-convert');\n",
              "        buttonEl.style.display =\n",
              "          google.colab.kernel.accessAllowed ? 'block' : 'none';\n",
              "\n",
              "        async function convertToInteractive(key) {\n",
              "          const element = document.querySelector('#df-edab4235-3775-467e-ad70-45d8c0ef0ff3');\n",
              "          const dataTable =\n",
              "            await google.colab.kernel.invokeFunction('convertToInteractive',\n",
              "                                                     [key], {});\n",
              "          if (!dataTable) return;\n",
              "\n",
              "          const docLinkHtml = 'Like what you see? Visit the ' +\n",
              "            '<a target=\"_blank\" href=https://colab.research.google.com/notebooks/data_table.ipynb>data table notebook</a>'\n",
              "            + ' to learn more about interactive tables.';\n",
              "          element.innerHTML = '';\n",
              "          dataTable['output_type'] = 'display_data';\n",
              "          await google.colab.output.renderOutput(dataTable, element);\n",
              "          const docLink = document.createElement('div');\n",
              "          docLink.innerHTML = docLinkHtml;\n",
              "          element.appendChild(docLink);\n",
              "        }\n",
              "      </script>\n",
              "    </div>\n",
              "  </div>\n",
              "  "
            ]
          },
          "metadata": {},
          "execution_count": 25
        }
      ]
    },
    {
      "cell_type": "code",
      "source": [
        "df = df.sample(frac=1)\n",
        "df"
      ],
      "metadata": {
        "colab": {
          "base_uri": "https://localhost:8080/",
          "height": 1000
        },
        "id": "_7pQldvTgQ0m",
        "outputId": "e3063fbb-1a0a-42c6-acda-5e727a9a29ff"
      },
      "execution_count": null,
      "outputs": [
        {
          "output_type": "execute_result",
          "data": {
            "text/plain": [
              "            ID                                              TITLE  \\\n",
              "116376  116712  UPDATE 2-Zebra Tech to buy Motorola Solutions'...   \n",
              "136197  136533  GM Vetoed Better Ignition Part to Save Money, ...   \n",
              "231929  232375  Kim Kardashian and Kanye West hit shops in mat...   \n",
              "246733  247179  Lana Del Rey Stuns Kim Kardashian At Pre-weddi...   \n",
              "86061    86137  Taylor Swift graces ACM Awards red carpet in s...   \n",
              "...        ...                                                ...   \n",
              "74859    74935  Legendary surfboard and sailboat innovator Hob...   \n",
              "347846  348306  VC Tim Draper Wins Entire Cache in Bitcoin Auc...   \n",
              "182244  182580  Emma Stone - Emma Stone slams weight loss rumours   \n",
              "200251  200687  Prospects of ECB easing drive Spain, Italy yie...   \n",
              "9683      9684  RPT-In China, family members ramp up pressure ...   \n",
              "\n",
              "                                                      URL         PUBLISHER  \\\n",
              "116376  http://www.reuters.com/article/2014/04/15/moto...           Reuters   \n",
              "136197  http://www.businessweek.com/news/2014-04-16/gm...      Businessweek   \n",
              "231929  http://www.dailymail.co.uk/tvshowbiz/article-2...        Daily Mail   \n",
              "246733  http://www.contactmusic.com/story/lana-del-rey...  Contactmusic.com   \n",
              "86061   http://www.dailymail.co.uk/tvshowbiz/article-2...        Daily Mail   \n",
              "...                                                   ...               ...   \n",
              "74859   http://www.dailymail.co.uk/news/article-259307...        Daily Mail   \n",
              "347846  http://www.businessweek.com/news/2014-07-02/vc...      Businessweek   \n",
              "182244  http://www.contactmusic.com/story/emma-stone-s...  Contactmusic.com   \n",
              "200251  http://in.reuters.com/article/2014/05/09/marke...           Reuters   \n",
              "9683    http://in.reuters.com/article/2014/03/13/malay...           Reuters   \n",
              "\n",
              "       CATEGORY                          STORY              HOSTNAME  \\\n",
              "116376        b  dM-im-JNw4JjmeMinnYwPfFTvrrBM       www.reuters.com   \n",
              "136197        b  dgi3Hd0asMvcxgMXss3LYQnCUbkBM  www.businessweek.com   \n",
              "231929        e  diO69GdJ_ej-dNMjfnoQqoEIxrsJM   www.dailymail.co.uk   \n",
              "246733        e  d3C-5RtPIEBKmMMny1vco8N9-aINM  www.contactmusic.com   \n",
              "86061         e  djCXNNqdyCrfsVMVQwAfgK95Jez2M   www.dailymail.co.uk   \n",
              "...         ...                            ...                   ...   \n",
              "74859         e  dJrHjUx_hFNzOXMQ_tOqFKQWYAGwM   www.dailymail.co.uk   \n",
              "347846        b  dbKBgU3kGnXHoBMuetIxzPyHmLcPM  www.businessweek.com   \n",
              "182244        e  dItMEUOKQLvHqYMA49Qe4YpGkfPGM  www.contactmusic.com   \n",
              "200251        b  dibPrncWSnfQ6yMpAIzIKB9Std9CM        in.reuters.com   \n",
              "9683          b  dikG1LyOQXNhApMiVytLzRc437z0M        in.reuters.com   \n",
              "\n",
              "            TIMESTAMP  \n",
              "116376  1397575878072  \n",
              "136197  1397887448202  \n",
              "231929  1400695941766  \n",
              "246733  1400937229141  \n",
              "86061   1396880337130  \n",
              "...               ...  \n",
              "74859   1396352695972  \n",
              "347846  1404373322055  \n",
              "182244  1399380918176  \n",
              "200251  1399689577904  \n",
              "9683    1394713283313  \n",
              "\n",
              "[13340 rows x 8 columns]"
            ],
            "text/html": [
              "\n",
              "  <div id=\"df-a5d18dbd-2c1f-4aee-89f1-0b15b7674b15\">\n",
              "    <div class=\"colab-df-container\">\n",
              "      <div>\n",
              "<style scoped>\n",
              "    .dataframe tbody tr th:only-of-type {\n",
              "        vertical-align: middle;\n",
              "    }\n",
              "\n",
              "    .dataframe tbody tr th {\n",
              "        vertical-align: top;\n",
              "    }\n",
              "\n",
              "    .dataframe thead th {\n",
              "        text-align: right;\n",
              "    }\n",
              "</style>\n",
              "<table border=\"1\" class=\"dataframe\">\n",
              "  <thead>\n",
              "    <tr style=\"text-align: right;\">\n",
              "      <th></th>\n",
              "      <th>ID</th>\n",
              "      <th>TITLE</th>\n",
              "      <th>URL</th>\n",
              "      <th>PUBLISHER</th>\n",
              "      <th>CATEGORY</th>\n",
              "      <th>STORY</th>\n",
              "      <th>HOSTNAME</th>\n",
              "      <th>TIMESTAMP</th>\n",
              "    </tr>\n",
              "  </thead>\n",
              "  <tbody>\n",
              "    <tr>\n",
              "      <th>116376</th>\n",
              "      <td>116712</td>\n",
              "      <td>UPDATE 2-Zebra Tech to buy Motorola Solutions'...</td>\n",
              "      <td>http://www.reuters.com/article/2014/04/15/moto...</td>\n",
              "      <td>Reuters</td>\n",
              "      <td>b</td>\n",
              "      <td>dM-im-JNw4JjmeMinnYwPfFTvrrBM</td>\n",
              "      <td>www.reuters.com</td>\n",
              "      <td>1397575878072</td>\n",
              "    </tr>\n",
              "    <tr>\n",
              "      <th>136197</th>\n",
              "      <td>136533</td>\n",
              "      <td>GM Vetoed Better Ignition Part to Save Money, ...</td>\n",
              "      <td>http://www.businessweek.com/news/2014-04-16/gm...</td>\n",
              "      <td>Businessweek</td>\n",
              "      <td>b</td>\n",
              "      <td>dgi3Hd0asMvcxgMXss3LYQnCUbkBM</td>\n",
              "      <td>www.businessweek.com</td>\n",
              "      <td>1397887448202</td>\n",
              "    </tr>\n",
              "    <tr>\n",
              "      <th>231929</th>\n",
              "      <td>232375</td>\n",
              "      <td>Kim Kardashian and Kanye West hit shops in mat...</td>\n",
              "      <td>http://www.dailymail.co.uk/tvshowbiz/article-2...</td>\n",
              "      <td>Daily Mail</td>\n",
              "      <td>e</td>\n",
              "      <td>diO69GdJ_ej-dNMjfnoQqoEIxrsJM</td>\n",
              "      <td>www.dailymail.co.uk</td>\n",
              "      <td>1400695941766</td>\n",
              "    </tr>\n",
              "    <tr>\n",
              "      <th>246733</th>\n",
              "      <td>247179</td>\n",
              "      <td>Lana Del Rey Stuns Kim Kardashian At Pre-weddi...</td>\n",
              "      <td>http://www.contactmusic.com/story/lana-del-rey...</td>\n",
              "      <td>Contactmusic.com</td>\n",
              "      <td>e</td>\n",
              "      <td>d3C-5RtPIEBKmMMny1vco8N9-aINM</td>\n",
              "      <td>www.contactmusic.com</td>\n",
              "      <td>1400937229141</td>\n",
              "    </tr>\n",
              "    <tr>\n",
              "      <th>86061</th>\n",
              "      <td>86137</td>\n",
              "      <td>Taylor Swift graces ACM Awards red carpet in s...</td>\n",
              "      <td>http://www.dailymail.co.uk/tvshowbiz/article-2...</td>\n",
              "      <td>Daily Mail</td>\n",
              "      <td>e</td>\n",
              "      <td>djCXNNqdyCrfsVMVQwAfgK95Jez2M</td>\n",
              "      <td>www.dailymail.co.uk</td>\n",
              "      <td>1396880337130</td>\n",
              "    </tr>\n",
              "    <tr>\n",
              "      <th>...</th>\n",
              "      <td>...</td>\n",
              "      <td>...</td>\n",
              "      <td>...</td>\n",
              "      <td>...</td>\n",
              "      <td>...</td>\n",
              "      <td>...</td>\n",
              "      <td>...</td>\n",
              "      <td>...</td>\n",
              "    </tr>\n",
              "    <tr>\n",
              "      <th>74859</th>\n",
              "      <td>74935</td>\n",
              "      <td>Legendary surfboard and sailboat innovator Hob...</td>\n",
              "      <td>http://www.dailymail.co.uk/news/article-259307...</td>\n",
              "      <td>Daily Mail</td>\n",
              "      <td>e</td>\n",
              "      <td>dJrHjUx_hFNzOXMQ_tOqFKQWYAGwM</td>\n",
              "      <td>www.dailymail.co.uk</td>\n",
              "      <td>1396352695972</td>\n",
              "    </tr>\n",
              "    <tr>\n",
              "      <th>347846</th>\n",
              "      <td>348306</td>\n",
              "      <td>VC Tim Draper Wins Entire Cache in Bitcoin Auc...</td>\n",
              "      <td>http://www.businessweek.com/news/2014-07-02/vc...</td>\n",
              "      <td>Businessweek</td>\n",
              "      <td>b</td>\n",
              "      <td>dbKBgU3kGnXHoBMuetIxzPyHmLcPM</td>\n",
              "      <td>www.businessweek.com</td>\n",
              "      <td>1404373322055</td>\n",
              "    </tr>\n",
              "    <tr>\n",
              "      <th>182244</th>\n",
              "      <td>182580</td>\n",
              "      <td>Emma Stone - Emma Stone slams weight loss rumours</td>\n",
              "      <td>http://www.contactmusic.com/story/emma-stone-s...</td>\n",
              "      <td>Contactmusic.com</td>\n",
              "      <td>e</td>\n",
              "      <td>dItMEUOKQLvHqYMA49Qe4YpGkfPGM</td>\n",
              "      <td>www.contactmusic.com</td>\n",
              "      <td>1399380918176</td>\n",
              "    </tr>\n",
              "    <tr>\n",
              "      <th>200251</th>\n",
              "      <td>200687</td>\n",
              "      <td>Prospects of ECB easing drive Spain, Italy yie...</td>\n",
              "      <td>http://in.reuters.com/article/2014/05/09/marke...</td>\n",
              "      <td>Reuters</td>\n",
              "      <td>b</td>\n",
              "      <td>dibPrncWSnfQ6yMpAIzIKB9Std9CM</td>\n",
              "      <td>in.reuters.com</td>\n",
              "      <td>1399689577904</td>\n",
              "    </tr>\n",
              "    <tr>\n",
              "      <th>9683</th>\n",
              "      <td>9684</td>\n",
              "      <td>RPT-In China, family members ramp up pressure ...</td>\n",
              "      <td>http://in.reuters.com/article/2014/03/13/malay...</td>\n",
              "      <td>Reuters</td>\n",
              "      <td>b</td>\n",
              "      <td>dikG1LyOQXNhApMiVytLzRc437z0M</td>\n",
              "      <td>in.reuters.com</td>\n",
              "      <td>1394713283313</td>\n",
              "    </tr>\n",
              "  </tbody>\n",
              "</table>\n",
              "<p>13340 rows × 8 columns</p>\n",
              "</div>\n",
              "      <button class=\"colab-df-convert\" onclick=\"convertToInteractive('df-a5d18dbd-2c1f-4aee-89f1-0b15b7674b15')\"\n",
              "              title=\"Convert this dataframe to an interactive table.\"\n",
              "              style=\"display:none;\">\n",
              "        \n",
              "  <svg xmlns=\"http://www.w3.org/2000/svg\" height=\"24px\"viewBox=\"0 0 24 24\"\n",
              "       width=\"24px\">\n",
              "    <path d=\"M0 0h24v24H0V0z\" fill=\"none\"/>\n",
              "    <path d=\"M18.56 5.44l.94 2.06.94-2.06 2.06-.94-2.06-.94-.94-2.06-.94 2.06-2.06.94zm-11 1L8.5 8.5l.94-2.06 2.06-.94-2.06-.94L8.5 2.5l-.94 2.06-2.06.94zm10 10l.94 2.06.94-2.06 2.06-.94-2.06-.94-.94-2.06-.94 2.06-2.06.94z\"/><path d=\"M17.41 7.96l-1.37-1.37c-.4-.4-.92-.59-1.43-.59-.52 0-1.04.2-1.43.59L10.3 9.45l-7.72 7.72c-.78.78-.78 2.05 0 2.83L4 21.41c.39.39.9.59 1.41.59.51 0 1.02-.2 1.41-.59l7.78-7.78 2.81-2.81c.8-.78.8-2.07 0-2.86zM5.41 20L4 18.59l7.72-7.72 1.47 1.35L5.41 20z\"/>\n",
              "  </svg>\n",
              "      </button>\n",
              "      \n",
              "  <style>\n",
              "    .colab-df-container {\n",
              "      display:flex;\n",
              "      flex-wrap:wrap;\n",
              "      gap: 12px;\n",
              "    }\n",
              "\n",
              "    .colab-df-convert {\n",
              "      background-color: #E8F0FE;\n",
              "      border: none;\n",
              "      border-radius: 50%;\n",
              "      cursor: pointer;\n",
              "      display: none;\n",
              "      fill: #1967D2;\n",
              "      height: 32px;\n",
              "      padding: 0 0 0 0;\n",
              "      width: 32px;\n",
              "    }\n",
              "\n",
              "    .colab-df-convert:hover {\n",
              "      background-color: #E2EBFA;\n",
              "      box-shadow: 0px 1px 2px rgba(60, 64, 67, 0.3), 0px 1px 3px 1px rgba(60, 64, 67, 0.15);\n",
              "      fill: #174EA6;\n",
              "    }\n",
              "\n",
              "    [theme=dark] .colab-df-convert {\n",
              "      background-color: #3B4455;\n",
              "      fill: #D2E3FC;\n",
              "    }\n",
              "\n",
              "    [theme=dark] .colab-df-convert:hover {\n",
              "      background-color: #434B5C;\n",
              "      box-shadow: 0px 1px 3px 1px rgba(0, 0, 0, 0.15);\n",
              "      filter: drop-shadow(0px 1px 2px rgba(0, 0, 0, 0.3));\n",
              "      fill: #FFFFFF;\n",
              "    }\n",
              "  </style>\n",
              "\n",
              "      <script>\n",
              "        const buttonEl =\n",
              "          document.querySelector('#df-a5d18dbd-2c1f-4aee-89f1-0b15b7674b15 button.colab-df-convert');\n",
              "        buttonEl.style.display =\n",
              "          google.colab.kernel.accessAllowed ? 'block' : 'none';\n",
              "\n",
              "        async function convertToInteractive(key) {\n",
              "          const element = document.querySelector('#df-a5d18dbd-2c1f-4aee-89f1-0b15b7674b15');\n",
              "          const dataTable =\n",
              "            await google.colab.kernel.invokeFunction('convertToInteractive',\n",
              "                                                     [key], {});\n",
              "          if (!dataTable) return;\n",
              "\n",
              "          const docLinkHtml = 'Like what you see? Visit the ' +\n",
              "            '<a target=\"_blank\" href=https://colab.research.google.com/notebooks/data_table.ipynb>data table notebook</a>'\n",
              "            + ' to learn more about interactive tables.';\n",
              "          element.innerHTML = '';\n",
              "          dataTable['output_type'] = 'display_data';\n",
              "          await google.colab.output.renderOutput(dataTable, element);\n",
              "          const docLink = document.createElement('div');\n",
              "          docLink.innerHTML = docLinkHtml;\n",
              "          element.appendChild(docLink);\n",
              "        }\n",
              "      </script>\n",
              "    </div>\n",
              "  </div>\n",
              "  "
            ]
          },
          "metadata": {},
          "execution_count": 26
        }
      ]
    },
    {
      "cell_type": "code",
      "source": [
        "from sklearn.model_selection import train_test_split\n",
        "\n",
        "# 訓練：検証：評価=8:1:1に分割\n",
        "x_train, x_valtest = train_test_split(df.values, test_size=0.2, random_state=0)\n",
        "x_valid, x_test = train_test_split(x_valtest, test_size=0.5, random_state=0)\n",
        "\n",
        "print(\"train:\", len(x_train))\n",
        "print(\"valid:\", len(x_valid))\n",
        "print(\"test :\", len(x_test))"
      ],
      "metadata": {
        "colab": {
          "base_uri": "https://localhost:8080/"
        },
        "id": "eKNF2Iv7WIaK",
        "outputId": "da1d395b-2d4f-4586-ec62-052c144d13dc"
      },
      "execution_count": null,
      "outputs": [
        {
          "output_type": "stream",
          "name": "stdout",
          "text": [
            "train: 10672\n",
            "valid: 1334\n",
            "test : 1334\n"
          ]
        }
      ]
    },
    {
      "cell_type": "code",
      "source": [
        "# カテゴリ名と記事見出しをタブ区切りでファイルに書き込み\n",
        "# FORMAT: ID \\t TITLE \\t URL \\t PUBLISHER \\t CATEGORY \\t STORY \\t HOSTNAME \\t TIMESTAMP\n",
        "\n",
        "def write_file(fname, x_data):\n",
        "    with open(fname, \"w\")as fout:\n",
        "        for fact in x_data:\n",
        "            # fact[1] : 見出し\n",
        "            # fact[4] : カテゴリ\n",
        "            fout.write(fact[4] + '\\t' + fact[1] + '\\n')\n",
        "            \n",
        "write_file(\"train.txt\", x_train)\n",
        "write_file(\"valid.txt\", x_valid)\n",
        "write_file(\"test.txt\", x_test)"
      ],
      "metadata": {
        "id": "L_eHAxNKhsg9"
      },
      "execution_count": null,
      "outputs": []
    },
    {
      "cell_type": "code",
      "source": [
        "# 学習データと評価データの各カテゴリの事例数を確認\n",
        "# News category (b = business, t = science and technology, e = entertainment, m = health)\n",
        "import collections \n",
        "\n",
        "def count_category(fname):\n",
        "    categorise = []\n",
        "    with open(fname, \"r\")as fin:\n",
        "        for line in fin:\n",
        "            category = line.split('\\t')[0]\n",
        "            categorise.append(category)\n",
        "        return collections.Counter(categorise)\n",
        "\n",
        "print(\"train:\", count_category(\"train.txt\"))\n",
        "print(\"test :\", count_category(\"test.txt\"))"
      ],
      "metadata": {
        "colab": {
          "base_uri": "https://localhost:8080/"
        },
        "id": "JJFEMwG3jrR_",
        "outputId": "bca7d857-05ee-41a4-9892-3626ef58cd5d"
      },
      "execution_count": null,
      "outputs": [
        {
          "output_type": "stream",
          "name": "stdout",
          "text": [
            "train: Counter({'b': 4503, 'e': 4193, 't': 1220, 'm': 756, '210714': 1, '210715': 1, '210716': 1, '210717': 1, '210718': 1, '210719': 1, '210720': 1, '210721': 1, '210722': 1, '210723': 1})\n",
            "test : Counter({'b': 575, 'e': 532, 't': 150, 'm': 77})\n"
          ]
        }
      ]
    },
    {
      "cell_type": "markdown",
      "source": [
        "#51. 特徴量抽出\n",
        "学習データ，検証データ，評価データから特徴量を抽出し，それぞれtrain.feature.txt，valid.feature.txt，test.feature.txtというファイル名で保存せよ． なお，カテゴリ分類に有用そうな特徴量は各自で自由に設計せよ．記事の見出しを単語列に変換したものが最低限のベースラインとなるであろう．\n",
        "\n"
      ],
      "metadata": {
        "id": "CDr6oJHlWIvO"
      }
    },
    {
      "cell_type": "code",
      "source": [
        "!pip install nltk"
      ],
      "metadata": {
        "colab": {
          "base_uri": "https://localhost:8080/"
        },
        "id": "240PHl1utqm4",
        "outputId": "436b7fe6-b4d5-49e3-8d05-c82e03656a44"
      },
      "execution_count": null,
      "outputs": [
        {
          "output_type": "stream",
          "name": "stdout",
          "text": [
            "Looking in indexes: https://pypi.org/simple, https://us-python.pkg.dev/colab-wheels/public/simple/\n",
            "Requirement already satisfied: nltk in /usr/local/lib/python3.8/dist-packages (3.7)\n",
            "Requirement already satisfied: joblib in /usr/local/lib/python3.8/dist-packages (from nltk) (1.2.0)\n",
            "Requirement already satisfied: tqdm in /usr/local/lib/python3.8/dist-packages (from nltk) (4.64.1)\n",
            "Requirement already satisfied: click in /usr/local/lib/python3.8/dist-packages (from nltk) (7.1.2)\n",
            "Requirement already satisfied: regex>=2021.8.3 in /usr/local/lib/python3.8/dist-packages (from nltk) (2022.6.2)\n"
          ]
        }
      ]
    },
    {
      "cell_type": "code",
      "source": [
        "import nltk\n",
        "nltk.download('punkt')"
      ],
      "metadata": {
        "colab": {
          "base_uri": "https://localhost:8080/"
        },
        "id": "d-6Dl2Y-uNzj",
        "outputId": "cca373a6-c528-49b1-a9e4-78735d33ffba"
      },
      "execution_count": null,
      "outputs": [
        {
          "output_type": "stream",
          "name": "stderr",
          "text": [
            "[nltk_data] Downloading package punkt to /root/nltk_data...\n",
            "[nltk_data]   Unzipping tokenizers/punkt.zip.\n"
          ]
        },
        {
          "output_type": "execute_result",
          "data": {
            "text/plain": [
              "True"
            ]
          },
          "metadata": {},
          "execution_count": 70
        }
      ]
    },
    {
      "cell_type": "code",
      "source": [
        "from sklearn.feature_extraction.text import TfidfVectorizer\n",
        "import random\n",
        "import nltk\n",
        "\n",
        "def write_feature(infname, outfname):\n",
        "    with open(infname, \"r\") as fin, open(outfname, \"w\") as fout1, open(outfname.replace(\"feature.txt\", \"label.txt\"), \"w\") as fout2:\n",
        "        for line in fin:\n",
        "            try:\n",
        "                category, title = line.split('\\t')\n",
        "                fout1.write(\" \".join(nltk.word_tokenize(title))+'\\n')\n",
        "                fout2.write(category+'\\n')\n",
        "            except:\n",
        "                continue\n",
        "\n",
        "write_feature(\"train.txt\", \"train.feature.txt\")\n",
        "write_feature(\"valid.txt\", \"valid.feature.txt\")\n",
        "write_feature(\"test.txt\", \"test.feature.txt\")\n",
        "\n",
        "\n",
        "with open(\"train.feature.txt\", \"r\") as f1, open(\"valid.feature.txt\", \"r\") as f2, open(\"test.feature.txt\", \"r\") as f3:\n",
        "    vectorizer = TfidfVectorizer()\n",
        "    x_train = vectorizer.fit_transform(f1.read().split(\"\\n\")[:-1])\n",
        "    x_valid = vectorizer.transform(f2.read().split(\"\\n\")[:-1])\n",
        "    x_test = vectorizer.transform(f3.read().split(\"\\n\")[:-1])\n",
        "\n",
        "with open(\"train.label.txt\", \"r\") as f1, open(\"valid.label.txt\", \"r\") as f2, open(\"test.label.txt\", \"r\") as f3:\n",
        "    y_train = f1.read().split(\"\\n\")[:-1]\n",
        "    y_valid = f2.read().split(\"\\n\")[:-1]\n",
        "    y_test = f3.read().split(\"\\n\")[:-1]"
      ],
      "metadata": {
        "id": "DFFKS0PrWJfo"
      },
      "execution_count": null,
      "outputs": []
    },
    {
      "cell_type": "markdown",
      "source": [
        "#52. 学習\n",
        "51で構築した学習データを用いて，ロジスティック回帰モデルを学習せよ．"
      ],
      "metadata": {
        "id": "XkAKrM9FWPYv"
      }
    },
    {
      "cell_type": "code",
      "source": [
        "from sklearn.linear_model import LogisticRegression\n",
        "\n",
        "model = LogisticRegression() \n",
        "model.fit(x_train, y_train)"
      ],
      "metadata": {
        "colab": {
          "base_uri": "https://localhost:8080/"
        },
        "id": "YJzkI5AZWRqw",
        "outputId": "598e632d-0775-4c07-c01a-3e0e4b3f4545"
      },
      "execution_count": null,
      "outputs": [
        {
          "output_type": "stream",
          "name": "stderr",
          "text": [
            "/usr/local/lib/python3.8/dist-packages/sklearn/linear_model/_logistic.py:814: ConvergenceWarning: lbfgs failed to converge (status=1):\n",
            "STOP: TOTAL NO. of ITERATIONS REACHED LIMIT.\n",
            "\n",
            "Increase the number of iterations (max_iter) or scale the data as shown in:\n",
            "    https://scikit-learn.org/stable/modules/preprocessing.html\n",
            "Please also refer to the documentation for alternative solver options:\n",
            "    https://scikit-learn.org/stable/modules/linear_model.html#logistic-regression\n",
            "  n_iter_i = _check_optimize_result(\n"
          ]
        },
        {
          "output_type": "execute_result",
          "data": {
            "text/plain": [
              "LogisticRegression()"
            ]
          },
          "metadata": {},
          "execution_count": 89
        }
      ]
    },
    {
      "cell_type": "markdown",
      "source": [
        "#53. 予測\n",
        "52で学習したロジスティック回帰モデルを用い，与えられた記事見出しからカテゴリとその予測確率を計算するプログラムを実装せよ．"
      ],
      "metadata": {
        "id": "APL0sU9vWSA8"
      }
    },
    {
      "cell_type": "code",
      "source": [
        "y_pred_train = model.predict(x_train)\n",
        "y_pred_valid = model.predict(x_valid)\n",
        "y_pred_test = model.predict(x_test)\n",
        "\n",
        "print(\"valid に対する予測値:\", y_pred_valid)\n",
        "print(\"test  に対する予測値:\", y_pred_test)"
      ],
      "metadata": {
        "colab": {
          "base_uri": "https://localhost:8080/"
        },
        "id": "v5fGgrYAWSiB",
        "outputId": "1530a67a-43c0-4001-85a1-4526a57c4bab"
      },
      "execution_count": null,
      "outputs": [
        {
          "output_type": "stream",
          "name": "stdout",
          "text": [
            "valid に対する予測値: ['b' 'e' 't' ... 't' 'b' 'e']\n",
            "test  に対する予測値: ['m' 't' 'e' ... 'b' 'b' 'e']\n"
          ]
        }
      ]
    },
    {
      "cell_type": "markdown",
      "source": [
        "#54. 正解率の計測\n",
        "52で学習したロジスティック回帰モデルの正解率を，学習データおよび評価データ上で計測せよ．"
      ],
      "metadata": {
        "id": "Ede5_Ha5WS01"
      }
    },
    {
      "cell_type": "code",
      "source": [
        "from sklearn.metrics import confusion_matrix, accuracy_score, precision_score, recall_score, f1_score, classification_report\n",
        "\n",
        "print('train に対する正解率：', accuracy_score(y_true=y_train, y_pred=y_pred_train))\n",
        "print('test  に対する正解率：', accuracy_score(y_true=y_test, y_pred=y_pred_test))"
      ],
      "metadata": {
        "colab": {
          "base_uri": "https://localhost:8080/"
        },
        "id": "4cVHIMTGWTUd",
        "outputId": "3c6eedfb-343f-423c-a32b-e007cf6865a1"
      },
      "execution_count": null,
      "outputs": [
        {
          "output_type": "stream",
          "name": "stdout",
          "text": [
            "train に対する正解率： 0.9413418290854573\n",
            "test  に対する正解率： 0.8973013493253373\n"
          ]
        }
      ]
    },
    {
      "cell_type": "markdown",
      "source": [
        "#55. 混同行列の作成\n",
        "52で学習したロジスティック回帰モデルの混同行列（confusion matrix）を，学習データおよび評価データ上で作成せよ．"
      ],
      "metadata": {
        "id": "uEP2EP3xW2nm"
      }
    },
    {
      "cell_type": "code",
      "source": [
        "print('train に対する混同行列\\n', confusion_matrix(y_true=y_train, y_pred=y_pred_train), '\\n')\n",
        "print('test  に対する混同行列\\n', confusion_matrix(y_true=y_test, y_pred=y_pred_test))"
      ],
      "metadata": {
        "colab": {
          "base_uri": "https://localhost:8080/"
        },
        "id": "EZJ82TFDW6OU",
        "outputId": "4954d2c3-d695-4151-aea6-55e9ffaf10e6"
      },
      "execution_count": null,
      "outputs": [
        {
          "output_type": "stream",
          "name": "stdout",
          "text": [
            "train に対する混同行列\n",
            " [[   0    0    1    0    0]\n",
            " [   0 4410   60    4   29]\n",
            " [   0   21 4165    0    6]\n",
            " [   0   84  127  540    5]\n",
            " [   0  159  128    2  931]] \n",
            "\n",
            "test  に対する混同行列\n",
            " [[540  20   2  13]\n",
            " [ 10 522   0   0]\n",
            " [ 14  22  41   0]\n",
            " [ 29  26   1  94]]\n"
          ]
        }
      ]
    },
    {
      "cell_type": "markdown",
      "source": [
        "#56. 適合率，再現率，F1スコアの計測\n",
        "52で学習したロジスティック回帰モデルの適合率，再現率，F1スコアを，評価データ上で計測せよ．カテゴリごとに適合率，再現率，F1スコアを求め，カテゴリごとの性能をマイクロ平均（micro-average）とマクロ平均（macro-average）で統合せよ．"
      ],
      "metadata": {
        "id": "5tqONZW0W9Hf"
      }
    },
    {
      "cell_type": "code",
      "source": [
        "print(classification_report(y_true=y_test, y_pred=y_pred_test))"
      ],
      "metadata": {
        "colab": {
          "base_uri": "https://localhost:8080/"
        },
        "id": "nYxu992s4MaC",
        "outputId": "3cf6ce2e-abee-498c-fe59-4d1a994ccc53"
      },
      "execution_count": null,
      "outputs": [
        {
          "output_type": "stream",
          "name": "stdout",
          "text": [
            "              precision    recall  f1-score   support\n",
            "\n",
            "           b       0.91      0.94      0.92       575\n",
            "           e       0.88      0.98      0.93       532\n",
            "           m       0.93      0.53      0.68        77\n",
            "           t       0.88      0.63      0.73       150\n",
            "\n",
            "    accuracy                           0.90      1334\n",
            "   macro avg       0.90      0.77      0.82      1334\n",
            "weighted avg       0.90      0.90      0.89      1334\n",
            "\n"
          ]
        }
      ]
    },
    {
      "cell_type": "markdown",
      "source": [
        "#57. 特徴量の重みの確認\n",
        "52で学習したロジスティック回帰モデルの中で，重みの高い特徴量トップ10と，重みの低い特徴量トップ10を確認せよ．"
      ],
      "metadata": {
        "id": "JburWqNYXAVb"
      }
    },
    {
      "cell_type": "code",
      "source": [
        "import numpy\n",
        "numpy.set_printoptions(threshold=numpy.inf)"
      ],
      "metadata": {
        "id": "-ISlPNC07kKA"
      },
      "execution_count": null,
      "outputs": []
    },
    {
      "cell_type": "code",
      "source": [
        "for coef in model.coef_:\n",
        "    sorted_coef = sorted(coef)\n",
        "    print(\"重みの高い特徴量トップ10 :\", sorted_coef[-10:])\n",
        "    print(\"重みの低い特徴量トップ10 :\", sorted_coef[:10])\n",
        "    print()\n",
        "# print(\"学習したバイアス\", model.intercept_)"
      ],
      "metadata": {
        "colab": {
          "base_uri": "https://localhost:8080/"
        },
        "id": "ErNBtPvPXDVb",
        "outputId": "e397cf91-df23-4acf-ac65-50e809090e48"
      },
      "execution_count": null,
      "outputs": [
        {
          "output_type": "stream",
          "name": "stdout",
          "text": [
            "重みの高い特徴量トップ10 : [0.028670570710295683, 0.03702757434792567, 0.18326935547984113, 0.19650771919825152, 0.3454209931254323, 0.3587487928144615, 0.4076545356810816, 0.45307865677809, 0.47969263495340264, 0.5008424858369815]\n",
            "重みの低い特徴量トップ10 : [3.3586381534302246e-05, 3.3605077744802134e-05, 3.408136964771674e-05, 3.477939729722706e-05, 3.477939729722706e-05, 3.477939729722706e-05, 3.477939729722706e-05, 3.4974641157180314e-05, 3.502360033087084e-05, 3.520575044755973e-05]\n",
            "\n",
            "重みの高い特徴量トップ10 : [2.5317139235367367, 2.61444110680597, 2.665004692429041, 2.7385823206069277, 2.842116292412897, 3.172132349863412, 3.295108233194141, 3.436894675833327, 3.484870356220901, 3.553659872314125]\n",
            "重みの低い特徴量トップ10 : [-2.266228091276708, -2.257652966932237, -2.032216486356711, -1.9395013413427094, -1.9047909185332583, -1.8976351974044114, -1.8174456566746096, -1.7861039334232094, -1.7791173453246394, -1.7464239968968562]\n",
            "\n",
            "重みの高い特徴量トップ10 : [2.3116248574181912, 2.3161550662881925, 2.479476011407898, 2.4916402743050394, 2.5131326368880034, 2.5185622971906594, 2.6321386099597825, 2.6829638630341313, 2.735354194583195, 3.304224260418381]\n",
            "重みの低い特徴量トップ10 : [-3.5707227077604533, -3.2876906561817822, -2.8859316480024972, -2.595348450784922, -2.2977205460827563, -2.2403390697517014, -2.164762263890383, -2.0717049296198327, -2.067450429854324, -2.027836227525764]\n",
            "\n",
            "重みの高い特徴量トップ10 : [2.327221284693021, 2.3964256641576167, 2.4521014729069672, 2.460087245328583, 3.203728269428745, 3.2197246007556117, 3.7434244354502573, 3.8662636280184537, 4.070985424929215, 4.7313482070147845]\n",
            "重みの低い特徴量トップ10 : [-1.0929408157117948, -1.0336989106502719, -1.0116206689242901, -0.9327634868712704, -0.8861587855869554, -0.8642755467010586, -0.8626047193640876, -0.8347743692860741, -0.833586203016318, -0.8098074494829279]\n",
            "\n",
            "重みの高い特徴量トップ10 : [2.5230427269389697, 2.5497967662628716, 2.625957526480963, 2.6896716431940058, 3.1223628597447073, 3.654986637521544, 3.6581809049166663, 4.814122791586844, 4.898760698894282, 5.492936550718123]\n",
            "重みの低い特徴量トップ10 : [-1.3090589614420673, -1.1249907614494934, -1.0531870261014555, -0.9969464417788209, -0.9930126477031561, -0.9764608856075281, -0.9649724711145214, -0.9487234599098122, -0.9468503920972113, -0.9344340124072656]\n",
            "\n"
          ]
        }
      ]
    },
    {
      "cell_type": "markdown",
      "source": [
        "#58. 正則化パラメータの変更\n",
        "ロジスティック回帰モデルを学習するとき，正則化パラメータを調整することで，学習時の過学習（overfitting）の度合いを制御できる．異なる正則化パラメータでロジスティック回帰モデルを学習し，学習データ，検証データ，および評価データ上の正解率を求めよ．実験の結果は，正則化パラメータを横軸，正解率を縦軸としたグラフにまとめよ．"
      ],
      "metadata": {
        "id": "FsvmOwF3XD4H"
      }
    },
    {
      "cell_type": "code",
      "source": [
        "!pip install japanize-matplotlib "
      ],
      "metadata": {
        "colab": {
          "base_uri": "https://localhost:8080/"
        },
        "id": "OWE_h6FWBIeT",
        "outputId": "59e07e87-1ca7-470a-90a8-df4bdc779425"
      },
      "execution_count": null,
      "outputs": [
        {
          "output_type": "stream",
          "name": "stdout",
          "text": [
            "Looking in indexes: https://pypi.org/simple, https://us-python.pkg.dev/colab-wheels/public/simple/\n",
            "Collecting japanize-matplotlib\n",
            "  Downloading japanize-matplotlib-1.1.3.tar.gz (4.1 MB)\n",
            "\u001b[2K     \u001b[90m━━━━━━━━━━━━━━━━━━━━━━━━━━━━━━━━━━━━━━━━\u001b[0m \u001b[32m4.1/4.1 MB\u001b[0m \u001b[31m21.1 MB/s\u001b[0m eta \u001b[36m0:00:00\u001b[0m\n",
            "\u001b[?25h  Preparing metadata (setup.py) ... \u001b[?25l\u001b[?25hdone\n",
            "Requirement already satisfied: matplotlib in /usr/local/lib/python3.8/dist-packages (from japanize-matplotlib) (3.5.3)\n",
            "Requirement already satisfied: kiwisolver>=1.0.1 in /usr/local/lib/python3.8/dist-packages (from matplotlib->japanize-matplotlib) (1.4.4)\n",
            "Requirement already satisfied: packaging>=20.0 in /usr/local/lib/python3.8/dist-packages (from matplotlib->japanize-matplotlib) (23.0)\n",
            "Requirement already satisfied: cycler>=0.10 in /usr/local/lib/python3.8/dist-packages (from matplotlib->japanize-matplotlib) (0.11.0)\n",
            "Requirement already satisfied: pyparsing>=2.2.1 in /usr/local/lib/python3.8/dist-packages (from matplotlib->japanize-matplotlib) (3.0.9)\n",
            "Requirement already satisfied: fonttools>=4.22.0 in /usr/local/lib/python3.8/dist-packages (from matplotlib->japanize-matplotlib) (4.38.0)\n",
            "Requirement already satisfied: numpy>=1.17 in /usr/local/lib/python3.8/dist-packages (from matplotlib->japanize-matplotlib) (1.22.4)\n",
            "Requirement already satisfied: pillow>=6.2.0 in /usr/local/lib/python3.8/dist-packages (from matplotlib->japanize-matplotlib) (7.1.2)\n",
            "Requirement already satisfied: python-dateutil>=2.7 in /usr/local/lib/python3.8/dist-packages (from matplotlib->japanize-matplotlib) (2.8.2)\n",
            "Requirement already satisfied: six>=1.5 in /usr/local/lib/python3.8/dist-packages (from python-dateutil>=2.7->matplotlib->japanize-matplotlib) (1.15.0)\n",
            "Building wheels for collected packages: japanize-matplotlib\n",
            "  Building wheel for japanize-matplotlib (setup.py) ... \u001b[?25l\u001b[?25hdone\n",
            "  Created wheel for japanize-matplotlib: filename=japanize_matplotlib-1.1.3-py3-none-any.whl size=4120275 sha256=98e00a39c16b76cfb68a1fcbb8a54fb7b211471ba814aa87df2c1f4649a62e23\n",
            "  Stored in directory: /root/.cache/pip/wheels/4f/ca/96/4cc5e192421cceb077fbf4ffec533382edd416fd3fa0af0bbd\n",
            "Successfully built japanize-matplotlib\n",
            "Installing collected packages: japanize-matplotlib\n",
            "Successfully installed japanize-matplotlib-1.1.3\n"
          ]
        }
      ]
    },
    {
      "cell_type": "code",
      "source": [
        "import matplotlib.pyplot as plt\n",
        "import japanize_matplotlib\n",
        "\n",
        "train_acc = []\n",
        "valid_acc = []\n",
        "test_acc = []\n",
        "\n",
        "C = [0.1, 1, 5, 10, 100]\n",
        "\n",
        "for c in C:\n",
        "    # 学習\n",
        "    model = LogisticRegression(C=c) \n",
        "    model.fit(x_train, y_train)\n",
        "\n",
        "    # 推論\n",
        "    y_pred_train = model.predict(x_train)\n",
        "    y_pred_valid = model.predict(x_valid)\n",
        "    y_pred_test = model.predict(x_test)\n",
        "\n",
        "    # 正解率\n",
        "    train_acc.append(accuracy_score(y_true=y_train, y_pred=y_pred_train))\n",
        "    valid_acc.append(accuracy_score(y_true=y_valid, y_pred=y_pred_valid))\n",
        "    test_acc.append(accuracy_score(y_true=y_test, y_pred=y_pred_test))\n",
        "    print(\"正則化パラメータ : \", c)\n",
        "    print('train に対する正解率：', accuracy_score(y_true=y_train, y_pred=y_pred_train))\n",
        "    print('valid に対する正解率：', accuracy_score(y_true=y_valid, y_pred=y_pred_valid))\n",
        "    print('test  に対する正解率：', accuracy_score(y_true=y_test, y_pred=y_pred_test))\n",
        "    print()\n",
        "\n",
        "\n",
        "plt.plot(C, train_acc, label=\"訓練データ\")\n",
        "plt.plot(C, valid_acc, label=\"検証データ\")\n",
        "plt.plot(C, test_acc, label=\"評価データ\") \n",
        "\n",
        "plt.legend(loc=\"lower left\") \n",
        "plt.xlabel(\"正則化パラメータ\")\n",
        "plt.ylabel(\"正解率\")\n",
        "plt.show()\n"
      ],
      "metadata": {
        "colab": {
          "base_uri": "https://localhost:8080/",
          "height": 1000
        },
        "id": "lIan2km2XFkN",
        "outputId": "aec33fd1-82f7-466e-d553-e7b970932f60"
      },
      "execution_count": null,
      "outputs": [
        {
          "output_type": "stream",
          "name": "stdout",
          "text": [
            "正則化パラメータ :  0.1\n",
            "train に対する正解率： 0.7872938530734632\n",
            "valid に対する正解率： 0.787856071964018\n",
            "test  に対する正解率： 0.7998500749625187\n",
            "\n"
          ]
        },
        {
          "output_type": "stream",
          "name": "stderr",
          "text": [
            "/usr/local/lib/python3.8/dist-packages/sklearn/linear_model/_logistic.py:814: ConvergenceWarning: lbfgs failed to converge (status=1):\n",
            "STOP: TOTAL NO. of ITERATIONS REACHED LIMIT.\n",
            "\n",
            "Increase the number of iterations (max_iter) or scale the data as shown in:\n",
            "    https://scikit-learn.org/stable/modules/preprocessing.html\n",
            "Please also refer to the documentation for alternative solver options:\n",
            "    https://scikit-learn.org/stable/modules/linear_model.html#logistic-regression\n",
            "  n_iter_i = _check_optimize_result(\n"
          ]
        },
        {
          "output_type": "stream",
          "name": "stdout",
          "text": [
            "正則化パラメータ :  1\n",
            "train に対する正解率： 0.9413418290854573\n",
            "valid に対する正解率： 0.8935532233883059\n",
            "test  に対する正解率： 0.8973013493253373\n",
            "\n"
          ]
        },
        {
          "output_type": "stream",
          "name": "stderr",
          "text": [
            "/usr/local/lib/python3.8/dist-packages/sklearn/linear_model/_logistic.py:814: ConvergenceWarning: lbfgs failed to converge (status=1):\n",
            "STOP: TOTAL NO. of ITERATIONS REACHED LIMIT.\n",
            "\n",
            "Increase the number of iterations (max_iter) or scale the data as shown in:\n",
            "    https://scikit-learn.org/stable/modules/preprocessing.html\n",
            "Please also refer to the documentation for alternative solver options:\n",
            "    https://scikit-learn.org/stable/modules/linear_model.html#logistic-regression\n",
            "  n_iter_i = _check_optimize_result(\n"
          ]
        },
        {
          "output_type": "stream",
          "name": "stdout",
          "text": [
            "正則化パラメータ :  5\n",
            "train に対する正解率： 0.9947526236881559\n",
            "valid に対する正解率： 0.9130434782608695\n",
            "test  に対する正解率： 0.9227886056971514\n",
            "\n"
          ]
        },
        {
          "output_type": "stream",
          "name": "stderr",
          "text": [
            "/usr/local/lib/python3.8/dist-packages/sklearn/linear_model/_logistic.py:814: ConvergenceWarning: lbfgs failed to converge (status=1):\n",
            "STOP: TOTAL NO. of ITERATIONS REACHED LIMIT.\n",
            "\n",
            "Increase the number of iterations (max_iter) or scale the data as shown in:\n",
            "    https://scikit-learn.org/stable/modules/preprocessing.html\n",
            "Please also refer to the documentation for alternative solver options:\n",
            "    https://scikit-learn.org/stable/modules/linear_model.html#logistic-regression\n",
            "  n_iter_i = _check_optimize_result(\n"
          ]
        },
        {
          "output_type": "stream",
          "name": "stdout",
          "text": [
            "正則化パラメータ :  10\n",
            "train に対する正解率： 0.9984070464767616\n",
            "valid に対する正解率： 0.9152923538230885\n",
            "test  に対する正解率： 0.9250374812593704\n",
            "\n"
          ]
        },
        {
          "output_type": "stream",
          "name": "stderr",
          "text": [
            "/usr/local/lib/python3.8/dist-packages/sklearn/linear_model/_logistic.py:814: ConvergenceWarning: lbfgs failed to converge (status=1):\n",
            "STOP: TOTAL NO. of ITERATIONS REACHED LIMIT.\n",
            "\n",
            "Increase the number of iterations (max_iter) or scale the data as shown in:\n",
            "    https://scikit-learn.org/stable/modules/preprocessing.html\n",
            "Please also refer to the documentation for alternative solver options:\n",
            "    https://scikit-learn.org/stable/modules/linear_model.html#logistic-regression\n",
            "  n_iter_i = _check_optimize_result(\n"
          ]
        },
        {
          "output_type": "stream",
          "name": "stdout",
          "text": [
            "正則化パラメータ :  100\n",
            "train に対する正解率： 0.9993440779610195\n",
            "valid に対する正解率： 0.9182908545727136\n",
            "test  に対する正解率： 0.9355322338830585\n",
            "\n"
          ]
        },
        {
          "output_type": "display_data",
          "data": {
            "text/plain": [
              "<Figure size 432x288 with 1 Axes>"
            ],
            "image/png": "[encoded data removed]"
          },
          "metadata": {
            "needs_background": "light"
          }
        }
      ]
    },
    {
      "cell_type": "markdown",
      "source": [
        "#59. ハイパーパラメータの探索\n",
        "学習アルゴリズムや学習パラメータを変えながら，カテゴリ分類モデルを学習せよ．検証データ上の正解率が最も高くなる学習アルゴリズム・パラメータを求めよ．また，その学習アルゴリズム・パラメータを用いたときの評価データ上の正解率を求めよ．"
      ],
      "metadata": {
        "id": "fyhxsgv0XF8W"
      }
    },
    {
      "cell_type": "markdown",
      "source": [
        "https://qiita.com/monda00/items/9dd3158e07305eefa121\n"
      ],
      "metadata": {
        "id": "qo_dyJ3CEIbg"
      }
    },
    {
      "cell_type": "code",
      "source": [
        "from sklearn.neighbors import KNeighborsClassifier\n",
        "\n",
        "best_acc = 0\n",
        "best_c = 0\n",
        "best_i = 0\n",
        "\n",
        "C = [0.1, 1, 5, 10, 100]\n",
        "max_iter = [50, 100, 200]\n",
        "\n",
        "for c in C:\n",
        "    for i in max_iter:\n",
        "        # 学習\n",
        "        model = LogisticRegression(C=c, max_iter=i) \n",
        "        model.fit(x_train, y_train)\n",
        "\n",
        "        # 推論\n",
        "        y_pred_valid = model.predict(x_valid)\n",
        "        \n",
        "        # 正解率\n",
        "        acc = accuracy_score(y_true=y_valid, y_pred=y_pred_valid)\n",
        "        print(\"正則化パラメータ : \", c, '\\t', \"最大イテレータ : \", i)\n",
        "        print('valid に対する正解率：', acc)\n",
        "        print()\n",
        "\n",
        "        if best_acc < acc:\n",
        "            best_acc = acc\n",
        "            best_c = c\n",
        "            best_i = i\n",
        "    \n",
        "print(\"valid に対して最適なパラメータ : \", best_c, '\\t', best_i)\n",
        "print(\"その時の正解率 : \", best_acc, \"\\n\")\n",
        "    \n",
        "\n",
        "\n",
        "# K-近傍法\n",
        "model = KNeighborsClassifier(n_neighbors=4)\n",
        "model.fit(x_train, y_train)\n",
        "k_acc = model.score(x_valid, y_valid)\n",
        "print('valid に対する正解率 : ', k_acc, '\\n')\n",
        "\n",
        "\n",
        "if k_acc > best_acc: # 検証データに対する正解率の比較\n",
        "    print('検証データ上の正解率が最も高くなる学習アルゴリズム・パラメータ : K-近傍法')\n",
        "    print('test  に対する正解率 : ', model.score(x_test, y_test), \"\\n\")\n",
        "\n",
        "else :\n",
        "    # 推論\n",
        "    print('検証データ上の正解率が最も高くなる学習アルゴリズム・パラメータ : ロジスティック回帰, C=',best_c, \"max_iter=\", best_i)\n",
        "    model = LogisticRegression(C=best_c, max_iter=best_i) \n",
        "    model.fit(x_train, y_train)\n",
        "    y_pred_test = model.predict(x_test)\n",
        "    print('test に対する正解率(ロジスティック回帰) : ', model.score(x_test, y_test), \"\\n\")"
      ],
      "metadata": {
        "colab": {
          "base_uri": "https://localhost:8080/"
        },
        "id": "51320jpgXIje",
        "outputId": "7c265798-9024-4a57-d0e7-c21e0f7e0fb9"
      },
      "execution_count": null,
      "outputs": [
        {
          "output_type": "stream",
          "name": "stdout",
          "text": [
            "正則化パラメータ :  0.1 \t 最大イテレータ :  50\n",
            "valid に対する正解率： 0.7901049475262368\n",
            "\n",
            "正則化パラメータ :  0.1 \t 最大イテレータ :  100\n",
            "valid に対する正解率： 0.787856071964018\n",
            "\n",
            "正則化パラメータ :  0.1 \t 最大イテレータ :  200\n",
            "valid に対する正解率： 0.787856071964018\n",
            "\n",
            "正則化パラメータ :  1 \t 最大イテレータ :  50\n",
            "valid に対する正解率： 0.8943028485757122\n",
            "\n",
            "正則化パラメータ :  1 \t 最大イテレータ :  100\n",
            "valid に対する正解率： 0.8935532233883059\n",
            "\n",
            "正則化パラメータ :  1 \t 最大イテレータ :  200\n",
            "valid に対する正解率： 0.8935532233883059\n",
            "\n",
            "正則化パラメータ :  5 \t 最大イテレータ :  50\n",
            "valid に対する正解率： 0.9085457271364318\n",
            "\n",
            "正則化パラメータ :  5 \t 最大イテレータ :  100\n",
            "valid に対する正解率： 0.9130434782608695\n",
            "\n",
            "正則化パラメータ :  5 \t 最大イテレータ :  200\n",
            "valid に対する正解率： 0.9107946026986506\n",
            "\n",
            "正則化パラメータ :  10 \t 最大イテレータ :  50\n",
            "valid に対する正解率： 0.9130434782608695\n",
            "\n",
            "正則化パラメータ :  10 \t 最大イテレータ :  100\n",
            "valid に対する正解率： 0.9152923538230885\n",
            "\n",
            "正則化パラメータ :  10 \t 最大イテレータ :  200\n",
            "valid に対する正解率： 0.9145427286356822\n",
            "\n",
            "正則化パラメータ :  100 \t 最大イテレータ :  50\n",
            "valid に対する正解率： 0.9100449775112444\n",
            "\n",
            "正則化パラメータ :  100 \t 最大イテレータ :  100\n",
            "valid に対する正解率： 0.9182908545727136\n",
            "\n",
            "正則化パラメータ :  100 \t 最大イテレータ :  200\n",
            "valid に対する正解率： 0.9212893553223388\n",
            "\n",
            "valid に対して最適なパラメータ :  100 \t 200\n",
            "その時の正解率 :  0.9212893553223388 \n",
            "\n",
            "valid に対する正解率 :  0.8958020989505248 \n",
            "\n",
            "検証データ上の正解率が最も高くなる学習アルゴリズム・パラメータ : ロジスティック回帰, C= 100 max_iter= 200\n",
            "test に対する正解率(ロジスティック回帰) :  0.9355322338830585 \n",
            "\n"
          ]
        }
      ]
    }
  ]
}