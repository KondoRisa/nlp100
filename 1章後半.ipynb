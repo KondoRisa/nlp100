{
  "nbformat": 4,
  "nbformat_minor": 0,
  "metadata": {
    "colab": {
      "provenance": []
    },
    "kernelspec": {
      "name": "python3",
      "display_name": "Python 3"
    },
    "language_info": {
      "name": "python"
    }
  },
  "cells": [
    {
      "cell_type": "markdown",
      "source": [
        "#05. n-gram\n",
        "与えられたシーケンス（文字列やリストなど）からn-gramを作る関数を作成せよ．この関数を用い，”I am an NLPer”という文から単語bi-gram，文字bi-gramを得よ．"
      ],
      "metadata": {
        "id": "oNSig9bAb5xv"
      }
    },
    {
      "cell_type": "code",
      "source": [
        "import re\n",
        "\n",
        "def ngram(text, n):\n",
        "    word1 = text.split(' ') #単語に分解\n",
        "    word2 = re.sub(\" \", \"\", text) #\" \"を除去\n",
        "\n",
        "    list1 = []\n",
        "    list2 = []\n",
        "    \n",
        "    #単語n-gram\n",
        "    for i in range(len(word1)-n+1):\n",
        "        cnt = i\n",
        "        addword = ''\n",
        "        for j in range(n):\n",
        "            if cnt - i == n-1:\n",
        "                addword += word1[cnt]\n",
        "            else:\n",
        "                addword += word1[cnt] + \" \"\n",
        "            cnt += 1\n",
        "        list1.append(addword)\n",
        "\n",
        "    #文字n-gram\n",
        "    for i in range(len(word2)-n+1):\n",
        "        cnt = i\n",
        "        addword = ''\n",
        "        for j in range(n):\n",
        "            if cnt - i == n-1:\n",
        "                addword += word2[cnt]\n",
        "            else:\n",
        "                addword += word2[cnt] + \" \"\n",
        "            cnt += 1\n",
        "        list2.append(addword)\n",
        "\n",
        "    print(\"単語bi-gram：\" + str(list1))\n",
        "    print(\"文字bi-gram：\" + str(list2))"
      ],
      "metadata": {
        "id": "sL4cXvYIb4zK"
      },
      "execution_count": 15,
      "outputs": []
    },
    {
      "cell_type": "code",
      "execution_count": 16,
      "metadata": {
        "colab": {
          "base_uri": "https://localhost:8080/"
        },
        "id": "PErla6VWb0Ad",
        "outputId": "a319fc2b-4de8-485d-badc-6fed93794258"
      },
      "outputs": [
        {
          "output_type": "stream",
          "name": "stdout",
          "text": [
            "単語bi-gram：['I am an', 'am an NLPer']\n",
            "文字bi-gram：['I a m', 'a m a', 'm a n', 'a n N', 'n N L', 'N L P', 'L P e', 'P e r']\n"
          ]
        }
      ],
      "source": [
        "text = 'I am an NLPer'\n",
        "ngram(text, 3)"
      ]
    },
    {
      "cell_type": "code",
      "source": [
        "import re\n",
        "\n",
        "def ngram(text, n):\n",
        "    word1 = text.split(' ') #単語に分解\n",
        "    word2 = re.sub(\" \", \"\", text) #\" \"を除去\n",
        "\n",
        "    list1 = []\n",
        "    list2 = []\n",
        "    \n",
        "    for i in range(len(word1)-n+1):\n",
        "        list1.append(word1[i] + \" \" + word1[i+1]) #単語n-gram\n",
        "    for i in range(len(word2)-n+1):\n",
        "        list2.append(word2[i] + \" \" + word2[i+1]) #文字n-gram\n",
        "\n",
        "    print(\"単語bi-gram：\" + str(list1))\n",
        "    print(\"文字bi-gram：\" + str(list2))"
      ],
      "metadata": {
        "id": "65JctArrcFUb"
      },
      "execution_count": 17,
      "outputs": []
    },
    {
      "cell_type": "code",
      "source": [
        "text = 'I am an NLPer'\n",
        "ngram(text, 2)"
      ],
      "metadata": {
        "colab": {
          "base_uri": "https://localhost:8080/"
        },
        "id": "Kxl0bGMhcHZ1",
        "outputId": "0352b2d6-2ae0-453b-aa13-0f45e6e0f107"
      },
      "execution_count": 18,
      "outputs": [
        {
          "output_type": "stream",
          "name": "stdout",
          "text": [
            "単語bi-gram：['I am', 'am an', 'an NLPer']\n",
            "文字bi-gram：['I a', 'a m', 'm a', 'a n', 'n N', 'N L', 'L P', 'P e', 'e r']\n"
          ]
        }
      ]
    },
    {
      "cell_type": "markdown",
      "source": [
        "#06. 集合\n",
        "“paraparaparadise”と”paragraph”に含まれる文字bi-gramの集合を，それぞれ, XとYとして求め，XとYの和集合，積集合，差集合を求めよ．さらに，’se’というbi-gramがXおよびYに含まれるかどうかを調べよ．"
      ],
      "metadata": {
        "id": "93dNNJ7vcSR2"
      }
    },
    {
      "cell_type": "code",
      "source": [
        "import re\n",
        "\n",
        "def WordBigram(text):\n",
        "    word = text.split(' ') #単語に分解\n",
        "    S = set()\n",
        "    for i in range(len(word)-1):\n",
        "        S.add(word[i] + \" \" + word[i+1])\n",
        "    return S\n",
        "\n",
        "def CharBigram(text):\n",
        "    word = re.sub(\" \", \"\", text) #\" \"を除去\n",
        "    S = set()\n",
        "    for i in range(len(word)-1):\n",
        "        S.add(word[i] + \" \" + word[i+1])\n",
        "    return S"
      ],
      "metadata": {
        "id": "EZ1kClJ3dVHF"
      },
      "execution_count": 19,
      "outputs": []
    },
    {
      "cell_type": "code",
      "source": [
        "text1 = 'paraparaparadise'\n",
        "text2 = 'paragraph'\n",
        "X = CharBigram(text1)\n",
        "Y = CharBigram(text2)\n",
        "print(X)\n",
        "print(Y)"
      ],
      "metadata": {
        "colab": {
          "base_uri": "https://localhost:8080/"
        },
        "id": "Ws_UIrYLdZJ7",
        "outputId": "5e89fd8a-e18b-4715-b333-ebd03ca0f9fb"
      },
      "execution_count": 20,
      "outputs": [
        {
          "output_type": "stream",
          "name": "stdout",
          "text": [
            "{'i s', 's e', 'a r', 'a d', 'd i', 'r a', 'p a', 'a p'}\n",
            "{'p h', 'a r', 'a g', 'r a', 'p a', 'a p', 'g r'}\n"
          ]
        }
      ]
    },
    {
      "cell_type": "code",
      "source": [
        "#和集合\n",
        "X|Y"
      ],
      "metadata": {
        "colab": {
          "base_uri": "https://localhost:8080/"
        },
        "id": "aIyXcH9RdbFW",
        "outputId": "73d18c63-22bb-4bf5-9a01-e45936d72e60"
      },
      "execution_count": 21,
      "outputs": [
        {
          "output_type": "execute_result",
          "data": {
            "text/plain": [
              "{'a d', 'a g', 'a p', 'a r', 'd i', 'g r', 'i s', 'p a', 'p h', 'r a', 's e'}"
            ]
          },
          "metadata": {},
          "execution_count": 21
        }
      ]
    },
    {
      "cell_type": "code",
      "source": [
        "#積集合\n",
        "X&Y"
      ],
      "metadata": {
        "colab": {
          "base_uri": "https://localhost:8080/"
        },
        "id": "WLmHdWu0dcsQ",
        "outputId": "5b4fff10-bfe8-45bd-eb0a-87bdcffcdcc5"
      },
      "execution_count": 22,
      "outputs": [
        {
          "output_type": "execute_result",
          "data": {
            "text/plain": [
              "{'a p', 'a r', 'p a', 'r a'}"
            ]
          },
          "metadata": {},
          "execution_count": 22
        }
      ]
    },
    {
      "cell_type": "code",
      "source": [
        "#差集合\n",
        "print(X-Y)\n",
        "print(Y-X)"
      ],
      "metadata": {
        "colab": {
          "base_uri": "https://localhost:8080/"
        },
        "id": "YVVqwCAddfBP",
        "outputId": "a4292b1f-a9df-47a6-c9c6-d43162049241"
      },
      "execution_count": 23,
      "outputs": [
        {
          "output_type": "stream",
          "name": "stdout",
          "text": [
            "{'i s', 'd i', 's e', 'a d'}\n",
            "{'g r', 'p h', 'a g'}\n"
          ]
        }
      ]
    },
    {
      "cell_type": "code",
      "source": [
        "'se' in X"
      ],
      "metadata": {
        "colab": {
          "base_uri": "https://localhost:8080/"
        },
        "id": "fb8iNEr6dhSv",
        "outputId": "8379e768-9edc-494d-ad20-bb2839834bea"
      },
      "execution_count": 24,
      "outputs": [
        {
          "output_type": "execute_result",
          "data": {
            "text/plain": [
              "False"
            ]
          },
          "metadata": {},
          "execution_count": 24
        }
      ]
    },
    {
      "cell_type": "code",
      "source": [
        "'se' in Y"
      ],
      "metadata": {
        "colab": {
          "base_uri": "https://localhost:8080/"
        },
        "id": "1CB2u-sadhyh",
        "outputId": "f1352142-37e2-4c69-8714-e4b6f1b412fa"
      },
      "execution_count": 25,
      "outputs": [
        {
          "output_type": "execute_result",
          "data": {
            "text/plain": [
              "False"
            ]
          },
          "metadata": {},
          "execution_count": 25
        }
      ]
    },
    {
      "cell_type": "markdown",
      "source": [
        "#07. テンプレートによる文生成\n",
        "引数x, y, zを受け取り「x時のyはz」という文字列を返す関数を実装せよ．さらに，x=12, y=”気温”, z=22.4として，実行結果を確認せよ．"
      ],
      "metadata": {
        "id": "o9ZtSlmtdpyN"
      }
    },
    {
      "cell_type": "code",
      "source": [
        "def remperature(x, y, z):\n",
        "    return '{}時の{}は{}'.format(x, y, z)"
      ],
      "metadata": {
        "id": "S5aEb8lUdqjb"
      },
      "execution_count": 26,
      "outputs": []
    },
    {
      "cell_type": "code",
      "source": [
        "x=12\n",
        "y=\"気温\"\n",
        "z=22.4\n",
        "print(remperature(x, y, z))"
      ],
      "metadata": {
        "colab": {
          "base_uri": "https://localhost:8080/"
        },
        "id": "ZUMORfAbdt8l",
        "outputId": "b6f633e0-95d5-4bc9-9c4b-2e90f07b22f0"
      },
      "execution_count": 27,
      "outputs": [
        {
          "output_type": "stream",
          "name": "stdout",
          "text": [
            "12時の気温は22.4\n"
          ]
        }
      ]
    },
    {
      "cell_type": "markdown",
      "source": [
        "#08. 暗号文\n",
        "与えられた文字列の各文字を，以下の仕様で変換する関数cipherを実装せよ．\n",
        "\n",
        "英小文字ならば(219 - 文字コード)の文字に置換\n",
        "その他の文字はそのまま出力\n",
        "この関数を用い，英語のメッセージを暗号化・復号化せよ．"
      ],
      "metadata": {
        "id": "qyR4CrytdxZ9"
      }
    },
    {
      "cell_type": "code",
      "source": [
        "def  cipher(char):\n",
        "    if 97 <= ord(char) and ord(char) <= 122:#英小文字\n",
        "        num = (219 - ord(char))\n",
        "        char_ = chr(num)\n",
        "    return char_ "
      ],
      "metadata": {
        "id": "MVNsg4N2dzpb"
      },
      "execution_count": 28,
      "outputs": []
    },
    {
      "cell_type": "code",
      "source": [
        "char = 'b'\n",
        "cipher(char)"
      ],
      "metadata": {
        "colab": {
          "base_uri": "https://localhost:8080/",
          "height": 35
        },
        "id": "Fkgl1Alyd1jU",
        "outputId": "1ba6d829-312d-438e-bda9-963d09b2f473"
      },
      "execution_count": 29,
      "outputs": [
        {
          "output_type": "execute_result",
          "data": {
            "text/plain": [
              "'y'"
            ],
            "application/vnd.google.colaboratory.intrinsic+json": {
              "type": "string"
            }
          },
          "metadata": {},
          "execution_count": 29
        }
      ]
    },
    {
      "cell_type": "code",
      "source": [
        "text = 'あabcAd1Dい家'\n",
        "text.encode('utf8')"
      ],
      "metadata": {
        "colab": {
          "base_uri": "https://localhost:8080/"
        },
        "id": "5XYDNyKZd6M8",
        "outputId": "24f9dd4c-5347-48fb-b3ee-c11fd428dae5"
      },
      "execution_count": 30,
      "outputs": [
        {
          "output_type": "execute_result",
          "data": {
            "text/plain": [
              "b'\\xe3\\x81\\x82abcAd1D\\xe3\\x81\\x84\\xe5\\xae\\xb6'"
            ]
          },
          "metadata": {},
          "execution_count": 30
        }
      ]
    },
    {
      "cell_type": "code",
      "source": [
        "b'\\xe3\\x81\\x82abcAd1D\\xe3\\x81\\x84\\xe5\\xae\\xb6'.decode('utf-8')"
      ],
      "metadata": {
        "colab": {
          "base_uri": "https://localhost:8080/",
          "height": 35
        },
        "id": "_dGu2ZI8eDMu",
        "outputId": "55451d77-392e-4fe1-857d-6a38ea2e11f6"
      },
      "execution_count": 31,
      "outputs": [
        {
          "output_type": "execute_result",
          "data": {
            "text/plain": [
              "'あabcAd1Dい家'"
            ],
            "application/vnd.google.colaboratory.intrinsic+json": {
              "type": "string"
            }
          },
          "metadata": {},
          "execution_count": 31
        }
      ]
    },
    {
      "cell_type": "code",
      "source": [
        "ord('A')"
      ],
      "metadata": {
        "colab": {
          "base_uri": "https://localhost:8080/"
        },
        "id": "M67ajDDSd93D",
        "outputId": "0c0371f2-5675-4a41-b858-f91021684ebe"
      },
      "execution_count": 32,
      "outputs": [
        {
          "output_type": "execute_result",
          "data": {
            "text/plain": [
              "65"
            ]
          },
          "metadata": {},
          "execution_count": 32
        }
      ]
    },
    {
      "cell_type": "code",
      "source": [
        "hex(ord('A'))"
      ],
      "metadata": {
        "colab": {
          "base_uri": "https://localhost:8080/",
          "height": 35
        },
        "id": "eZKKyGPreEW6",
        "outputId": "0bd7dc40-a8c6-4d8f-c826-a4489e6e0e7c"
      },
      "execution_count": 33,
      "outputs": [
        {
          "output_type": "execute_result",
          "data": {
            "text/plain": [
              "'0x41'"
            ],
            "application/vnd.google.colaboratory.intrinsic+json": {
              "type": "string"
            }
          },
          "metadata": {},
          "execution_count": 33
        }
      ]
    },
    {
      "cell_type": "code",
      "source": [
        "chr(0x41)"
      ],
      "metadata": {
        "colab": {
          "base_uri": "https://localhost:8080/",
          "height": 35
        },
        "id": "ek53q5FCeFG6",
        "outputId": "f73ca449-d3a8-48a3-80a7-f8c476675357"
      },
      "execution_count": 34,
      "outputs": [
        {
          "output_type": "execute_result",
          "data": {
            "text/plain": [
              "'A'"
            ],
            "application/vnd.google.colaboratory.intrinsic+json": {
              "type": "string"
            }
          },
          "metadata": {},
          "execution_count": 34
        }
      ]
    },
    {
      "cell_type": "code",
      "source": [
        "chr(0x61) #97-122"
      ],
      "metadata": {
        "colab": {
          "base_uri": "https://localhost:8080/",
          "height": 35
        },
        "id": "MgULkdgDeGw9",
        "outputId": "c303b314-7e09-406b-e6b3-e06c0eca6f0f"
      },
      "execution_count": 35,
      "outputs": [
        {
          "output_type": "execute_result",
          "data": {
            "text/plain": [
              "'a'"
            ],
            "application/vnd.google.colaboratory.intrinsic+json": {
              "type": "string"
            }
          },
          "metadata": {},
          "execution_count": 35
        }
      ]
    },
    {
      "cell_type": "markdown",
      "source": [
        "#09. Typoglycemia\n",
        "スペースで区切られた単語列に対して，各単語の先頭と末尾の文字は残し，それ以外の文字の順序をランダムに並び替えるプログラムを作成せよ．\n",
        "\n",
        "ただし，長さが４以下の単語は並び替えないこととする．\n",
        "\n",
        "適当な英語の文（例えば”I couldn’t believe that I could actually understand what I was reading : the phenomenal power of the human mind .”）を与え，その実行結果を確認せよ．"
      ],
      "metadata": {
        "id": "5DpHChKqeI1M"
      }
    },
    {
      "cell_type": "code",
      "source": [
        "import random\n",
        "\n",
        "words = []\n",
        "def acquisition(word):\n",
        "    for str in word:\n",
        "        middle = str[1:-1]\n",
        "        if len(str) > 2:\n",
        "            middle = random.sample(str[1:-1], len(str)-2)\n",
        "            middle = ''.join(middle)\n",
        "            end = str[-1]\n",
        "        if len(str) == 1:\n",
        "            end = ''\n",
        "        first = str[0]\n",
        "        words.append(first + middle + end)"
      ],
      "metadata": {
        "id": "vl21s__KeM5v"
      },
      "execution_count": 36,
      "outputs": []
    },
    {
      "cell_type": "code",
      "source": [
        "text = \"I couldn’t believe that I could actually understand what I was reading : the phenomenal power of the human mind .\"\n",
        "word = text.split(' ') #単語に分割\n",
        "acquisition(word)\n",
        "words"
      ],
      "metadata": {
        "colab": {
          "base_uri": "https://localhost:8080/"
        },
        "id": "2NE5M7dCeZJt",
        "outputId": "c0553a85-c3b5-4f40-91b1-6f3dd9ebfb21"
      },
      "execution_count": 37,
      "outputs": [
        {
          "output_type": "execute_result",
          "data": {
            "text/plain": [
              "['I',\n",
              " 'cnold’ut',\n",
              " 'bievlee',\n",
              " 'taht',\n",
              " 'I',\n",
              " 'culod',\n",
              " 'altlucay',\n",
              " 'unsreandtd',\n",
              " 'what',\n",
              " 'I',\n",
              " 'was',\n",
              " 'riaedng',\n",
              " ':',\n",
              " 'the',\n",
              " 'pahmenonel',\n",
              " 'poewr',\n",
              " 'or',\n",
              " 'the',\n",
              " 'haumn',\n",
              " 'mnid',\n",
              " '.']"
            ]
          },
          "metadata": {},
          "execution_count": 37
        }
      ]
    }
  ]
}